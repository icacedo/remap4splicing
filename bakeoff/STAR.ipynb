{
 "cells": [
  {
   "cell_type": "code",
   "execution_count": null,
   "id": "9610802c-cb01-4322-b2dd-3daed76e5379",
   "metadata": {},
   "outputs": [],
   "source": []
  },
  {
   "cell_type": "markdown",
   "id": "ffafe1d4",
   "metadata": {},
   "source": [
    "https://hbctraining.github.io/Intro-to-rnaseq-hpc-O2/lessons/03_alignment.html\n",
    "STAR is a splice aware aligner"
   ]
  }
 ],
 "metadata": {
  "kernelspec": {
   "display_name": "Python 3 (ipykernel)",
   "language": "python",
   "name": "python3"
  },
  "language_info": {
   "codemirror_mode": {
    "name": "ipython",
    "version": 3
   },
   "file_extension": ".py",
   "mimetype": "text/x-python",
   "name": "python",
   "nbconvert_exporter": "python",
   "pygments_lexer": "ipython3",
   "version": "3.12.3"
  }
 },
 "nbformat": 4,
 "nbformat_minor": 5
}
