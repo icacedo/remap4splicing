{
 "cells": [
  {
   "cell_type": "markdown",
   "metadata": {},
   "source": [
    "Need to figure out wich reads aligned, and remove those that did not from the original fasta files.\n",
    "https://davetang.org/wiki/tiki-index.php?page=SAMTools"
   ]
  },
  {
   "cell_type": "code",
   "execution_count": 2,
   "metadata": {},
   "outputs": [
    {
     "name": "stderr",
     "output_type": "stream",
     "text": [
      "636.41s - pydevd: Sending message related to process being replaced timed-out after 5 seconds\n"
     ]
    }
   ],
   "source": [
    "# converts sam to bam\n",
    "# -b converts to bam, -S ignores compatibility?\n",
    "! samtools view -bS ERR13244179.sam > test.bam"
   ]
  },
  {
   "cell_type": "code",
   "execution_count": 1,
   "metadata": {},
   "outputs": [],
   "source": [
    "# sort bam file\n",
    "! samtools sort test.bam -o sorted.bam"
   ]
  },
  {
   "cell_type": "markdown",
   "metadata": {},
   "source": [
    "Note that you can visualize bai files in an Integrative Genomics Viewer"
   ]
  },
  {
   "cell_type": "code",
   "execution_count": 2,
   "metadata": {},
   "outputs": [],
   "source": [
    "# filter unmapped reads\n",
    "! samtools view -h -F 4 test.bam > only_mapped.sam"
   ]
  }
 ],
 "metadata": {
  "kernelspec": {
   "display_name": "txomics",
   "language": "python",
   "name": "python3"
  },
  "language_info": {
   "codemirror_mode": {
    "name": "ipython",
    "version": 3
   },
   "file_extension": ".py",
   "mimetype": "text/x-python",
   "name": "python",
   "nbconvert_exporter": "python",
   "pygments_lexer": "ipython3",
   "version": "3.12.3"
  }
 },
 "nbformat": 4,
 "nbformat_minor": 2
}
