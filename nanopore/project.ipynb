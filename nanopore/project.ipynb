{
 "cells": [
  {
   "cell_type": "markdown",
   "metadata": {},
   "source": [
    "Testing the minimap2 aligner\n",
    "use conda environment \"txomics\"\n",
    "download latest version using conda\n",
    "You need to open vscode after switching to txomics environment and remap folder in the terminal"
   ]
  },
  {
   "cell_type": "code",
   "execution_count": 2,
   "metadata": {},
   "outputs": [
    {
     "name": "stdout",
     "output_type": "stream",
     "text": [
      "2.28-r1209\n"
     ]
    }
   ],
   "source": [
    "! minimap2 --version"
   ]
  },
  {
   "cell_type": "markdown",
   "metadata": {},
   "source": [
    "Download some test FASTQ files\n",
    "From Roach et. al., 2020\n",
    "ERR3245465, L1 rep 2\n",
    "ERR3245468, L3 rep 1\n",
    "Download from ENA FTP server"
   ]
  },
  {
   "cell_type": "code",
   "execution_count": 3,
   "metadata": {
    "scrolled": true
   },
   "outputs": [
    {
     "name": "stdout",
     "output_type": "stream",
     "text": [
      "--2024-10-25 14:14:33--  ftp://ftp.sra.ebi.ac.uk/vol1/fastq/ERR324/005/ERR3245465/ERR3245465.fastq.gz\n",
      "           => ‘ERR3245465.fastq.gz’\n",
      "Resolving ftp.sra.ebi.ac.uk (ftp.sra.ebi.ac.uk)... 193.62.193.165\n",
      "Connecting to ftp.sra.ebi.ac.uk (ftp.sra.ebi.ac.uk)|193.62.193.165|:21... connected.\n",
      "Logging in as anonymous ... Logged in!\n",
      "==> SYST ... done.    ==> PWD ... done.\n",
      "==> TYPE I ... done.  ==> CWD (1) /vol1/fastq/ERR324/005/ERR3245465 ... done.\n",
      "==> SIZE ERR3245465.fastq.gz ... 479203040\n",
      "==> PASV ... done.    ==> RETR ERR3245465.fastq.gz ... done.\n",
      "Length: 479203040 (457M) (unauthoritative)\n",
      "\n",
      "ERR3245465.fastq.gz 100%[===================>] 457.00M  2.78MB/s    in 2m 26s  \n",
      "\n",
      "2024-10-25 14:17:03 (3.13 MB/s) - ‘ERR3245465.fastq.gz’ saved [479203040]\n",
      "\n",
      "--2024-10-25 14:17:03--  ftp://ftp.sra.ebi.ac.uk/vol1/fastq/ERR324/008/ERR3245468/ERR3245468.fastq.gz\n",
      "           => ‘ERR3245468.fastq.gz’\n",
      "Resolving ftp.sra.ebi.ac.uk (ftp.sra.ebi.ac.uk)... 193.62.193.165\n",
      "Connecting to ftp.sra.ebi.ac.uk (ftp.sra.ebi.ac.uk)|193.62.193.165|:21... connected.\n",
      "Logging in as anonymous ... Logged in!\n",
      "==> SYST ... done.    ==> PWD ... done.\n",
      "==> TYPE I ... done.  ==> CWD (1) /vol1/fastq/ERR324/008/ERR3245468 ... done.\n",
      "==> SIZE ERR3245468.fastq.gz ... 181465895\n",
      "==> PASV ... done.    ==> RETR ERR3245468.fastq.gz ... done.\n",
      "Length: 181465895 (173M) (unauthoritative)\n",
      "\n",
      "ERR3245468.fastq.gz 100%[===================>] 173.06M  5.97MB/s    in 54s     \n",
      "\n",
      "2024-10-25 14:17:59 (3.20 MB/s) - ‘ERR3245468.fastq.gz’ saved [181465895]\n",
      "\n"
     ]
    }
   ],
   "source": [
    "! wget ftp://ftp.sra.ebi.ac.uk/vol1/fastq/ERR324/005/ERR3245465/ERR3245465.fastq.gz\n",
    "! wget ftp://ftp.sra.ebi.ac.uk/vol1/fastq/ERR324/008/ERR3245468/ERR3245468.fastq.gz"
   ]
  },
  {
   "cell_type": "code",
   "execution_count": 4,
   "metadata": {},
   "outputs": [
    {
     "name": "stdout",
     "output_type": "stream",
     "text": [
      "mkdir: cannot create directory ‘data/’: File exists\n"
     ]
    }
   ],
   "source": [
    "! mkdir data/\n",
    "! mv ERR3245465.fastq.gz ERR3245468.fastq.gz data/"
   ]
  },
  {
   "cell_type": "markdown",
   "metadata": {},
   "source": [
    "Create small fastq files with 1% of reads for testing"
   ]
  },
  {
   "cell_type": "code",
   "execution_count": 5,
   "metadata": {},
   "outputs": [
    {
     "name": "stdout",
     "output_type": "stream",
     "text": [
      "\n",
      "gzip: stdout: Broken pipe\n",
      "\n",
      "gzip: stdout: Broken pipe\n"
     ]
    }
   ],
   "source": [
    "! lines=$(zcat data/ERR3245465.fastq.gz | wc -l) && zcat data/ERR3245465.fastq.gz | head -n $((((lines / 4) / 100) * 4)) \\\n",
    "    > 1pct.ERR3245465.fastq\n",
    "! lines=$(zcat data/ERR3245468.fastq.gz | wc -l) && zcat data/ERR3245468.fastq.gz | head -n $((((lines / 4) / 100) * 4)) \\\n",
    "    > 1pct.ERR3245468.fastq"
   ]
  },
  {
   "cell_type": "code",
   "execution_count": 6,
   "metadata": {},
   "outputs": [],
   "source": [
    "! mv 1pct* data/\n",
    "# don't need !?"
   ]
  },
  {
   "cell_type": "code",
   "execution_count": 7,
   "metadata": {},
   "outputs": [
    {
     "name": "stdout",
     "output_type": "stream",
     "text": [
      "cp: cannot stat '/home/carl/Code/datacore2024/genome_celegans/1pct*': No such file or directory\n"
     ]
    }
   ],
   "source": [
    "cp /home/carl/Code/datacore2024/genome_celegans/1pct* data/"
   ]
  },
  {
   "cell_type": "markdown",
   "metadata": {},
   "source": [
    "General use command on minimap2 github\n",
    "Can use gzip fasta and fastq files with minimap2\n",
    "Some notes from reading the SAM format specification file:\n",
    "Chimeric alignments are more common on long reads\n",
    "Linear alignments do not involve strand switching"
   ]
  },
  {
   "cell_type": "code",
   "execution_count": 7,
   "metadata": {
    "scrolled": true
   },
   "outputs": [
    {
     "name": "stdout",
     "output_type": "stream",
     "text": [
      "[M::mm_idx_gen::0.019*0.98] collected minimizers\n",
      "[M::mm_idx_gen::0.025*1.39] sorted minimizers\n",
      "[M::main::0.025*1.39] loaded/built the index for 7 target sequence(s)\n",
      "[M::mm_mapopt_update::0.027*1.36] mid_occ = 31\n",
      "[M::mm_idx_stat] kmer size: 15; skip: 10; is_hpc: 0; #seq: 7\n",
      "[M::mm_idx_stat::0.028*1.35] distinct minimizers: 166296 (91.68% are singletons); average occurrences: 1.131; average spacing: 5.330; total length: 1002861\n",
      "[M::worker_pipeline::0.083*1.83] mapped 5903 sequences\n",
      "[M::main] Version: 2.22-r1101\n",
      "[M::main] CMD: minimap2 -a data/1pct_elegans.fa data/1pct.ERR3245465.fastq\n",
      "[M::main] Real time: 0.088 sec; CPU: 0.156 sec; Peak RSS: 0.032 GB\n",
      "[M::mm_idx_gen::0.019*0.98] collected minimizers\n",
      "[M::mm_idx_gen::0.025*1.39] sorted minimizers\n",
      "[M::main::0.025*1.39] loaded/built the index for 7 target sequence(s)\n",
      "[M::mm_mapopt_update::0.026*1.37] mid_occ = 31\n",
      "[M::mm_idx_stat] kmer size: 15; skip: 10; is_hpc: 0; #seq: 7\n",
      "[M::mm_idx_stat::0.027*1.35] distinct minimizers: 166296 (91.68% are singletons); average occurrences: 1.131; average spacing: 5.330; total length: 1002861\n",
      "[M::worker_pipeline::0.053*1.56] mapped 2380 sequences\n",
      "[M::main] Version: 2.22-r1101\n",
      "[M::main] CMD: minimap2 -a data/1pct_elegans.fa data/1pct.ERR3245468.fastq\n",
      "[M::main] Real time: 0.057 sec; CPU: 0.087 sec; Peak RSS: 0.025 GB\n"
     ]
    }
   ],
   "source": [
    "! minimap2 -a data/1pct_elegans.fa data/1pct.ERR3245465.fastq > test_align5.sam\n",
    "! minimap2 -a data/1pct_elegans.fa data/1pct.ERR3245468.fastq > test_align8.sam"
   ]
  },
  {
   "cell_type": "markdown",
   "metadata": {},
   "source": [
    "Let's look at test_align.sam\n",
    "I see a lot of bit 4 in the FLAG column, meaning that segment is unmapped."
   ]
  },
  {
   "cell_type": "code",
   "execution_count": 9,
   "metadata": {},
   "outputs": [],
   "source": [
    "with open('test_align8.sam', 'r') as fp:\n",
    "    for line in fp.readlines():\n",
    "        line = line.rstrip()\n",
    "        line = line.split('\\t')\n",
    "        if line[1] == '2': \n",
    "            print(line)"
   ]
  },
  {
   "cell_type": "markdown",
   "metadata": {},
   "source": [
    "There are no 2 flags in test_align.sam. 2 = each segment properly aligned according to the aligner. If I align more of the reads to more of the genome, will I get proper alignments?\n",
    "Let's try 10%"
   ]
  },
  {
   "cell_type": "code",
   "execution_count": 8,
   "metadata": {},
   "outputs": [
    {
     "name": "stdout",
     "output_type": "stream",
     "text": [
      "\n",
      "gzip: stdout: Broken pipe\n",
      "\n",
      "gzip: stdout: Broken pipe\n"
     ]
    }
   ],
   "source": [
    "! lines=$(zcat data/ERR3245465.fastq.gz | wc -l) && zcat data/ERR3245465.fastq.gz | head -n $((((lines / 4) / 10) * 4)) \\\n",
    "    > 10pct.ERR3245465.fastq\n",
    "! lines=$(zcat data/ERR3245468.fastq.gz | wc -l) && zcat data/ERR3245468.fastq.gz | head -n $((((lines / 4) / 10) * 4)) \\\n",
    "    > 10pct.ERR3245468.fastq"
   ]
  },
  {
   "cell_type": "code",
   "execution_count": 9,
   "metadata": {
    "scrolled": true
   },
   "outputs": [
    {
     "name": "stdout",
     "output_type": "stream",
     "text": [
      "[M::mm_idx_gen::0.027*1.03] collected minimizers\n",
      "[M::mm_idx_gen::0.033*1.40] sorted minimizers\n",
      "[M::main::0.033*1.40] loaded/built the index for 7 target sequence(s)\n",
      "[M::mm_mapopt_update::0.035*1.37] mid_occ = 31\n",
      "[M::mm_idx_stat] kmer size: 15; skip: 10; is_hpc: 0; #seq: 7\n",
      "[M::mm_idx_stat::0.037*1.36] distinct minimizers: 166296 (91.68% are singletons); average occurrences: 1.131; average spacing: 5.330; total length: 1002861\n",
      "[M::worker_pipeline::0.632*2.29] mapped 59037 sequences\n",
      "[M::main] Version: 2.28-r1209\n",
      "[M::main] CMD: minimap2 -a data/1pct_elegans.fa 10pct.ERR3245465.fastq\n",
      "[M::main] Real time: 0.636 sec; CPU: 1.450 sec; Peak RSS: 0.138 GB\n",
      "[M::mm_idx_gen::0.027*1.03] collected minimizers\n",
      "[M::mm_idx_gen::0.034*1.41] sorted minimizers\n",
      "[M::main::0.034*1.41] loaded/built the index for 7 target sequence(s)\n",
      "[M::mm_mapopt_update::0.038*1.37] mid_occ = 31\n",
      "[M::mm_idx_stat] kmer size: 15; skip: 10; is_hpc: 0; #seq: 7\n",
      "[M::mm_idx_stat::0.040*1.35] distinct minimizers: 166296 (91.68% are singletons); average occurrences: 1.131; average spacing: 5.330; total length: 1002861\n",
      "[M::worker_pipeline::0.293*2.21] mapped 23801 sequences\n",
      "[M::main] Version: 2.28-r1209\n",
      "[M::main] CMD: minimap2 -a data/1pct_elegans.fa 10pct.ERR3245468.fastq\n",
      "[M::main] Real time: 0.296 sec; CPU: 0.650 sec; Peak RSS: 0.062 GB\n"
     ]
    }
   ],
   "source": [
    "! minimap2 -a data/1pct_elegans.fa 10pct.ERR3245465.fastq > test_align5.10.sam\n",
    "! minimap2 -a data/1pct_elegans.fa 10pct.ERR3245468.fastq > test_align8.10.sam"
   ]
  },
  {
   "cell_type": "code",
   "execution_count": 3,
   "metadata": {},
   "outputs": [
    {
     "name": "stdout",
     "output_type": "stream",
     "text": [
      "[M::mm_idx_gen::0.027*1.02] collected minimizers\n",
      "[M::mm_idx_gen::0.032*1.33] sorted minimizers\n",
      "[M::main::0.032*1.33] loaded/built the index for 7 target sequence(s)\n",
      "[M::mm_mapopt_update::0.034*1.31] mid_occ = 31\n",
      "[M::mm_idx_stat] kmer size: 15; skip: 10; is_hpc: 0; #seq: 7\n",
      "[M::mm_idx_stat::0.036*1.29] distinct minimizers: 166296 (91.68% are singletons); average occurrences: 1.131; average spacing: 5.330; total length: 1002861\n",
      "[M::worker_pipeline::8.889*1.91] mapped 590372 sequences\n",
      "[M::main] Version: 2.28-r1209\n",
      "[M::main] CMD: minimap2 -a data/1pct_elegans.fa data/ERR3245465.fastq.gz\n",
      "[M::main] Real time: 8.912 sec; CPU: 17.031 sec; Peak RSS: 1.199 GB\n",
      "[M::mm_idx_gen::0.025*1.03] collected minimizers\n",
      "[M::mm_idx_gen::0.031*1.35] sorted minimizers\n",
      "[M::main::0.031*1.35] loaded/built the index for 7 target sequence(s)\n",
      "[M::mm_mapopt_update::0.033*1.33] mid_occ = 31\n",
      "[M::mm_idx_stat] kmer size: 15; skip: 10; is_hpc: 0; #seq: 7\n",
      "[M::mm_idx_stat::0.034*1.32] distinct minimizers: 166296 (91.68% are singletons); average occurrences: 1.131; average spacing: 5.330; total length: 1002861\n",
      "[M::worker_pipeline::3.374*1.89] mapped 238012 sequences\n",
      "[M::main] Version: 2.28-r1209\n",
      "[M::main] CMD: minimap2 -a data/1pct_elegans.fa data/ERR3245468.fastq.gz\n",
      "[M::main] Real time: 3.377 sec; CPU: 6.374 sec; Peak RSS: 0.416 GB\n"
     ]
    }
   ],
   "source": [
    "# lets try the entire fasta file and see if 2 shows up\n",
    "! minimap2 -a data/1pct_elegans.fa data/ERR3245465.fastq.gz > test_align5.1pAll.sam\n",
    "! minimap2 -a data/1pct_elegans.fa data/ERR3245468.fastq.gz > test_align8.1pAll.sam"
   ]
  },
  {
   "cell_type": "markdown",
   "metadata": {},
   "source": [
    "Did not find any 2s with the full fasta file. Now try with the entire genome."
   ]
  },
  {
   "cell_type": "code",
   "execution_count": 7,
   "metadata": {},
   "outputs": [
    {
     "name": "stdout",
     "output_type": "stream",
     "text": [
      "--2024-10-17 11:34:26--  https://downloads.wormbase.org/species/c_elegans/PRJNA13758/sequence/genomic/c_elegans.PRJNA13758.WS282.genomic.fa.gz\n",
      "Resolving downloads.wormbase.org (downloads.wormbase.org)... 50.19.229.229\n",
      "Connecting to downloads.wormbase.org (downloads.wormbase.org)|50.19.229.229|:443... connected.\n",
      "HTTP request sent, awaiting response... 200 OK\n",
      "Length: 29131150 (28M) [application/x-gzip]\n",
      "Saving to: ‘c_elegans.PRJNA13758.WS282.genomic.fa.gz’\n",
      "\n",
      "c_elegans.PRJNA1375 100%[===================>]  27.78M  3.27MB/s    in 9.1s    \n",
      "\n",
      "2024-10-17 11:34:36 (3.05 MB/s) - ‘c_elegans.PRJNA13758.WS282.genomic.fa.gz’ saved [29131150/29131150]\n",
      "\n"
     ]
    }
   ],
   "source": [
    "! wget https://downloads.wormbase.org/species/c_elegans/PRJNA13758/sequence/genomic/c_elegans.PRJNA13758.WS282.genomic.fa.gz"
   ]
  },
  {
   "cell_type": "code",
   "execution_count": 4,
   "metadata": {},
   "outputs": [
    {
     "name": "stdout",
     "output_type": "stream",
     "text": [
      "[M::mm_idx_gen::1.396*1.29] collected minimizers\n",
      "[M::mm_idx_gen::1.671*1.57] sorted minimizers\n",
      "[M::main::1.671*1.57] loaded/built the index for 7 target sequence(s)\n",
      "[M::mm_mapopt_update::1.802*1.53] mid_occ = 95\n",
      "[M::mm_idx_stat] kmer size: 15; skip: 10; is_hpc: 0; #seq: 7\n",
      "[M::mm_idx_stat::1.860*1.51] distinct minimizers: 12514822 (80.90% are singletons); average occurrences: 1.505; average spacing: 5.325; total length: 100286401\n",
      "[M::worker_pipeline::21.894*2.66] mapped 238012 sequences\n",
      "[M::main] Version: 2.28-r1209\n",
      "[M::main] CMD: minimap2 -a c_elegans.PRJNA13758.WS282.genomic.fa.gz data/ERR3245468.fastq.gz\n",
      "[M::main] Real time: 21.927 sec; CPU: 58.356 sec; Peak RSS: 1.481 GB\n"
     ]
    }
   ],
   "source": [
    "! minimap2 -a c_elegans.PRJNA13758.WS282.genomic.fa.gz data/ERR3245468.fastq.gz > test_align8.All.sam"
   ]
  },
  {
   "cell_type": "markdown",
   "metadata": {},
   "source": [
    "Still no 2s. I guess that's not important."
   ]
  },
  {
   "cell_type": "markdown",
   "metadata": {},
   "source": [
    "Use look_sam.py. still didin't find any 2s. but why did 272 as a bit flag show up? that's not in the SAM documentation. See this thread:\n",
    "https://github.com/lh3/minimap2/issues/893\n",
    "But 272 does not show up in the SAM docs. So how do they know?"
   ]
  },
  {
   "cell_type": "code",
   "execution_count": null,
   "metadata": {},
   "outputs": [],
   "source": []
  },
  {
   "cell_type": "markdown",
   "metadata": {},
   "source": [
    "Let's use the same parameters used by Roach et. al., 2020 for minimap2\n",
    "-ax splice -k14 -uf --secondary=no -G 25000 -t 24\n",
    "Then got SAM files, converted to BAM with SAMtools view -b -F 2048\n",
    "-uf -k14 are for Nanopore Direct RNA-seq reads\n",
    "-ax splice long reads\n",
    "--secondary option for outputing secondary alignments\n",
    "this means a read aligns well to more than one place, so we don't want those reads\n",
    "-G is the maximum gap on reference, changes chaining and alignment bandwidth\n",
    "-t is the number of threads\n"
   ]
  },
  {
   "cell_type": "code",
   "execution_count": 5,
   "metadata": {},
   "outputs": [
    {
     "name": "stdout",
     "output_type": "stream",
     "text": [
      "[M::mm_idx_gen::1.589*1.34] collected minimizers\n",
      "[M::mm_idx_gen::1.750*2.43] sorted minimizers\n",
      "[M::main::1.750*2.43] loaded/built the index for 7 target sequence(s)\n",
      "[M::mm_mapopt_update::1.928*2.30] mid_occ = 162\n",
      "[M::mm_idx_stat] kmer size: 14; skip: 5; is_hpc: 0; #seq: 7\n",
      "[M::mm_idx_stat::2.053*2.22] distinct minimizers: 16602221 (67.22% are singletons); average occurrences: 2.054; average spacing: 2.941; total length: 100286401\n",
      "[M::worker_pipeline::10.620*8.90] mapped 238012 sequences\n",
      "[M::main] Version: 2.28-r1209\n",
      "[M::main] CMD: minimap2 -ax splice -k14 -uf --secondary=no -G 25000 -t 14 c_elegans.PRJNA13758.WS282.genomic.fa.gz data/ERR3245468.fastq.gz\n",
      "[M::main] Real time: 10.661 sec; CPU: 94.596 sec; Peak RSS: 2.548 GB\n"
     ]
    }
   ],
   "source": [
    "! minimap2 -ax splice -k14 -uf --secondary=no -G 25000 -t 14 c_elegans.PRJNA13758.WS282.genomic.fa.gz data/ERR3245468.fastq.gz > test_align8.All.sam"
   ]
  },
  {
   "cell_type": "markdown",
   "metadata": {},
   "source": [
    "still no 2s even with exact parameters. lets move on and learn what are in the generated sam files. how do i organise this data? what do i want to use to compare to the APC dataset?\n",
    "Some ideas from different papers\n",
    "How many reads cover the annotated coding sequence? (Roach et. al., 2020)\n",
    "\n",
    "what are CIGAR strings?\n",
    "https://jef.works/blog/2017/03/28/CIGAR-strings-for-dummies/\n",
    "M = match\n",
    "N = alignment gap\n",
    "D = deletion\n",
    "I = insertion\n",
    "6M = next 6 positions are a match\n",
    "Alignments use the 0 starting index\n",
    "splicing events will show gaps\n",
    "\n",
    "next, what does the phred scale mean?\n",
    "https://en.wikipedia.org/wiki/Phred_quality_score\n",
    "probablility of incorrect base call\n",
    "what is acceptable for long reads?\n",
    "make a distribution of read quality, and decide a cut off from there\n",
    "\n",
    "Learning what the SAM flags mean. 0 means the read mapped normally?\n",
    "https://www.biostars.org/p/7374/\n",
    "https://broadinstitute.github.io/picard/explain-flags.html\n",
    "\n",
    "So 2064 is a combination of 0x10 (16) and 0x800 (2048)? 2048 + 16 = 2064\n",
    "This is what is meant by combination of bitwise flags?\n",
    "So if everything is 0, it adds up to 0.\n",
    "\n",
    "use samtools flags for an explanation of what each flag means, like for 2308 which is not in the standard table\n",
    "\n",
    "what samtools commands sound useful?\n",
    "http://www.htslib.org/doc/samtools.html\n",
    "\n",
    "designed to work in a stream with pipes\n",
    "need to convert to .bam to use view to find things\n",
    "\n",
    "https://davetang.org/wiki/tiki-index.php?page=SAMTools"
   ]
  },
  {
   "cell_type": "code",
   "execution_count": 6,
   "metadata": {},
   "outputs": [],
   "source": [
    "# need to sort bam files before creating index\n",
    "! samtools view -bS test_align5.10.sam > test_align5.10.bam\n",
    "! samtools sort -o sorted_test_align5.10.bam test_align5.10.bam\n",
    "! samtools index sorted_test_align5.10.bam sorted_test_align5.10.bai"
   ]
  },
  {
   "cell_type": "code",
   "execution_count": 7,
   "metadata": {},
   "outputs": [
    {
     "name": "stdout",
     "output_type": "stream",
     "text": [
      "ERR3245465.13611\t16\tIV\t8758\t0\t11S8M2I22M4D28M2D8M1D21M1D10M1I30M1D9M1D35M2D7M1D39M1I2M1I32M581S\t*\t0\t0\tTTGTTTTTTTTTCTAATGTCACAAGGTTTATCTAATCGATAAAATAATCCATTAACCGCATCTCATACGGCAACGTGATAAAACTAATCATTTTATCACTAAATTCTCGTCCCTCCTTCATCGCCGGATAATAGGCCAGTCGTGGTTAGAGTATCCTTATAGATGGTTAGCTGCTCTAATGGATGAATGTTGATTCGTTCGGAACCCATTTCGTCACGAATATCCTCCGGATTATGATTTCCATGTGGGCCAGGCATTTTGCTAGCTCCTGATCTTCCTCTGCTCGATGATGATCCGGACACCTGTCCGGATATCCAGCATCCCGTTAAAGCCTCCATTGTGGCCTTGTATAAAATATAAACCCGTCATAGAACCAGAGGAGAAAGTTCCACCGCAGCCCGAGATAGTGATGGTTTTGTGGGCGAATAGTTGTCGAGAAGCGTTCCGCCGTATGCATAACGTACGTGTTCGTGCGTCGGCTCGATAATACCAGTCATACTTTTCGTGGTGATCTTATCCTGCAGACGTATTTTAAAACCCTCAATCTTCTCCCACGATGATCTCTCTCTTGAGTTCAAATAACGGATAATAAAAGTTAGATAGGATCGAATCGTTCATTTTCGATCCGTAACAGAGTCATCGCAGTGTTGACCCACGTTTCGAGTATTGTTTTGCCCGATTCGTACCTTGTATAACATGAATAAGGCATAATAGTTTGTGGGGCACCGATATTAATGAGATCTGAATAAAGCATGGAAACCGTTCATTTTTTTGGAAAAATTAGAATTAGTTAATTAATTAATTAATTTAAAAATAATAAGTATAGTCGTCTCTCTCTTCTTTCTACG\t41*/8<:9675'*%/+&%$*#%#%*0-:/,,0.072/..%/-,''+133//.7,71&0.--.-/.*+(*310+&%$#%%(-++'%',/201:<8,-*(%')-)+-))*)()+($)'('11/.)((/-01/--'+02-,&&&%$&%((%$&&(+,2*0,*+*+015+4**01/----*1**3,*'%(*'&)*),6-,037),**'4:+*21*1/.-)'''(*)*1-*5,03*(*)#%(17-.)*++*1:4,1145)(5:15/0/.**)-,))//),(-,.//--,+*,+)././5:79.-))4*(,-.20+(#)(,21/)(&*)*'/'%*&%+*'-,*,*''//2+,(&$''/+(%'&%'&)(:311.,*)',-*-(&$)'&$)+*&.-,+,2+01,*..&&$%*2()&&((&.,995*+,86-+0:.0.0+'&'&(%*.*/0/2'*')'%&%+&$)&'&((()*)**-+(,())'*-+(++,///22014:255661*(260&#)&((&)'..,+'$%)&''*)'&&%%.70-.2%#,)'#%'')+3+*$2/&%%#&'(*)**)&&&&))*,)50--/()-(*.+())+')(((%((&#'&&2*,25-,.*(*.2-++3/)'&.)/''&+++,&)),)(&'&''**-/+')(8-/(((:/,---0.3.'6<6,+.+%*(460/-(/(*%%%')&&&(&(,*&)*.1/2+-+++*/70)'08;('&+&#('$0((&%%'')+''&(&%+*/'**%*('',-'$&((&-779:43.3/.)+(($&%*)0.)%*-/6322.++(/).,+23*296/,&*)%3**)*&*'&((('*()-./,5'(,)&+%#$\tNM:i:20\tms:i:412\tAS:i:406\tnn:i:0\ttp:A:P\tcm:i:33\ts1:i:207\ts2:i:207\tde:f:0.0532\tSA:Z:IV,37591,+,175S140M3D533S,3,22;IV,36737,+,7S144M8D697S,2,27;\trl:i:0\n",
      "ERR3245465.42794\t272\tIV\t8769\t0\t14S18M5D29M1D9M1I21M2D15M2I6M1D14M1D12M1I45M1D8M1D16M2I41M579S\t*\t0\t0\t*\t*\tNM:i:24\tms:i:359\tAS:i:352\tnn:i:0\ttp:A:S\tcm:i:24\ts1:i:144\tde:f:0.0694\trl:i:0\n",
      "ERR3245465.42794\t272\tIV\t10962\t0\t659S23M1I3M1D15M2D15M1D23M4D35M1D4M4D19M1D30M6S\t*\t0\t0\t*\t*\tNM:i:20\tms:i:250\tAS:i:242\tnn:i:0\ttp:A:S\tcm:i:6\ts1:i:65\tde:f:0.0743\trl:i:0\n",
      "ERR3245465.13611\t2048\tIV\t36737\t2\t7H8M1I7M3D5M3I44M1I14M1D1M2D6M1D3M2D3M1D16M1D16M2D16M697H\t*\t0\t0\tAGAAGAGAGAGACGACTATACTTATTATTTTTAAATTAATTAATTAATTAACTAATTCTAATTTTTCCAAAAAAATGAACGGTTTCCATGCTTTATTCAGATCTCATTAATATCGGTGCCCCACAAACTATTATGCCTTATTCA\t('5,/.-)(*'(((&'*&*)**3%)*&,/692*32+,.)/(++.2236/-*%).0)*%&$((+)./3.34:977-&((&$'-,''(*%**'/*+%&(&''+)''%%&((0$'(#&+&'(;80')07/*+++-+2/1.*)&*,(&\tNM:i:27\tms:i:150\tAS:i:144\tnn:i:0\ttp:A:P\tcm:i:6\ts1:i:42\ts2:i:0\tde:f:0.1333\tSA:Z:IV,8758,-,11S256M8D581S,0,20;IV,37591,+,175S140M3D533S,3,22;\trl:i:0\n",
      "ERR3245465.42794\t2048\tIV\t36737\t0\t6H26M1D20M4D7M1D32M4D25M1D13M2D17M1D4M1I23M659H\t*\t0\t0\tAGAAGAGACGACGACTTTTATACTTATTTTAAATTAATTAATTAATTAAATCTTATTTTCCAAAAAATGATCAGTCTCCTCCTCGTCTATCACAGATTTCATTAATATTAGTGCCCCACAAACTATTATGCCTTATTCACTTGCTAACACAAAGTCACGAAACACGGG\t0).,()((())*+2)+86/*+-,40..3662=:;6=83/3,2-$&(-+:))%+4/02*,),,99;8-()-,4-++('+*%)+()(&%&+$**/4402*((*.-92--/+'.-01;64(*,;4),..,,06,5((+,)%%&,.-&%')%#%#%)++()('/1&(')',.\tNM:i:20\tms:i:250\tAS:i:242\tnn:i:0\ttp:A:P\tcm:i:6\ts1:i:65\ts2:i:65\tde:f:0.0743\tSA:Z:IV,38865,+,579S240M6D14S,0,24;\trl:i:0\n",
      "ERR3245465.13611\t2048\tIV\t37591\t3\t175H22M1D16M1D2M1D2M4D7M1D28M3I14M1I9M4I8M1D15M2D9M533H\t*\t0\t0\tAAAACAATACTCGAAACGTGGGTCAACACTGCGATGACTCTGTTACGGATCGAAAATGAACGATTCGATCCTATCTAACTTTTATTATCCGTTATTTGAACTCAAGAGAGAGATCATCGTGGGAGAAGATTGAGGGTTTT\t,6<6'.3.0---,/:(((/-8()'+/-**''&'&(),))&,+++&''/).&')/3++-2.*(*.,-52,*2&&'#&((%((()'+))(+.*(-)(/--05),*))&&&&)**)*('&#%%&/2$*+3+)''%#'),#%2.\tNM:i:22\tms:i:177\tAS:i:168\tnn:i:0\ttp:A:P\tcm:i:3\ts1:i:43\ts2:i:0\tde:f:0.0915\tSA:Z:IV,8758,-,11S256M8D581S,0,20;IV,36737,+,7S144M8D697S,2,27;\trl:i:0\n",
      "ERR3245465.13611\t256\tIV\t38858\t0\t581S32M1I1M1I39M1D6M2D37M1D7M1D30M1I9M1D24M1D8M2D27M4D21M2I10M11S\t*\t0\t0\t*\t*\tNM:i:20\tms:i:412\tAS:i:406\tnn:i:0\ttp:A:S\tcm:i:33\ts1:i:207\tde:f:0.0532\trl:i:0\n",
      "ERR3245465.42794\t0\tIV\t38865\t0\t579S41M2I15M1D8M1D45M1I13M1D11M1D9M2I13M2D19M1I11M1D30M5D19M14S\t*\t0\t0\tCGCAGAAGAAGAGACGACGACTTTTATACTTATTTTAAATTAATTAATTAATTAAATCTTATTTTCCAAAAAATGATCAGTCTCCTCCTCGTCTATCACAGATTTCATTAATATTAGTGCCCCACAAACTATTATGCCTTATTCACTTGCTAACACAAAGTCACGAAACACGGGGCAAAACAAATACTCGAATAAATTTCAACACTGCGATGACTTGTTACGGATTCGAAAATGAACGATCCGATCCCTTTATTATTATCCGTTATTGAAACATAGAGATCATCGTGGGGAGAAGATTGGGGTTTTAAAATACGTGATAAGGATCACCAAAAAAAGTATGACTGGTATTATCGAAAAGCGACGACGACGTACGTCAACGTAACATGCGAACGCTTCTCGACAACTATTCGCCCACAAACACTTCATCATTATTTCGGGCTGCAGTGGAAACTTTTTCACCTGTTCAACGACGGGTCATCATATATTTTATCTGGCCTATGGAGGCTTCAACGAGAGTGGATGCTAGATAAGGACAGGTGTCCGGATCATCATCGAGCAGAAGAAGATCAGGAGCTAATAAAAATGCCTGGCCCACATGGAAATCTATCCGGAGGATAAACATGTGACGAAATGGGTTCGAACGAATCAACATTTTCATCCATTAGAGCAGCTAACCATCTATAAGGATACTCTTTAACCGCCGATGGCCTATTATCAGCGATGAGGAGGAGGACGAGAATTAGTGATAAAATGATTAGTTTTTCATCACGTTCGCCGTATGAGATGCAGTTAATGGATTATTCATCGATTAGATAAACCACTGGTTTGGAAAT\t&\"#%$&0).,()((())*+2)+86/*+-,40..3662=:;6=83/3,2-$&(-+:))%+4/02*,),,99;8-()-,4-++('+*%)+()(&%&+$**/4402*((*.-92--/+'.-01;64(*,;4),..,,06,5((+,)%%&,.-&%')%#%#%)++()('/1&(')',.+.-<3,&*4--.)-*+,+'&.,*-+(/--,++,,./31+).)'-/&()/44033:;:401<644,+7650,99.*'$&+))3.539721-*-+'-/*))&(%&'''&'''())40,)-060//''(+(%(402<<-*'''%(%*#$('+,'*0/,97532-.0,----5<4,.+.,/-,+55,$$$('&&&%&&&(&''$'&%#%&--+/-,+,,10/$+($)))//055415-)*35)&%'72$%$(''''%'(+)-)'$$*6*+-2////./8*()(,,(%&+*+,,6*1//0/1)861/2)&'&')().7245.04/*)&''(*(+,)*-%(++)+(%)%(*+--+)%(($%&/.,+,00/4254.5+-*.,,))(())')*++).,-++'&(,)''.+)'-9972-.0--2-27/)''''/*8,0&21*+3,1000-++''##$)*.34+,5('18*.&007622;/2&)+)*3//,*+02-,2++)((')+--1.1--*&)--1,-.('''%%*)./&$'%#).)%%)&)&-&%&(*%-,,,()'*(%'($))+//2+-+,0),00-++32.23231/+1-**)()%$%('')'-.+*+++*))**/+$,*2-3202-/0)')%&).2381%1,,.<13.$$*.+.6.,-(2((\tNM:i:24\tms:i:359\tAS:i:352\tnn:i:0\ttp:A:P\tcm:i:24\ts1:i:144\ts2:i:144\tde:f:0.0694\tSA:Z:IV,36737,+,6S168M13D659S,0,20;\trl:i:0\n",
      "ERR3245465.37494\t2048\tIV\t91983\t21\t9H13M3D51M5I14M1I3M1I11M2601H\t*\t0\t0\tCAGGCTATCGACATCTCTTTGGATCCGCCGCCGGAGAGCGAGACATCACTGGAAGCGGACTTCGTGAATTGATGGCACAGGCTGGAGAAATGCGTGTCG\t**1,)+--.4.-,''&%',/.6,+11+-4.3/-*(*+,//01++****+-/32++*0.,(%'&++,(.&*),,7.2/,,//*.-)&'+:/--+,+-/+/\tNM:i:10\tms:i:155\tAS:i:148\tnn:i:0\ttp:A:P\tcm:i:10\ts1:i:54\ts2:i:0\tde:f:0.0417\tSA:Z:IV,105650,+,880S533M5I1291S,60,55;IV,110014,+,2029S677M60D3S,60,122;IV,103933,+,463S291M49D1955S,60,71;IV,92814,+,115S100M1I2493S,10,13;\trl:i:0\n",
      "ERR3245465.37494\t2048\tIV\t92814\t10\t115H24M3D14M3I34M1I25M2493H\t*\t0\t0\tCTTCGAGCGGACGTTCCAGTTGACCTTCCGGCCAGATGACATTGGTTAACTGATTTGCAGCCGGCTGCTAATGTGAAAGGAGAAGATTGAAGTGAATGGTG\t'))(%'''+(&''/15//152331'')41)0'4$-(*+**%%''('$,()**+.6224459140//338::.,)')))*,&(+1+1701,1-135/.5,,3\tNM:i:13\tms:i:136\tAS:i:132\tnn:i:0\ttp:A:P\tcm:i:4\ts1:i:49\ts2:i:0\tde:f:0.09\tSA:Z:IV,105650,+,880S533M5I1291S,60,55;IV,110014,+,2029S677M60D3S,60,122;IV,103933,+,463S291M49D1955S,60,71;IV,91983,+,9S95M4I2601S,21,10;\trl:i:0\n",
      "ERR3245465.37494\t2048\tIV\t103933\t60\t463H13M1I49M3I11M43D48M2D3M3D4M1D10M1I21M1D11M1D15M1D11M1I5M2D3M1D14M1D13M1D14M1I19M1I19M1955H\t*\t0\t0\tCGGATGACGATCACCCCTGTAGAGGACATAATGACATCCAGAAGCAACTCCGGTCCCGGAATTTTATAACGTCGTAGAGGAGCGATAAAACATGCGTGAGTACACGAGATTCGCGGCCATCAGTTTCGCCTTTACCGACAACTCCCATTTCTGTTCGTTGTGCTCGATTTCATGTGGGGCTCAACAAACAGGATATTAGTGTTCAGTTGCCTGCCGCCGTGCACAAAAATGCCAAGAAAAGTGATTATGCAGGTGCCCGGGAAGTGCAAAGAAATACAAAGGAGACTATGG\t143003****'--*8=531/+,()2((**,*,00.,+//,.40.-3-***026+*;02,-*(.*)%&)&()+++%()'++&*))*.-:9,('$##%$(,+*%&)+,,.-(+('),1(1,32-+-32%&$&%+)&+-/.-(/&%+;2*+.+(0/32*(+0),(('%&&+.*%&(''+92+$&'*.)-;/)(1+''$&&&-..'+*)))%$$&$&%/+95123-.,19962++40),*,94,(+),,0*+)*'*/**285'.-+--,-)*/+*):4*())0(,-))**+/2+,\tNM:i:71\tms:i:413\tAS:i:355\tnn:i:0\ttp:A:P\tcm:i:14\ts1:i:110\ts2:i:0\tde:f:0.0767\tSA:Z:IV,105650,+,880S533M5I1291S,60,55;IV,110014,+,2029S677M60D3S,60,122;IV,91983,+,9S95M4I2601S,21,10;IV,92814,+,115S100M1I2493S,10,13;\trl:i:0\n",
      "ERR3245465.37494\t0\tIV\t105650\t60\t880S12M1I7M2D19M1I3M3I10M3I12M1D45M1D4M1D19M2D28M1I2M1I37M5I25M2D7M1D16M2I9M2D19M3I29M1D12M1D25M1I32M2I4M1D5M1I16M1D43M1D27M1D26M1D21M1291S\t*\t0\t0\tCGCCCAAGACAGGCTATCGACATCTCTTTGGATCCGCCGCCGGAGAGCGAGACATCACTGGAAGCGGACTTCGTGAATTGATGGCACAGGCTGGAGAAATGCGTGTCGCATGAAGCTTCGAGCGGACGTTCCAGTTGACCTTCCGGCCAGATGACATTGGTTAACTGATTTGCAGCCGGCTGCTAATGTGAAAGGAGAAGATTGAAGTGAATGGTGGTGAATCCCGACTAGTCCAAAGAAGAAGACCTCTACCCGGAATGGGAAAAATTGGGAATACCGCAGTTGCCGAAGGGCCGAATTTACAAATTGCGTGTTGTCTAAATTCAGACACCAAGCATGAAGCAACTATGTGACTAGAGGATATATAATCTCAAAATGCAAAGCGACGCGATCACACATTTGGATCAAATACTAAACCAAAACGGACAGACTTTGCGCAGACAAGACATTCTGAAGAATGCACCGGATGACGATCACCCCTGTAGAGGACATAATGACATCCAGAAGCAACTCCGGTCCCGGAATTTTATAACGTCGTAGAGGAGCGATAAAACATGCGTGAGTACACGAGATTCGCGGCCATCAGTTTCGCCTTTACCGACAACTCCCATTTCTGTTCGTTGTGCTCGATTTCATGTGGGGCTCAACAAACAGGATATTAGTGTTCAGTTGCCTGCCGCCGTGCACAAAAATGCCAAGAAAAGTGATTATGCAGGTGCCCGGGAAGTGCAAAGAAATACAAAGGAGACTATGGCTCAAAGAATGACCACTGGTAGACATACCGCATCGATTTTCAAGACGTATAACTTCAAAAGTCCCACGTTGTGATTCTGTGGTTTCAATGCTTTACGGACTCCTTCAACTCCTGGCCTTCTTGTGAAGTATGCAACGTGGGCGTGTTCACAAATGCGAGCGGCTCTATGTCATCAAACCTGTGTGGTGGTGTAAATCAAAGCAACTCAGCGAGATGTACCATGAATTAAAACGTGGCACCCATCCAAGCAAGCTGTCCGCCCAACTGCCAACCTTCATTTGAACGGAGAGACGAAGTTGAGAACAATGGAAGTCTGCCGAACAAGTTGAAGAATCTACACTATTCAAGTCACCCAAGTATAGTGGAAGAACAAAGGAGACCGACGAGTATATATGGATTATTTGGGGCGGTAGAGATATGGGCCCTGTCAAAAAATTCGCCCTACCTCATTCAATTTGCTCAAGTGCTTGGAAAAGGATCGTTTGGAAAAGGTTATGCTGGTGGAATTGAAAGGAAAAATCAGGATTCAACGGCAATGAAATGTCTGAAAAGGACGTGATATTGGAGGATGATGATACGGAATGTACTTAACTGAACGACGAGTGCTCATTTTGGCGGCCAGTGCCCGTTCTTGTGTCAATTGTTTGCTCGTTCCAGACTAATGATCTCTTCGTAATGGAATATTTAAATGGTGATCTGATGCACCATTATTCAACAATTTATAAAAATTTGATGAAGCCCGGGACACGTTTTTATGCTTGGCTGTGGCTCTGCAGTTACTGGCACACTAATTATCTACATTTTGGCCTTAAGCTTGATAATGTGCTGTTAGACTGTGACGGCTCAAGCTTGCCGATTTTGGTATGGCAAAACCAAGATGAATGAGAAACGGAATGGCTAGCACATTTTGTGAACACCGGATTATATCAGTCCTGAAATTACTATAACCAGGGGTCAACTACAATGAAGCTGTCGATTTTGTCATTTGAGTTCTGATGTATGAAATGCTCGGGACCAATTCCTTGTTCCATGGAGAAGGTAGATGAAACTTGATTCAATTTAATGAGAGGCCAACTCTCCGAAAACTATATCGAAGGAAGCAGCGAAAATGTCAACATCAGCCTTATTCGATAGAGCCGAATACCCGGCTAGGAATGCCTGAAATGCCCTGATGGTCCAATCAGGCAACTGCATCACCACCGAGGTGTATGACTGGAAACGGTTGAAAAATCGACGGGGTTCCGCCACCGTTTAAGCCGAACATTAATCCTATTAGACGCCCGAACTTCGACGACGACGATCACGAACGAGAAGGCAAATGATCCTGTGCACGATCAAGAACCTGGCTTCAATCGATCCTGAAGCATTCCTATTTCTATACGGCTCCTTCTCAAAATAGTTGAAATCATTTAGCAGCGTTTTCATCGTTTTTAGGTCTTACGATTTTTGAGAAAAAATCCTTGGATATATCCCTGGTAAAATCCGAGGTAGTTGACGTCTTCGGAATTCTGAAATCCATGAAGACTCTTCGCTCAAAATTTACTGAAAATTTGAATTTGGAATTTTGTTTTGGAAACTGGTATTTCGTCAGAAACAACCCACATGGATTCTGTAATTTTTTTTTAAATTTTTTGCATAATTCCCCGTCCCCGCAAATTTGACGCTCACGTGTATAAAATTCGCTGATCAGTTGAGTTGTTCCATAGATTTTGATCGCTAAATTCAATAACCCCGCCCCTCCCTGGCACGCCCATTAATTTGTATTTCATATCTGGTACACCCCCCGATTTTTGTCTAATTCAACTTTTTTTTTACAATTGAATCTCCCCACGCTTTGTTTACTTCCATATTTTTCGTTCAGTAGCATTATTATATATGTTTCTCCAATTATACCTTCGACCAAGAATTTAGCAATTTTCGAGAAAAATTAAAAATAATAATGAATTAATTTTAAA\t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tNM:i:55\tms:i:778\tAS:i:762\tnn:i:0\ttp:A:P\tcm:i:48\ts1:i:274\ts2:i:0\tde:f:0.0721\tSA:Z:IV,110014,+,2029S677M60D3S,60,122;IV,103933,+,463S291M49D1955S,60,71;IV,91983,+,9S95M4I2601S,21,10;IV,92814,+,115S100M1I2493S,10,13;\trl:i:0\n",
      "ERR3245465.37494\t2048\tIV\t110014\t60\t2029H6M1D17M1I17M2D6M1D12M1I7M3D29M2D5M3D6M3D4M1D19M2D13M1D6M1D3M2D7M1D3M1D6M1D8M1D58M1D48M2D5M1D11M1D18M1D12M3D2M2D10M2I15M1D6M2D26M1I9M1D21M1D3M2D1M1D3M2D5M4D14M2D13M1D11M1D26M2D4M1I3M3D19M2D18M2D7M1I9M3D5M1D11M1I7M2D4M1I8M2I6M1I14M1D8M1I3M1D9M1I7M1D16M1D14M3H\t*\t0\t0\tGACGCCCGAACTTCGACGACGACGATCACGAACGAGAAGGCAAATGATCCTGTGCACGATCAAGAACCTGGCTTCAATCGATCCTGAAGCATTCCTATTTCTATACGGCTCCTTCTCAAAATAGTTGAAATCATTTAGCAGCGTTTTCATCGTTTTTAGGTCTTACGATTTTTGAGAAAAAATCCTTGGATATATCCCTGGTAAAATCCGAGGTAGTTGACGTCTTCGGAATTCTGAAATCCATGAAGACTCTTCGCTCAAAATTTACTGAAAATTTGAATTTGGAATTTTGTTTTGGAAACTGGTATTTCGTCAGAAACAACCCACATGGATTCTGTAATTTTTTTTTAAATTTTTTGCATAATTCCCCGTCCCCGCAAATTTGACGCTCACGTGTATAAAATTCGCTGATCAGTTGAGTTGTTCCATAGATTTTGATCGCTAAATTCAATAACCCCGCCCCTCCCTGGCACGCCCATTAATTTGTATTTCATATCTGGTACACCCCCCGATTTTTGTCTAATTCAACTTTTTTTTTACAATTGAATCTCCCCACGCTTTGTTTACTTCCATATTTTTCGTTCAGTAGCATTATTATATATGTTTCTCCAATTATACCTTCGACCAAGAATTTAGCAATTTTCGAGAAAAATTAAAAATAATAATGAATTAATTTT\t'%,'.60599-,6++,+*+*()'--.''(*,7,***/*1-+*'$))+%((&&)+2330,(%/)/813/-,++,*)++(,03,-.('+,+,-0+3+,+-)+%&&)$$#($%)('*&)))<;2/01.*)',-%#$%&0,++*(*+*33,'&''%'.+))$&)&(&(%)*,,1.0/,-+39<;7.*)3)/2.-,.*//,>:+,8.557-((('$%'&%)-22//.(&%%%'./1-*&'%2-+)-1/0/23/+))$,-*,/7)-=<.76-)))*)-..,/-*-,-6/)-//-;94/-570/)3<-(/,-0.82,+..+,*-:2-0),4/)(##$(&(3$-++-.+/-357::38<3-28:850.))3031*:3/-$*981*,3:0398/.+*'%(&'%)+)*)0560&&%#$))*-&(/+*+()(,%&)))&(''&*,-0,1'$%$)0;0**'*/)*(&.43.-;5)'+5.())(%*((42)*,+-4;6,-++4+*(('+&'%*%%''+9<=5*&*(2641,(,06'*''(+')./10.,)&&(04-1,-0)%')-1.*,*'///&'&'(&*+,-'%(&(),.()''*((+,,++%&)(*'('(,,+('(%),1495211140.2,.-.++&''%'-++''10-+0/$%,/.;<;0612<<7-,.5,73*+336,+(*,1-\tNM:i:122\tms:i:746\tAS:i:718\tnn:i:0\ttp:A:P\tcm:i:12\ts1:i:146\ts2:i:0\tde:f:0.1264\tSA:Z:IV,105650,+,880S533M5I1291S,60,55;IV,103933,+,463S291M49D1955S,60,71;IV,91983,+,9S95M4I2601S,21,10;IV,92814,+,115S100M1I2493S,10,13;\trl:i:0\n",
      "ERR3245465.17755\t0\tIV\t110175\t60\t3S9M1D18M3D13M3D3M1D5M3D6M1I5M1I8M3I9M1D27M1D2M1D2M1D1M1D5M1D4M1I62M1I11M1D13M1I7M2D16M3I31M1I4M3D5M1I11M1D5M1D24M1D9M1D4M1D45M7D6M2I19M1D29M1D7M1D11M5D4M1D30M1I2M1I5M4I4M3D9M1I15M1I18M6S\t*\t0\t0\tACATTTCATTCGTTTTTTTGAGTCTTCGGGTTTTGAGAAAAAACGTGATATCCTGGTAAAAATACCGAGGTAGTTGTTGACGTTACGGAATTCTTGAAATCCTCGAAGACTTTGCCAAATCACTGAAAAATTTGAATTTCTGGAATTTTGTTTTTGGAAAACAGCATTTTCGTCAGAAAACAACCCACTGCTGTGAAGACTTGTAATTTTTTTCAAATTTTTGCATAATATTCCCCGCCCCCCCCGCAAATTTGACGCCACGCGAACAAAATCTTCGATCAGGTAAAGACTGCTCTCCTGCAGATTTTTTTTGATAATTAAATTTCAATAACCCGCCCCTCCCTGGCCACGCCCATTAATTTGTATTTCATATCACTTGACCCCGATTTTTTTGTCTAATTTTCAACTTTTTTTTACAATATTGAATTTCCCACGCTTTTAGTTTACTTCCATATTTGCAGAGCATTATTATATGTTTTCCAATTATACCACCATGGTGTTACCAGTTTAGCAATTTTCGAGAAAAAATTAAAAAATAATAAATGAATTGCTAAA\t$%%)+-##(*((--1013/&())$''&$&&'+-,$)(+7682)%')(&&%$'/-.32-61,(%#%&\"%'*%$''(',00100)-'((-.+**$'*%&0*)+)%'%&*)+(+*+%*&*/+'%&&))*88916663513+-$**1).'0,*%(*043+./980)*)%)(05)()&()',46/.0023-&&%&$+)+,-/20,22/024)/0730.)*7.-.0-.++)%',&%'.+<;2,-;:<<:8///29-121+.(/-2%)$''*-*2020'%,0)210%'-*.1<1..-1--'%$'($#$(())058:<<8-326237:;16+.#$%#(04;60295,),30)'2&0%'%/33'')(*2435**'/)%%'')('*--'%%)14'1,329970+*')--32/)(*%#*+04793-((0+.+.)'(1-80)3-)+,(+(-/#%)'(&%'))*&&'%&$$#%)(('%&*(--))((%(*',/2763--)$$'\"&&#$$'#%%'&))(+220+--).*/64&'*))9;94**,+:<<9.+.4*082/00-.,&%&%*)\tNM:i:95\tms:i:623\tAS:i:592\tnn:i:0\ttp:A:P\tcm:i:19\ts1:i:171\ts2:i:0\tde:f:0.117\trl:i:0\n",
      "ERR3245465.23617\t0\tIV\t110355\t38\t10S4M1D8M2D4M1D16M4I5M3D4M1I5M2D16M1I13M2D7M1D8M1D26M1I4M3D19M1D5M1D24M1I17M3D9M1D1M1D7M1D18M1I12M2D16M1D17M1D17M3D10M1D11M1D21M2D5M1D7M2D7M1D3M2I11M3S\t*\t0\t0\tCTATTTTCAATCAGAAACAACCCACTTGTAGACTTTGTAATTCAAATTTTTTTTTCTCTGCAATATTCCCCGCCCCCTGCAAATTTGATGCCTTGTATAAATTTTAGGATCAGTTGAGACTGCTTTTCCATAGCAGATTTTTGATAATTAAATTTTAATAACCCGTCCCTTCCCTGGCCACGCCCAACTAATTTGTATTTCATACTTGACATTTCCCTGACTTTGTCTAATTTTCAACTTTTTTTTTTACAATTGAATTTCCCACGCTTTTTGTCTTACTTCCAACATCACTTGTCAGAGCATTATATGTTTCCAATTATACCTTCGACCAGAGGTTTAGCAATCGAGAAAAATTAAATAATAATGCGAATTAATTTTAAA\t%(')-/*%$#$&&*,3)(,-,40&'''$%)+*'+,-**()(,#$%0-/.16430+%(%**(0-,.21/<<41.3=:)$%',-,456,+%))($%''&'-33(67/$-1*+3466(''&(+-+%*)'&**$&$%#,,-,.,01+0,.3/.68/27-,24-2,045...3/%%,41-(+&)%)%)00+&$&).'*2/00)/,$%%$$%(,***++('01%1+)+)./1+,1/.13-)*('-,0324451+%&'-*)&()64-+-)$&%$)05503*$'&&$(%)(*(%%%$$#(%$'+,/13+--/((&'+(*(%(''((()'(&%(**+-/)'&*)-0,&&(&(&&'*,-;;7-3360.*+/**(%&')3/5,0+,21-'3,\tNM:i:70\tms:i:383\tAS:i:366\tnn:i:0\ttp:A:P\tcm:i:8\ts1:i:62\ts2:i:0\tde:f:0.1337\trl:i:0\n",
      "ERR3245465.11611\t0\tIV\t123046\t15\t1710S38M1D5M1I18M1D10M1I10M2D5M1D6M1D71M3I17M1D7M1D15M1I33M1I12M857S\t*\t0\t0\tCTGAGAATTTAATAATGATGTTGGAGATGATAAATCATCAATTCATATACAGTAACAAGTTATCTACATTCCTGTCTCAATCCAATTCAAATTTTAATGCAGAAAATGGAAGGAATCGGCGGGATTTTAAATAATATGTCAACTTCGGAAAAGTAATTTGACAGGGGAAATGGAGCAATTCGACGCTGAAAAACAAAGAAGCCAGTGCAGAAGTGTATGCTGATATTATTGTCACATCGATTGATTATTGGAAATATTAATGCTGCTGGAAAAATATGTAATGGAATCAACCCCTCTCTAATTACCGGTTGCCCAGTCAACGTTAAAGATCGTGAATCAGGCGCCGCCAACGCTGGAAAAGTGCTGAACTTGATATTCCCCGAATCCCGTTGTTATTTGTGTAGAGTGCAAGAATTCGAACCCTTTGGTTTGACGAGTTGGAACAGGCGAAAACGAGAGAGATTCTGGGAAGTCTCGTGAGACAGGCAACTATTTCGAGGAAAACGGCAAACTGTGAAAAAAAGAATGGGAAGGCCGCTGCATCGCGGCTATTGAGGAAAACCATCTTCTTAGAGGAAGTGGAGGATGTCGGGGGATGAAAATGAAGAGAAACGACAATGACATTTCCAGCAGCAGCATCCGATTCCTTGAGAACTGGACGATTGCATTGCTCATCGAGACCTTGATCAAGCTGTTGAGCTTATTCACGAATGGAACAGTGCCCGACGAAAGATGCTGTAATAGTATCAGTTGCAAATGAGAGAGAATACGATTGTCCAACTGCTCAGCGACGATGTAAGCCGGCCCGGCGCAGTACAGGAGGCCCGAGAGCCATGAAAAGCCCGAACTCTTCTAACCCAATTAGGCCGTGGAACCTACGCAACAGATGTCTATTAAGACAGGAGAAGTGCAATGCAACGGTGCAATGCGTGATGTAACAGTATCAGAAGAACCATTATATCATATGTAAAGCAACTATGTACTATTATATGGAAATGCAGTATCTGATATTGCAAATGAATCCGATAATGCCTCAATTATTGTCAAGTACTTCAATGGTGTTTATGAATTAGTACTCTATTGAATTTGATCAGAAGACATGTTATTGAAGTTGCACCACTGCAATTGCTGTAATTGCATATACGTGGAAGAATGTAATGCAACATACAATGGAAGATCGATCTCACTGCAATTGGTGTTCATTTGAATTTAAAGTCAATGTTTTTAAGTATTCCCTCCATAGAAATCTCTCTACAAGGAAACTTTGAAAAATATCTGTGATGTGTGAAAAATGCGGATTCGGAGGAAAAATGGAGGCCCTACGTGCTGGAATCGGAATCTGCACTGAATCGACTCGTTGAGCTTTCCGACGTTGGGATTAATAATGTGGAATGGGCGATTTCTGCAAATGATGAATCGAGAAGCTCGTTGAATGTTTCGCAGAATGTTGCGCATTTTGCGAAAGTTGCACATACTCTTCGAAAGGATTTGGCGCCGCTTAGATTGTTAGTCTTTTGATAGGGGATTTAGAAACAAAAAATTTGATTAATAATTAGCAAGTTAGTGTATGACTAACAACAAAGTTATAATATAGTCTTGCATATAATATAATCATACAAAAAAAAGCTAGTTAATTCAAAGCTAAAAATTATTACTTTAAAAAATAGATCTAAATTTGATACACTTAACAGCTCAACTAATATTCAAGCGGATAGCTCAGTCGGTAGTGGTGGCCGCTAGCAGTCTGGGGTCACCAAGTTCAATTCCGGCCTTTCCCCTAGGTTTCACCCAGCCTATTAGAGGTGAGCAATCCACGACTGGATTATCGGCCACAGTCCCCGGCTAGGACGTGGCTTAAATTATAGCCCAGTGGGATACTCACCACCAGGCAGTGTCTTGAATCCAGATCCGCAGTGCTATAGCACTTGAAGAACGGATCGTCCTTTAATCCTTTTAATCCTTTTAGTATTAAATAACATAGTAGAATTTGAAAAACTAATTCAACTTTTATTTTTGAAAAGTTTCCAACAAATCCAAAATTAGTATTGTATATTCACACAGCATATTAAAAATCCTAACGTCAATTGTTAACTATCAGTATTTTCTTAAATATAGTGATCGGTATCATAAATACGTATCAGTATATATATATAGACAAGTAAAATCTAACTATGTTGGGCAAAAAAACTTAACTAAACAGTTAATCACTATACGTATTATTAACACAGTATATTAAATTATGCACTTCATAATTGTTCTAGATACAATTTTTTTCCTAAATATTCAGTATTAAGTAAAACAGTATAGTGAGTAGCGAAATTGATGTTTGGTGTGTTTGGAAGAAAGAAGTGATTTCCGCATTAATATTTAACATTTCAATACCACGAACATTATTATTCAAAGACCATTATTGAAAAATTTGCCATTTTTCGAATTTTTTTCAGATCCCCAATCACCATGAAGTTGTGTGAAGCGTAGATGAACTATCGGAAGATGTATACAACATTTGGTGATAACATCCGAGACGACGCTTATTTTTGCGTATCACCACTACTTTATCTTTAACCATGGTACTCCAGTGTGCGATAAAATCTGCTACGGCGGGCGAGCTCATTTCGCCTATTGATTGATCAATTCCCCAGCCATGCTCCGTTTCAGACCCATTTGATGAAGAGAAGAAGGATGATGAAGAAGTTGCTCATGTTTGATGTACTTTTTAAATTCGAATTTTAAAAATAATTGTCCGCTTCTGTGATTGTAGATTTTATTTGTCTGAAAATTTTTTTTCCTCATTTATATTTATTTTAATTTCCCCGCTCAA\t'%)**13-3;87254,,.%*'-1..-,,-,,0<.-()*-(7'.)(&-/04---,,023(),,(&$\"#%#&(-&(($#+(4-.33.-3),5-29:612//.0-3;5**1*+'.,,1,-..()94''043+<21922..0.-,&%-3-+-,7:,+,*-*:52-*('+3)/4,)5)**-3110.---*(&++3<:42,=5(,.-72+''*++*,0*.112567;4)''(1-872,*&(\"'(2,-1*)-0/643/.8.)+,5+8//12112*6'=;90-.436;5,.4-4012/(/8.*&'&+*-+)&*0+55936<7,,+()+'*'-371...+-,)(**(*//-.8:8;:=86753&0-690))++-),-(*3/.-./,.;8.,('''9//02*-1,570*))(%()))-343,//,3+2/7)5'2(1:45./1+(*'((+(*0*('+4))-63.202.*(()*,+%(&)*-+(,%&)'())*//-30-0((-*)4*()(++,::1*+0*08+)'&'&)2812,346.&&-+)(+,4255776/-+((+.3,,,3*+)/(/84'/))#+)#(.),**+)+(',(%.*),.-,*9:;,./.3::3.21-)+(175***)7/++)(')+)%'(')+())))-,-0++++'+%&$)+:44/7222114,.+.22/03+*0++.11,3,0*632353-,,/--/..03/.'&')*-3,+,//)-/1.6:513,,/3,-07950--,.,'+))--)**5,0:9,,+,++'+*10(+1//0+.'*32,*/.*1+)+--,0/.-.)%)&&-+54=824/-,,+)%&$&)#*-+-)(').-0+,*),/4-+/93180((%)*#')0,96579*(6'1'(*652510))(((++**+1660.,*,4-46*'$+.'))+'),/87///0*''('*+,1.(%,',)---/2000/.+,+/,3/014.-.*'((&')(%$%&(6))*30/+*&/'$&&''+(,,-0../-+,-+.//.3601.)05332<313807+28++(-+6;;7231-.-0-02((4152,/0-21.41312)11426/./%''**+&,)-/),119:443301*0+**+++3.)*/)*1010741++%&)((&#%*,+2(--300)()*-++)'()/(.+.312/20()()&''&)+/6/9/7.*+(&&)(%'&&(*+,=79305./.1%),175.6)4,\"%)%%,-('*..13.$''(*,0+8/$(%%%()581*)'%('()*.'1'37,(+/0-2;:9-./11/1311+),*+*+;95*+..230,-)-.*/--865-'(-%)*'*2***+,-..-.0.-//7/6---83'',,//+)+.'(&*-/-,+'(/..53.%,.12364:/6**..,..325,+9)6',(,21(.529;532243:670210.0,,0+.8437110)+0&(),../*++**)*+)122+)())-+,/580113/,*($,.&&)4&3((0*2/.00568)5/0/0;6-.0+,)&)58304**'04-**&+$+)4/+.8=92*523+.1,06.86(***+930**%%%+,/171.-02.41.3<0-31(((.))('()(-0-+('''*..0.64/-/-.-,785287.*,-07<8;903,.9/)*-28;6104+-0*,.31+7;62.)*-.0*5<<9;;:540/.*%('-*(%('&%&(%%','((.$(()()4*23,,*'%&'')0..,*)*&,+/21%)''(,*-**+1,)'(&)*('-)0(+0:2'0)29**'&'*00(*-/0')(',;:,).**--*%)&'(%(')(-3+-,)**3-.51/3,*,(&/+,))))()363(/.*-/1,+,,*0()/9806-&%%%&:4./-.;52.+('%#&)$'('+0*),--&\"%('-**)1*.*+)*%(-/.+)(%'-0022501714;568413(*+3+37,3)(/*,783,.++/(/,1.111/./:/*,.''&('*'-081<5+09;80)-53,.(*./**+.'-4831*/79.),64*32/,46-+42=:84'*+-...76,*(&'*$%'(,+./)))+.2;<80,*/+-(&%%%)*/.-+')(%,*,-.22+.50.$.511-+(***..)+$%+**+,&%),2+*+)**+,,0/--,(())'&'%'''(/*,38<7)'/20133877-'&%$)6:994,.3/7-+08<422388940+-./.--+((',((()*))+)*('%%%''-85-746/*+))*$%',0.5+0-(,2664,,)6'/1421,-1.+6,*)+&%&(&)+6,2..0:9-(,,''(&)/*(*(')+*,5.11./,-292*2&&(+1:.,+,+*/:0-1---...10'-+++-,*'')+/.74./+5/'/00-10-/237744/.3,'&*&)./+*+)+-/.63.4<<7**/-)*2/-6+++,+0/+16651/(+,4,+==6+6,*'-*%#%)/,.-((''(*)&$$%%+,/--3*)''%-+4---'%&''$%**'++//*+**./0.,0059212102(&)%%$'*/8:2+.-..0&%0*,//.+31/))%)'-,223++02-++*54/4))''#,,.178*).+$$'&&(+'$(+%)-,,*))+33)*4.(&),,+18/.2..-..+7;2..4*'%')*-.-0&%'%&'(2+)**2/,,*+4(**.0,*,*/'(**)+.+)..,/4-0/*)*),94,..0))(,-5:/1:2.5113//66/4==;3.03252)+,''(,#(%+,+0-'&**+,5*/(/+/'*$,.6<9./32663,(((%''&)*#&'*41*),11*(,))*;:3+','(-\tNM:i:25\tms:i:359\tAS:i:356\tnn:i:0\ttp:A:P\tcm:i:16\ts1:i:105\ts2:i:105\tde:f:0.0849\trl:i:0\n",
      "ERR3245465.12325\t0\tIV\t123048\t1\t3S26M3I6M1D3M1D9M1I6M1D7M3D8M1I12M1D38M2D9M1I15M1I9M1D5M1D4M3D12M1I2M1D21M1D23M12S\t*\t0\t0\tCAGTAGCTCAGTCGGTAGTGGTGGCCGCTAAAAGCAGTTGGGGTCACGAGTTTCAAGTCGGCCTCTCCTAGGTTTTACCCAGCCTTATTGGGAAGTGAAGCAATCCACGACTGGATTATCGGCCAGTCCCCGTTCTAGGACGTGGCTTAAAATTACAGCCAGAGGATCACCAGGCAGTGATACTGAATTCCAGATCTGCAGTGTTAGCACTTGAAGAATGGATCGTTCTAATCTCAAA\t&#%#%&'+*,33157/-..2/+).'*)%,)*-*$#$(()',.,%&$(&+*)3.'*4),-./;(($$*)(+31*9.,#&*:+)*)&,*./-52),(%)'(),7/.,-)-+///15220''%,4'/)'((10*'#'$('53++*('*%'('(-)(&%'))1-(((+,)(&%&)*.-,'-//&'$%&$)+''*-.1-+&$&$%*,-'112-((+.+/.)$&%'*..,--'%',-+$.))48\tNM:i:33\tms:i:267\tAS:i:260\tnn:i:0\ttp:A:P\tcm:i:4\ts1:i:45\ts2:i:45\tde:f:0.1121\trl:i:0\n",
      "ERR3245465.18068\t2048\tIV\t126725\t9\t6H32M1I2M1D9M2D9M2I14M1D16M1I14M1I36M1D13M229H\t*\t0\t0\tTTTGAGGATGGTTGCCGCTTCTGCCACCCGTATACGGCTCCATCGCTGGCCGTCGCGCGCCATCGGCATTTGTTGATCGCCTCCGCTCAGCGCCACCGCCATCCTTCTTTTTCGGATACGTTCAGCCAAGACACGAGAATACGAACGCTT\t/90+*+0((*0*.::84&(*$&&)/(*0'%()$&&&'$.-2-,)$$'&--.(&&(&)).0-()&,10-11+-13//.**.,(-/-%()+,3-2.*.0,.,,*/))&#(-,0+)(4,**,)(+*./:678/,*&'&%'03'),-0///'(/\tNM:i:18\tms:i:192\tAS:i:190\tnn:i:0\ttp:A:P\tcm:i:6\ts1:i:46\ts2:i:0\tde:f:0.1046\tSA:Z:IV,127384,+,153S231M22D1S,43,35;\trl:i:0\n",
      "ERR3245465.18649\t2048\tIV\t126725\t26\t9H36M2I11M1D6M1D15M1I3M1D7M2D19M3D46M244H\t*\t0\t0\tTTTGAGGATGGTTGCCGCTTCTGCCACCCGTAACATAAGCTCCATCAATTGGCCGCGCGCCATCGGCATCTTCGTGATCGCCCGTCAGCGCCACCGCCGCCTTCTTCGGATACGTTCAGCCAAGACACGAGAAATACGAACGCTTC\t562''),)/53+1,,2/.,((++,1*/6*('(+&&'$%.+-.1.--.,,(((),'&%&+/-((&*1-,,(*'#%)**,$**,*%'(%,,-,.-/11).25,,,#,/**0.++***5+*+.8.747.,.(((*:,*+*+5./2')*'\tNM:i:13\tms:i:228\tAS:i:224\tnn:i:0\ttp:A:P\tcm:i:9\ts1:i:55\ts2:i:0\tde:f:0.06\tSA:Z:IV,127391,+,157S240M6D2S,60,22;\trl:i:0\n",
      "ERR3245465.24877\t2048\tIV\t126725\t30\t8H35M1I2M1I23M1I20M1D26M2D38M234H\t*\t0\t0\tTTTGAGGATGGTTGCCGCTTCTGCCACCCGTATCACCGACTCCATCTGACTGGCCGTTGCGCTCATCGGCATCTCGTTGATCGCACCGTCAGCGCCACCGCCGCCTTCTTTCGGATACGTTCAGCCAAGACACGAGAGCTACGAACG\t0.(%)1./-13/31.3-*(-'((.0/46*)))'%#($%'$%+*&&%(('$'&0&*&('&('($'%&%5--,+'%&(+..//%0*$)/+-+&*.+/-'*.**.243.(#(,/('820)--(3()*41%+2+$%,&++-$$(#%')4)(\tNM:i:18\tms:i:185\tAS:i:184\tnn:i:0\ttp:A:P\tcm:i:7\ts1:i:59\ts2:i:0\tde:f:0.1141\tSA:Z:IV,127391,+,161S225M16D3S,33,40;\trl:i:0\n",
      "ERR3245465.39654\t2048\tIV\t126725\t39\t9H39M1D28M2D23M2D10M4D38M1D2M1D5M240H\t*\t0\t0\tTTTGAGGATGGTTGCCGCTTCTGCCACCCGTAACATGCTCATCAATATGGCCGTTGCGCCATCGGCATCGTTGATTGCCTCCGTCGACGCTCGTCGCCTTTTCGGATACGTTCAGCCAAGACACGAGAAATACGAACGTTTTCGC\t992)(*.(,+5-12032/&&$&%--*273**(+%&'(',('*+11.0003,*,(%)$+.-$%).0.-/1/652/1,'+.$)'$&))(,+&&-.,-,-0)+,.&+5*((*)00)*+,2/6--)*.,-.22,+,+.14,**),/'(2\tNM:i:17\tms:i:213\tAS:i:208\tnn:i:0\ttp:A:P\tcm:i:10\ts1:i:64\ts2:i:0\tde:f:0.0795\tSA:Z:IV,127391,+,154S238M8D2S,60,29;\trl:i:0\n",
      "ERR3245465.40591\t2048\tIV\t126725\t31\t6H9M1I23M2I2M2I8M2D26M1I8M3D21M3D27M1I19M248H\t*\t0\t0\tTTTGAGGATGGGTTGCCGCTTCTGCCACCCGTATTACCGATCAACCAAATATGGCCGTCGCGCCATCGGCATCTTCGTTGATATCCGTCAGCGCCACCGCCGCCTTCTTCGGATACGTTCAGCCAAGACACCAAGAAATACGAACGCTTC\t,45*)+/(('7-/66;9.+/+(*-)()372,,***&'((,''&)%''6,),+0120,,+,/043$'%*,*()%(,/2740.,%%+0,-0()(-+4''5((())-**#+-'+:+(),*.4.,.0..2(*($'*$-)(:-,/1/50.)'.0'\tNM:i:22\tms:i:188\tAS:i:182\tnn:i:0\ttp:A:P\tcm:i:9\ts1:i:60\ts2:i:0\tde:f:0.0993\tSA:Z:IV,127391,+,158S243M7D3S,52,35;\trl:i:0\n",
      "ERR3245465.20892\t2048\tIV\t126729\t43\t12H16M1D7M2D4M2D11M1D4M3D27M4D16M6D43M234H\t*\t0\t0\tAGGATAGTTGCCGCTTTGCCACCTAACGCTCCATCTGTTGGCCGCGCCATCGGCATCTCGTTGATCGCCTCGGCGCCACCGCCGCCTTCGGATACGTTCAGCCAAGACACGAGAAATACGAACGCTTC\t%'1'()/23651,),')(()&-2'*)%#%%,.&'%$$-)3()'))./2)((+,+*)%-**+.+.2.1.+$)$('*/-)-.),,)/'(*&&30./-,-.,*)-3,1/+*%&%,,-61'(+*,54/(+,(\tNM:i:22\tms:i:185\tAS:i:172\tnn:i:0\ttp:A:P\tcm:i:9\ts1:i:68\ts2:i:0\tde:f:0.0741\tSA:Z:IV,127391,+,142S200M11D32S,10,28;\trl:i:0\n",
      "ERR3245465.37962\t2048\tIV\t126732\t7\t14H13M1D48M1D11M2D36M1I17M1D13M1D5M241H\t*\t0\t0\tATGGTCGTCGCTTTGCCACCCGTAACATGCTCCATCAATATGGCCGTCGCGTCATCGGCATTCGTTGATATCCCGTCGGCGCCACCGCCGCCTTCTTTCACGGATACGTTTCAGCCAAGACACGAGAATACGAACGCTTTTCGC\t&&&.)(*%0/'))('*+-392&&''$('**'+,++//*)&%',)-)$(,,.$'&&$,1+'*,+,110*)%&),)/00%,(),-+200--2603&$)*)$#'',.%&'(*3+**.-0.0-.((('(-.4)+,,.5,,,)-,*(/6\tNM:i:15\tms:i:201\tAS:i:200\tnn:i:0\ttp:A:P\tcm:i:4\ts1:i:45\ts2:i:0\tde:f:0.094\tSA:Z:IV,127391,+,158S236M5D5S,60,29;\trl:i:0\n",
      "ERR3245465.18068\t0\tIV\t127384\t43\t153S19M1D11M4D7M1I15M2D6M1I5M2D30M1D7M1D13M1D22M2D9M1D23M2D5M4D23M1D8M1D7M1D19M1S\t*\t0\t0\tCACGAGTTTGAGGATGGTTGCCGCTTCTGCCACCCGTATACGGCTCCATCGCTGGCCGTCGCGCGCCATCGGCATTTGTTGATCGCCTCCGCTCAGCGCCACCGCCATCCTTCTTTTTCGGATACGTTCAGCCAAGACACGAGAATACGAACGCTTTCGCCAACTACGATCCTACACCAGAATGAGATCTGGTGCCGCGAACAAGGTACATGTCTGCCGCCTTCAGGAGCTCGCCAAGCTCTACGAGGGAAAGGCAGACTGTTGCCGATTGTAGACGCCCACGCCTCGAATTGTGTGTGTCTTGTACTATTTTGTTAGTCAATCATACTTCGAAATGTTGCGATATTCTTAATAGCTTGTTTGTTCGAATAAAAATGTTCGTAAA\t)%+*-)/90+*+0((*0*.::84&(*$&&)/(*0'%()$&&&'$.-2-,)$$'&--.(&&(&)).0-()&,10-11+-13//.**.,(-/-%()+,3-2.*.0,.,,*/))&#(-,0+)(4,**,)(+*./:678/,*&'&%'03'),-0///'(/.'&*4')$')-22)))&(++714363-*+*,+//1*+/3.,,,.5*+,,+((((*,'&$&)-5))$%'')-..+,)*+,.-()(#%)**(,+))(%)(+,+.--&20.243390-+%.-,0,83*+*,0)/28-0.())''(((#-/-)(+-,0131192032.0%*$$%%%'-,+*0-+)-.+(/+*)+-&.061/./.)552+3,4))%()&/:95.)+%'$#$&0.\tNM:i:35\tms:i:298\tAS:i:288\tnn:i:0\ttp:A:P\tcm:i:8\ts1:i:65\ts2:i:0\tde:f:0.102\tSA:Z:IV,126725,+,6S150M229S,9,18;\trl:i:0\n",
      "ERR3245465.26386\t0\tIV\t127384\t60\t136S55M1D9M1I2M1D2M1D21M2D56M2I11M1D7M2D13M2D4M4D17M1D21M1D23M4S\t*\t0\t0\tCGCCCTGATTTGATGGTTGCCGTCACTGCCACCCGTAACAATATCAATTGGCTTGCCATCGGCATCTTTGTTGATTGCCTCGGCGCCACGTGCCTTCTTTCGGATACGTTCAGCCAAGACACGAGAAATACGAACGCTTTCGCCAACTACGATCCATACACCAGAATGAAAGAGATCTGTGCCGCGAACAAGGATACATGTCAACCGCCCACAGGAGCTCGCCAAGCTATGAGGAGAAGGGCAAGACTGTTGCCGATTTGTAGACGCCCACGCCTCGAATTTTGTGTGTGTGTTCTGTACTATTGTTAGTCAATTTTATTTCGAAATGTTGCGATAACTTTAATAGCTTGGTTTGTTCGAATAAAAATGTTTGTAATCCGAAAA\t%\"&'+%%*,3.-.+0.2+)#&(($#$$$*+(/30*)*'&$&$#%&'*,+*.*%$&%&(('+,+.)'**)((-,0*&&&'\"'%&,160('%'+4-+*#)/2+,3.--.,./-.2915521,&*$(*.8.*,+,-7.+(+++%')281())+*++,1.+*)(+-+-27..,)'***0,%+-./65--,-300,03,,*,/0.&'(&&&(,61%*).-***)&12616*))*&)))+''&$)*(**,-1,,+2-01674:/,*'%.+*,-60(('-,-**+1(,)+)+*&((*+-0,&.-2%''&*0)12+,,+.1)*'''(-.''/92/.5--'*)((&$*/2-0,,+,54.4:;3,10024/-.9;9.*+,.(')+//-3)+(00\tNM:i:28\tms:i:349\tAS:i:342\tnn:i:0\ttp:A:P\tcm:i:12\ts1:i:88\ts2:i:0\tde:f:0.083\trl:i:0\n",
      "ERR3245465.50135\t0\tIV\t127384\t60\t135S43M1D2M2I22M1D23M2D7M2D46M1I29M3I4M11D21M1I17M1I8M1D13M2S\t*\t0\t0\tACACATTGATTGATGGTTAATCGCTTCTATACCTGTATCGCTCAATTGTCGTAATGCCATTGGCATTTTGTTGATTGCCCGTCGGCACCGCCGCCTTCTTCGGAACGTTCAGCCAAGACACGAGAAATACGAACGCTTTCGCCAACTACGATCCATACACCAGAATGAAGGAGATTTGGCGTCGCGAACAAGGGATACATGCACTATGCCCACAGGAGCTCGCCAAGCTACAAGGAAGGGCAAGACTGTTGCCGATTTGTAGACGCCCACGCCTCGAATCTTTGTGTGTGTTCTTGTACTATTTTGTTAGCGCTCAACTTCGAAATGTTGCGATATTCTTTAAATAGCTGGTTTTGCTTCCGAATAAATTGTTCGTAAAT\t''$&%$*--6(*'&&()+))--3'((%(#%&,-'*'&(#&%%%%%%&&&((($$#'-(&')'2+*--0-+.-,+.*-04/*0+*3'%%&'-/.4,+'$()$,/.-('&-%$(*,041110.)-,,8-**-.0.*)&(/'&(7+**$-)**322/)+)**1--029/.(&(-'**.')(($'#$%()11/.1&50+++..--+(%&$''-2&&'(++**)&&),,8+)(&$&%&)+&''11(.8--,,++*')/43(')&),0115:6-()),01-,6+(%++-)*,(+,,*,$+0+/,,+**+41'++(+-+'-+,''+.((31)*.2--,+,+*,/%+'.13+-01,-)+*:99-)-/,/-(0%(.*'()+*%*+)20%\tNM:i:34\tms:i:345\tAS:i:326\tnn:i:0\ttp:A:P\tcm:i:15\ts1:i:122\ts2:i:0\tde:f:0.0772\trl:i:0\n",
      "ERR3245465.51025\t0\tIV\t127384\t47\t155S40M1D6M3I10M3I30M2I2M1I5M1D11M1D12M1D28M1I2M1I34M2D5M3D4M1I15M1D2M1D27M9S\t*\t0\t0\tCCTTGTCAGGATGGCGTTGCCGCTTCTGCCACCCGTAACATGACCATCAATATGGCCGTCGCGCCATTCGGCATCTCGTGATTGTCCCTCGTCAGCGCCACCAACGGCCTTTCTTCGGATCACGTTCAGCCATGGATCTGAGAAATTCACGAACGCTTTCGCCAACTACGATCCATACACCAGAATGAAGGAGATTCAGCCAATGCGAACAAGGGATGATACATGCACTATTGTGCACAGGAGCTCGCACCAAAGCTTACGAGGAGAAGGCAAGACTGTTTCGATTTGTGGATGCCCACGCACCGAATACTGTGTGTGTGTTCTTGTACTATTTTGTTAGTCAATTTTATTTTCGAAAATGTTGCGATATTTTAATAGCTTGGTTTGTTCCGAATAAAAAATGGTTAAA\t#'''*'$$(-(((/$&(..550-)()++5)*64/))*+''%'&(*((*30+)''.-.)&(*./0-(%.*5,+,.(,%$&&&)-($+,)#&%''',+)&*%*+''$&))0*.)#++(*40*''+(+,(-/44,,.3)&'%%'&)31)%%'+,15-+(),-%$,-0.-(''&',*0))'')+,+./++)**),'()()%#&%'''&),,.500+310'$%%'$$$&&')*(%&&&()(''&'+()++++'&-,&'''%('$#$$-(&'*'(('**(++('(-+(*(+72**(+)%*23)))'%#&)')/($#&&*,-)()**/.$')(,+,/,.24-,4/1-.-9-1+..(-,*)&&044-)(-+()+,**'-,+*3)*+*4/*(/6--10/5.22,-;:91)(*&&(&')\tNM:i:37\tms:i:284\tAS:i:276\tnn:i:0\ttp:A:P\tcm:i:10\ts1:i:68\ts2:i:0\tde:f:0.1169\trl:i:0\n",
      "ERR3245465.4866\t0\tIV\t127391\t60\t159S46M1I1M1I6M1D5M3D8M1D16M1D6M2D5M3I1M1I7M1I3M2D15M1I4M1I8M4I2M1I5M1D9M2D18M1D2M1D27M1D22M1D17M4S\t*\t0\t0\tGTTGGTTGATGGTTGCCGCTTTCCTCTGCCACCCGTATGCTCCATCAAATTGGCCGCGCGCCATCGGCATCGTTGATCGCGCCCACGTCGGCGCACCGCTGCCTTTTTCGGATACGTTCAGCCAAGACACTACACGAGAAGCTACGAACGCTTCTTCGCCAACTACGATCCATACACCAGAATGAAGGAGATCTGTGCCGCGAACGACAAGGATCATGCTATGCTCAAGGAGCTCGCCAAGCTTACGAGGAAGGTTAGATAATACTCAATCGATTTGTAGACGCCTCACGTCCTTGAATTGCGCTGCGTGTTTTTTTTGTTATTTTGTTAGTCAATTTTTTTATTTTCGAAATGTTGCGATATTCTTAATAGCTTGGTTTGTTCCGAATAAAATGTTCGTAATCCGAAAA\t#$%'%'&(%&./+02;99')'''*)'(''+)/5+'&'%$$%+-(((*4-((*.0.,())+,0+*(++)'*)+05--,%%$'(+*$'%().//.'#&'$('/1,+,+-*%'0/,((')*+.28-24))(&%%''+***))*')*+*),4('&')#*2*,70.*&)+-,-,//,*-++-1-.350..,++(),/*)((,32,,+,/)'$',+22&&#&(,)((('&%'&&,,''('&$%))/+***&%&('*$$&+&(()))'0))$&'##$%(+**%#$')*-.44)$%'&(+&(+,*.(+&&)'**&*(,+-0230-%&&&&&)+/383',,/00*1342/,&..**'((.1'(10,++))()+#)(*+))+,1/3.3562+.'+').),36*)*%+'**+2-02*)/3/\tNM:i:44\tms:i:252\tAS:i:242\tnn:i:0\ttp:A:P\tcm:i:11\ts1:i:78\ts2:i:0\tde:f:0.1339\trl:i:0\n",
      "ERR3245465.14771\t0\tIV\t127391\t32\t164S48M1D3M2I10M1I3M1I1M1I19M2D23M1I41M2D18M1D3M1D7M4D4M3D2M1D23M1I26M3S\t*\t0\t0\tCGCGGGTTTGAGGATGGTTGCCGCTTTGCCACCCGTAACAAAACCTCATCAAATATGGCACCAGCGTGCCATGGCATCTTCGTTGATTGCCTCGTCGGCGCCACCGCCGCCTTCTTTTCGGATACGTTCAGCCTAGACTACACGAGAAAATACGAACGCTTCGCCAACTACGATCCATACACCAGAATGAAGGAGATCTGTGCCGCGAACAAGGATCTACGAGCTCATCATCGTGCCTCGGGAGCTCGCCAAGCTACGAGGAAAAGGGCAAGACTGTTTGCCGATTTGTGGACGCCCACGCCTCGAATTTTGTGTGTGCTTGTACTATTTTGTCAGCAATTCTTATTTGGTGGGCGATATCTTTAAATAGCTTGGTTTTGTTCCGAATAAAAATGTTTGTAAAAT\t&#'(&*.4-,)+/))-6/:988/./)*('++06/.,*+'&((&$&#%#&$%,))*/1/-&(('((*(,42))%/+)*%'),-6.+),%)--%&%(()/,+.-)*4+/412/+)%'+*)'170++,+*8-./41)0.-+(&%&()1/195,,1+*4,(*%(,%%69=20..,+0)*,($&(%*)+-:41,1,),&((().*(),,(()+5,.+--,/')**)(,$$&))(()')&+.+&&%+4()'*(-.534+*&$%#%()&,)&'-1%&,(,,--)/.&'3/0330*)&,*./07/***&)%''*2)-01')'%')(%*/),%'++)54-&*()()')()$+/%)(&$-''&%(+***&$',0-=5),+)/3.0*;<6,.,)1+,1))9;7+++/1*()+42.)\tNM:i:37\tms:i:280\tAS:i:272\tnn:i:0\ttp:A:P\tcm:i:12\ts1:i:59\ts2:i:0\tde:f:0.1184\trl:i:0\n",
      "ERR3245465.18649\t0\tIV\t127391\t60\t157S10M1I49M1D2M1I23M2D12M1D42M1D8M1D30M3D21M1D25M2I14M2S\t*\t0\t0\tCCTTCCAAGTTTGAGGATGGTTGCCGCTTCTGCCACCCGTAACATAAGCTCCATCAATTGGCCGCGCGCCATCGGCATCTTCGTGATCGCCCGTCAGCGCCACCGCCGCCTTCTTCGGATACGTTCAGCCAAGACACGAGAAATACGAACGCTTCGCCAACTACGATCCCATACACCAGAATGAAGGAGGCCTGTGCCGCGAACAAGGGATACATGCCATCATGCCCACAGGAGCTCGCCAAGCTACGAGGAGAAGGCAAGACTGTTGCCGATTTGTGGATGCCTACGCCTCGAATCTGTGTGTGTCTTGTACTATTTTGTTAGTCAATTTCTTAACTTCAAAATGTTGCGATATTTTTAATAGCTTGGTTTGTTCCGAATAAAAAAATGTTCGTAAAT\t$$##+)*,-562''),)/53+1,,2/.,((++,1*/6*('(+&&'$%.+-.1.--.,,(((),'&%&+/-((&*1-,,(*'#%)**,$**,*%'(%,,-,.-/11).25,,,#,/**0.++***5+*+.8.747.,.(((*:,*+*+5./2')*''50.*''(,/10*4,+)'&$+*..335,.,'%$&$#&''(++7,-,-3,6+*110/-./.,3.'%%')-29-,,,-.*)(((('/.0*((%&&'(*&)/(.+*130,,+*,1*,&*)+)*,,'-&#%&0&')(-**+++-)'+-00,,....01-,++0-02.((2-//0/512(.%20('$*)%&()'&(.3-0/,*)*,'1,74))*)842*8;8,03/0,.0*.5:=;<5112)&&%&..'\tNM:i:22\tms:i:360\tAS:i:356\tnn:i:0\ttp:A:P\tcm:i:12\ts1:i:97\ts2:i:0\tde:f:0.0732\tSA:Z:IV,126725,+,9S146M5D244S,26,13;\trl:i:0\n",
      "ERR3245465.20892\t0\tIV\t127391\t10\t142S36M1I12M1D22M1D13M2D7M2D15M1I1M2D26M1I36M3D6M3D23M32S\t*\t0\t0\tGCACCAAGTTCGAGGATAGTTGCCGCTTTGCCACCTAACGCTCCATCTGTTGGCCGCGCCATCGGCATCTCGTTGATCGCCTCGGCGCCACCGCCGCCTTCGGATACGTTCAGCCAAGACACGAGAAATACGAACGCTTCGCCAACTACGATCCATACACCAGAATGAAAGAGATCTGCCGCCGCGAACAAGGATACATGCACTCATGCCCACGGAGCTCGCCAAGCTACGAGGAAGGGCAAGACAATCTCGATTTGTAGACGCCCACGCCTCGAATTCTTGTGTGACCAACTGTACTATTTTGTTAGTCAATTTATTCTCGAAATGTTGCGATATTCTTAATGGTCAGCACTGCTTAGCAGCATGTTTGTAAT\t$(%()+)')/%&%'1'()/23651,),')(()&-2'*)%#%%,.&'%$$-)3()'))./2)((+,+*)%-**+.+.2.1.+$)$('*/-)-.),,)/'(*&&30./-,-.,*)-3,1/+*%&%,,-61'(+*,54/(+,((34.4,,,//.,1)'&%&&--..43*)&*(&%'('&&&&',,-(*)50-(,$)#&$%'*(++'%$%&()40&%%*$&&*,/415/,'(((&&'+'+'3/)-0,+'&&%#%(+/3--+,,-0/25:/)*'&&#''+*)($%)()(()&&&&&$)))&&-*-10+-43233/5)-.+&,*$+&%.80(()*('))')/*&(/,1)'**$%*&$%(($%%$&%''(%&&&)'%%&)(\tNM:i:28\tms:i:260\tAS:i:254\tnn:i:0\ttp:A:P\tcm:i:6\ts1:i:46\ts2:i:0\tde:f:0.1014\tSA:Z:IV,126729,+,12S128M19D234S,43,22;\trl:i:0\n",
      "ERR3245465.22110\t0\tIV\t127391\t60\t145S13M1I3M1I32M1I15M1I22M2D7M5D10M1I8M1I25M1I43M3D16M2I5M1I37M2S\t*\t0\t0\tTCAGTTCGATGGTTGCCGCTCTGCTCACCCGTAACATGCTCATCAATATGGCCGTCGCGCCATCGGCATCTGCTGATCGCCCGTGTCGGCGCTTGCCGCCTTTTCGGATACGTTCAGCCTAGAGACACGAATACGAACGTTTCGCCAACTACGATCCACTCCTTCCAGAATGAAGGAGATCTGTGCCGCGAACAAGGGGATACATGCACTCAATGCCCACAGGAGCTCGCCAAGCTACGAGGGGCAAGACTGGTTGCCGATTTTGTGGACGCCCACGCCTCGAATCTTTGTGTGTGTTCTTGTACTATTTTGTTAGTCAATTTCTTATTCTCGAAATGTTGCGATAACTTCTTAAAATAGCTTGGTTTGTTCCGAATAAAAATGTTCGTAAAA\t%%'(()'0--+/+1+.5)(+&'(('((-330))'%')('(*'$(-0&''(++)*%%%&)+,++*)+'$&$)'&&**(%((1,*-'*&%)*)''%%%-&-()*,+%&++)+++.3-.32/)')*()**,&(+%+1071//)0-''38)*%(*1521)($$%',$%--,/26,)+)*,))-.)*)&))0*)'&-'$$+2/6-,)&'$)))(&%**+/881**'1+)))*++9/81+((&((&**((&(,+,,,++/2.341.086--.2-,,+3.+%((/.*1.,1)$()-'*-))+*&+$,/-*&&('*',-*-2+1124.5+2$--.+*&-((5:,-.3/-,+.,1.+*)'00404.+,/-.2763;6-002/06.,3<;6.+,/,)))-'0.\tNM:i:24\tms:i:368\tAS:i:360\tnn:i:0\ttp:A:P\tcm:i:17\ts1:i:98\ts2:i:0\tde:f:0.0645\trl:i:0\n",
      "ERR3245465.24877\t0\tIV\t127391\t33\t161S26M2D2M1D8M2I9M1D9M1D7M2D14M1I35M1D17M3D5M2I16M2D10M1D11M4D3M2D17M1D31M3S\t*\t0\t0\tGTTCCAAGTTTGAGGATGGTTGCCGCTTCTGCCACCCGTATCACCGACTCCATCTGACTGGCCGTTGCGCTCATCGGCATCTCGTTGATCGCACCGTCAGCGCCACCGCCGCCTTCTTTCGGATACGTTCAGCCAAGACACGAGAGCTACGAACGTTTTGCCAACTACGATCCATACACCAGAATGAGATTCTGTGCAATGCGAACAAGGATACCTGGCTTATGCACAGGAGCTCGCCAAAGCTTTACGAGGAGAAGGGCAAGACTGTTGCCGATTGTGGACGCCCACGCCAATTTTGTGTGTGTGTTCTTGTAACTTTGTTAGCAATATCTTATTACAGCGTTGCGATATTCTTAATAGCTTGGTTTGTTCCGAATAAAAATGTTTAA\t\"##(-*+,0.(%)1./-13/31.3-*(-'((.0/46*)))'%#($%'$%+*&&%(('$'&0&*&('&('($'%&%5--,+'%&(+..//%0*$)/+-+&*.+/-'*.**.243.(#(,/('820)--(3()*41%+2+$%,&++-$$(#%')4)('+,(+-7:4,*)**,67,+**)+/,+-0/()()'(,%')$,.,++,*-1//5/.5))*.*$$&%$%%&()*-)/)'(&&$'(,+/*('&%&%&%&&)#++.,2-+/2/....162775,2/)'*1&$%&++&)%%($%%)*,'+)('()*+.1&(/..-,*+7/-:.-+'--,((%)*'%'#&&%%()-*+*++))0$11/6,--0/7;65;2-3/10-,2'(42/*,./)%*+\tNM:i:40\tms:i:254\tAS:i:244\tnn:i:0\ttp:A:P\tcm:i:6\ts1:i:61\ts2:i:0\tde:f:0.1234\tSA:Z:IV,126725,+,8S147M234S,30,18;\trl:i:0\n",
      "ERR3245465.26470\t0\tIV\t127391\t60\t152S17M1I10M1I28M1D5M1D23M2D25M1I2M1I21M1D7M4D20M1I8M4D4M4D18M2D2M1D10M1I4M1I11M9S\t*\t0\t0\tTACCAAGTTTTGAGGATGGTCGTCGCTCTATCTCGAACAGCTCATTGCTATGGCCGTTGCGCTTATGGCATCTTGTGATTGCCTCTGTCGGCGTTTCGTCGTCTACAATAGATACGTTCGGCTTAGGAGACACGAGAATACGAACGCTTCGCCAACTACGATCCATACATCCAGAATGAAGGGAGATCTGTGCCGCGAACAAGGGATACCGCACTATGCCCACAGGAGCTCGCCAAGCTACGAGGAGAAGGGCAAGACTGTTCGCATGATTTGTAGACGCCCACGTCCGAATCTTGTGTTCTTGTACTATTTTGTTTAGTCAATTATTTCGAAATGTTGTGATATTTAATAGCTTGGTTTTGTTTCCGAATAAATGTTTTAAT\t\"%'+(0+,760(''+'*,03,+$((&'%'%(&&('.)'%%$$%$&)%$'%()5+3/51/*)#&$'#%+())$(*$(+,(%')*)'*+.+0+'*)-(%%)'(+%(&%&%$&)())*)+3''.($($-&()+/,-&++10+.-,6.,-(-1()9220)**,-446.-+)&*$$1(*410+)(*-*'()0)00-.//,++-0-%%.5*(-$%&(&&&$&&.0;0.,+11,++,..0.3-*&(&'%&%($&(,)./()0/..*)*.&+(%#()331/.%1**)'/5)++'*)).,)(00())%()./6//0.-*55/(91**.)((%'%&&''$$)41&')+'$*,''&(,'*))($')'(0994,,3,)+--2')-)*()21*+),\tNM:i:32\tms:i:294\tAS:i:282\tnn:i:0\ttp:A:P\tcm:i:8\ts1:i:81\ts2:i:0\tde:f:0.0909\trl:i:0\n",
      "ERR3245465.30191\t0\tIV\t127391\t60\t173S35M1I4M1I9M1D7M1I1M1I9M2D9M1I2M3I6M2D7M2D7M1D31M1D16M1I31M4D17M1D4M1D22M1D8M4S\t*\t0\t0\tCCCACCCAAGTTTGAGGATGGTTGCCGCTCCGTGCCACCCGTAACATGACACACCATCAATATGGCCGTGCGCCATCGGCATTTGCAGGATTATCCATCGTCGGCGCCACCGTCGCCTTCTTCTCATGGATACGTTCAGCCACCAAGAACACGAGAAATACGAACGTTTTCGCCAACTACGATCCATACACCAGAATGAAGGAGATCTGGCGCACGCGAACAAGGATACACTGGCACTCATGCACAGGAGCTTCAATACCAAGCTACGAGGAAGGGCTGACTGTTGCCGATTTGTAGACGCCCACGTCCGAATTTTGTGTGTGTGTTTTGTACTATTTTGTTAGTCAATTTCTTATTTCGAAATGTTGCGATATCTTAATAGCTTGGTTTGTTCCGAATAAAATGTTTAAA\t$%$%*1,0,)/62+)+-*-92720764*(('%$%'*%+/2'%&+%&$((+)+&-+++*/,('&('&''&'&**&$'&(+***%'&$#++,,$$$.'#&$(4245.--*&*))&+14--*%+,%(&&&'-''()().++()%$+,+5**'&),+10+</*,.-11/.(-+)'.6504-)*,,-45.+)(%%/)*253203/)/()*($&#%%)'%)'(+,2.5(11((,-$&&&,*)*+**/,,*.'6.**)'+&#%&&**.4)''''''(+((+4,''-**+*,1)*-21952--,,,..36*)**&,,(*.*'./*/+*)'()***(-,++,2.276.274%,++,0&)-%-,/)*)$$()*(*,0*-*)(%&%-,9/)))*-100.40+-4+0-5/+0;4,+++*('**\tNM:i:32\tms:i:298\tAS:i:290\tnn:i:0\ttp:A:P\tcm:i:13\ts1:i:98\ts2:i:0\tde:f:0.0992\trl:i:0\n",
      "ERR3245465.34807\t0\tIV\t127391\t44\t151S23M2I4M2D2M1D16M1D12M1D17M1I6M2D8M1D16M1I40M2D8M1D14M2D5M3D5M6D34M1D17M4S\t*\t0\t0\tCCTTCAGTAAGGATGGTTGCCGCTCGCTCACCCGTAACATGCTCCATCAATATCGCGCGCCATCGGCATCTCGTTGATCGCCTCGTCAGCGTCACCATCCGCCTTTTTCGGATACGCTTTAGCCTTAGACACGAGAATACGAACGTTTCGCCAACTACGATCCATACACCAGAATCTGAAAGTTTGTGCCGCGAACAAGGATACATGCACTGTGCCCACAGGAGCTCTGCCAAGCTACGAGGGAAGGGCAAGACTGTTCGTCGATTTGTGGACGCCCACGCCTCGAATTTTGTGTGTGTTAATACTATTTGTTAGTCAATTTTATTTTCGAGCGATATTCTTAAATAGCTTGGTTTGTTCCGAATAAAATGTTTGTAATCCGAAAT\t$%#%'('*'((+**1///6;;/(*&%&%(',13,+-+')(&%#')(*++/*&$&(&)*-.1&&%,1./($''(340,/&)+214221,&$##%$')\"$'*)*0*-(/1,/6-,())%.(%*13.$&('('(((*&0/(+,+42))%*-((6:,'%-,00-+0*&('))/-+,10'()(,--*-.-'''(,)))+4&#%&+**,+,),+(*&'),.95*),0./)&'%((-*-,))'%'%&,+*&()1,+43...-,(,%'$*,0311+)),++*)60),*',')(03'-)+&('&(+*++&('()+*+/,(+10,)(()+/1.)',*.&'*##$$$&%(#+-06)+--+23-+5;7031-0+,5*-76,,,*++#))2/*/)-+)'\tNM:i:36\tms:i:298\tAS:i:286\tnn:i:0\ttp:A:P\tcm:i:8\ts1:i:66\ts2:i:0\tde:f:0.0992\trl:i:0\n",
      "ERR3245465.35624\t0\tIV\t127391\t46\t155S48M1D11M1I3M1I8M1D10M1D10M2D4M1D7M3D4M2I3M1D12M1I21M1D23M1D7M2D21M1D10M1I15M1D6M1D10M3S\t*\t0\t0\tCACGTGATTGAGGATGGTTGCCGCTTCCTGCTTCTCCGAACATATACTAATATGGCTGCAACGCCATCGGCATCTTGTAGAACGTCCGCATGGCGGCGCTTCTGCCGCACTTCGGATATTCAGCCAAGACTCAAGAAATACTACGAAACGTTCGCCAACTACGATCCATACACCAGAATGAAGGAGATCTGTGCCGCGAACAAGGATACACGAAGCACTATGCCCACCGAGCTCGCCGGGACTACCAAGAAGGCAAGATAGCATGGATTGTAGACGCCCTACGCACCGAATTTTGTGTGTGTCTTGTACTATTTTGTTAGTCAAACCTTATTCTTCGAAATGTTGCGATATTTTAAATCGATCTGGTTTGTTCAAAATAAAATGTCGTAATCCGAAA\t$#($'))/+*(**((*.../+40,0+))&$%%($%),(,+&%$#$$$$(++,,//)')((%))),''&)--..'&%#%'&*+)&')0+&$$(+(.**+&#$&#(',/)%$%&$$&&%%&('*+/0%',+'%(%)'&1,'(**++*+8-0.).%$'.*($+)*+.44+('((+,023733/./,0,../,,'&()-)*++.46+-3'&'&'&&*)%)&&%%&'*3+$%&&)+&('('(%('$$#%$%%('()).&'-,,+,,*&'+''+)',+,.--75*$&)(+,50-/.,+.+((''(*)(')/++-,,+).00)05,.-,'*))*&%+&)#)*&-/5,,,1--*+)))*204.83)#%#$'(-)-00(-(&$).1*-/,+))+&\"$#$&'')).,\tNM:i:41\tms:i:244\tAS:i:240\tnn:i:0\ttp:A:P\tcm:i:11\ts1:i:69\ts2:i:0\tde:f:0.1434\trl:i:0\n",
      "ERR3245465.37962\t0\tIV\t127391\t60\t158S14M1D24M2I9M1I7M1D6M1I1M2D3M1I17M2D63M2I7M1D2M1D10M1D4M1I7M2D4M2D50M5S\t*\t0\t0\tCACCCAAGTTGAGTATGGTCGTCGCTTTGCCACCCGTAACATGCTCCATCAATATGGCCGTCGCGTCATCGGCATTCGTTGATATCCCGTCGGCGCCACCGCCGCCTTCTTTCACGGATACGTTTCAGCCAAGACACGAGAATACGAACGCTTTTCGCCAACTACGATCCATTTCCAGAATGAAGGAGATCTGTGCCGCGCGAACAAGGGGATACGGCTCATCGCCTCACAGGAGCTCGCCAAGCTACGAGGAGAAGGGCAAGACTGTTGCCGATTTGTAGACGCCCACGCCTCGAATTTTGTGTGTGGGTTCTTGGCATTTTGTTAGCACTGTTTTTATTCTTAAATGTTGCGATATTCTTAAATAGCTTGGTTTGTTCCGAATAAAAATGTTTAAAT\t#%')-&*-5,+()&&&&.)(*%0/'))('*+-392&&''$('**'+,++//*)&%',)-)$(,,.$'&&$,1+'*,+,110*)%&),)/00%,(),-+200--2603&$)*)$#'',.%&'(*3+**.-0.0-.((('(-.4)+,,.5,,,)-,*(/65-.(&%('''-/**&&,.,348,0,'+)&(((&,+**,.)(()*6423-+./0'())(4&$%%&%'//(&%'(-/***-.066570*(()()+)$')-(32*..,+,-,2/07676=:6,,+,+,,-6,)*)-.+-29,3+*-%*'(('+(++-&,.('#'&+1*(*/%&&%&##',(/0(*/$*&%(&'''**,-+)(&+%-2.9,,+,,.6,,-.0()'(*'',),::4+,/0,,(10)\tNM:i:29\tms:i:311\tAS:i:306\tnn:i:0\ttp:A:P\tcm:i:16\ts1:i:104\ts2:i:0\tde:f:0.0947\tSA:Z:IV,126732,+,14S144M5D241S,7,15;\trl:i:0\n",
      "ERR3245465.39654\t0\tIV\t127391\t60\t154S26M2D11M1I9M1D12M1D6M2I10M1D6M2D7M2D7M1I40M1I34M2D5M1D2M1D21M1D14M1I22M2S\t*\t0\t0\tTTACCCAAGTTTGAGGATGGTTGCCGCTTCTGCCACCCGTAACATGCTCATCAATATGGCCGTTGCGCCATCGGCATCGTTGATTGCCTCCGTCGACGCTCGTCGCCTTTTCGGATACGTTCAGCCAAGACACGAGAAATACGAACGTTTTCGCCAACTACGATCCATACACCAGAATGAGAGATCTGTGCATGCGAACAAGGATCTACGCACTATGCCTTCGCAGGAGCTGCCAAGCTACGAGGAAGGGCAAAGACTGTTGCCGATTTGTAGACGCCCACGCCTCGAATTTGTGTGTGTGTTCTTGTACTATTTTGTTAGTCAATTTTATTACTCGAAATGTTGCGATATTCTTAATAGCTTGGTTTGTTTCCGAATAAAAATGTTTGTAAAA\t\"%$'01-20992)(*.(,+5-12032/&&$&%--*273**(+%&'(',('*+11.0003,*,(%)$+.-$%).0.-/1/652/1,'+.$)'$&))(,+&&-.,-,-0)+,.&+5*((*)00)*+,2/6--)*.,-.22,+,+.14,**),/'(2381+-,-+/./-((((.110212()''')),+,+-,-(()*)-302+6+*,$%'%'&$'((*-,'&%&&)((.(('&'+3/2)%&&'&'(,'*&2-().()+,++-++-368/8,/,+,+,+0:5')(+.**+,*-,+)*)('()++*.',.*($#)'/66.034244385*(('&))%&+)(,;2)+(*++*-%()+%/-51-.213/6+6;6.*4+//-**(-8:4*,*0-'(*,)8/\tNM:i:29\tms:i:314\tAS:i:310\tnn:i:0\ttp:A:P\tcm:i:12\ts1:i:84\ts2:i:0\tde:f:0.0972\tSA:Z:IV,126725,+,9S145M11D240S,39,17;\trl:i:0\n",
      "ERR3245465.40591\t0\tIV\t127391\t52\t158S25M1I9M3I18M2I3M1D5M3D3M2I6M2I6M1I8M1I12M1D29M2D9M2D20M2D7M1D3M1D3M2D1M1D3M1D19M1D2M1D40M3S\t*\t0\t0\tCACAAGTTTGAGGATGGGTTGCCGCTTCTGCCACCCGTATTACCGATCAACCAAATATGGCCGTCGCGCCATCGGCATCTTCGTTGATATCCGTCAGCGCCACCGCCGCCTTCTTCGGATACGTTCAGCCAAGACACCAAGAAATACGAACGCTTCGCCAACTACGATCCATACACCAGAATGAAAGGAGATCTGGTGTGCCGCGAACAAGGGATCTACGGCACTGCGTCCACAGGAGAGCTCATCCAAGCTACTACGAGGAGAAGGCAAGACTGTTGCCGATTTGTAGACGCCCGCCTCGAATTGTGTGTGTTTTTGTACTATTGTTAGCAATTCAACTTTCGAAATGTTGCGATATTTTAATAGCTTGGTTTGTTCCGAATAAAAATGTTCGTAATCCGAAA\t(%('+(,45*)+/(('7-/66;9.+/+(*-)()372,,***&'((,''&)%''6,),+0120,,+,/043$'%*,*()%(,/2740.,%%+0,-0()(-+4''5((())-**#+-'+:+(),*.4.,.0..2(*($'*$-)(:-,/1/50.)'.0'(+42+(.,.+....*)((&,-*223,*)2*+.++./,00+),(120//06821/-3++,'(,)*/)%$%$%-(0(&&')3')(-,+%&%'+*./&&%\"$)+,*/,()0*+.))9))),/20/**4/644......./,'%()'*,4&**')*)()*--'-1)-)('&.**:,++)--*,%&))'(0((-6.-.6,)%))()(.-)*1,,.-50-(+32/-+).))6))533.((/2,+,(1*,0,*00\tNM:i:35\tms:i:306\tAS:i:296\tnn:i:0\ttp:A:P\tcm:i:9\ts1:i:70\ts2:i:0\tde:f:0.0956\tSA:Z:IV,126725,+,6S150M1D248S,31,22;\trl:i:0\n",
      "ERR3245465.57190\t0\tIV\t127395\t20\t160S13M1I7M3D14M1I20M3D2M2D9M2I10M1D6M2D14M1I36M1D15M1D14M2D5M3D19M1D13M1I30M3S\t*\t0\t0\tCATCAAGTTTGAGGTCGGTCGCTCCGCTTCTGCCTTCCGTAAACAGCTCCATTGTTGGCGTGCGCACTCGGCTTATTTTGTTGATCGCCTCACGTCAGCGCACCGTCGCCTTCGGATACGTTCAGCCAAGACACGAGAAATACGAACGCTTCGCCATTATTACGATCCATACATCCAGAATTGAGATCTGTGCCGTCGAACAAGGGATACATGTTCTGCACAGGAGCTTTCGCCAAGCTAACGAGGAAGGGCAAGACTGTTTGCCGATTTGTAGACGCCCACGCCTTGAATTTTGTTGTGTCATTGTACTATTTGTTAGTCAATTTTATTTTCGAAATGTTGCGATATTTTAAATAGCTTGGTTTTGTTCCGAATAAAAATGTTCGTAATCCGAAA\t)'$$(+'(7+)%&+)-1664.*(,,)(**&'&-)&'-/+*+-))*'%*+,%&'%,+.(&%%'+,*)((''*%##$%+,-+%'(.5004+%%%'*),'-**%#%)$()*1%+*$#10.,+*,5/0384950.-..+1.-8-)&*+1../))2((+.)*'(,-*+-/0'-(%$&(((,&*',()'$'''%((&''0-(*+/3383(10''($(++$$$$#%'*'01--)+'*&(+-5-''')-**),+($/1+)26,*)&$%)'%'*.2*0*))')'((.6+*+**+*&)+***),&'(')&($$(.+/--,,100092122/7/9()*&*.,.%%.40+,43++*)'(*+)..4*,.,,7/0+/631-,'(,)*5+/=<9-)(3/')+)**'/)--.\tNM:i:33\tms:i:305\tAS:i:296\tnn:i:0\ttp:A:P\tcm:i:9\ts1:i:52\ts2:i:0\tde:f:0.095\trl:i:0\n",
      "ERR3245465.3066\t0\tIV\t127399\t15\t161S18M2D20M1D12M1I7M1I9M1I8M2D9M4D40M2D33M2D13M4D38M1I14M2S\t*\t0\t0\tCACGAGTTTTGTATGGTCGCTTCTGCCACCCGTAACACGCTCCATCAAATGGCCGTCGCGCGCCATCAATACTTCGTTGATCGCCCACGTTCGCGCCACCGCCGCCGCCTTTCGGATATCAATCTAGACACGAGAGCTACGAACGCTTTTTTGCCAACTGAATCCATACACCAGAATGAGAGATTTGTGCCGCGAACAAGGATACATGCACTATATGCCTCACAGGAGCATCGCCAAGCTACGAGGAGGCAAGACTGTCGTCGATTTGTGGATGCCCACGCCTCGAATTGTGTGTGTTCTTGTACTATTTTGTTAGTCAATCTTATTCTCGGCTGTTGCGATATTCTTAAATAGCATAGCTTGCTCCGAATAAAAAATGTTCGTAAAA\t&$%#''*83)*%$$,,')-,)-'((71199,*(*)''%)',..*-+/7/,+6+2)*)*+--24-&'&*,'&$(*%)*,-..*022,&(%$'$&'*'4)*4.00&())2+(/.&'-*'%'%()*)+--.,,--.-,))*++,1200*,1552+-.3,*&$%%(%(('$&''.-,+00)((%''',,&('-3/-.)+.('%7/-.+('')($$(%&&'-0/)'&%(/-)*&$')+:6,/&&())))(+%()&(0./1.+)$&#%(&*.-*+*/&%%#+($''-*'+)4'*)*+('')(%+'/717,--++4-025.,,,,-,*$-.&3*#&$%)&')'.+++++*+1%+5)7,)()%#'#*)05,&340..1+,8;95++)00,/0.46)\tNM:i:33\tms:i:294\tAS:i:284\tnn:i:0\ttp:A:P\tcm:i:5\ts1:i:49\ts2:i:0\tde:f:0.0991\trl:i:0\n",
      "ERR3245465.53317\t0\tIV\t127399\t10\t159S16M2I3M1I21M1D4M1I5M6D20M4D7M1D10M1D9M1D20M4I16M1D4M1D3M1D6M1D4M3D5M1D4M1D6M2D12M2D6M1D33M3S\t*\t0\t0\tCACGAGTTTGGAGGATAGTCAATGCTTCTGCCACGTAACAAATATCCATCAATTGAATGCGTCGCACAGCATCGTTGATTTCGCCCACGCTCAGCACACCGCTCGCCTTCTTCGGATACGCTTAGCCAAGACAAGAAATACGAACGCTTTCGCCAACGAATCCATACACCAGAATGGGAAGGGAGATTTGTGCCGCGAACAAGGATCAAATGTGCCTACAGGAGCTCGCCGATACCAAGGAAAGGCAAGTTGTTGCTGTTTGTAGACGCCCACGCCTCCGCTGAATTTTGTGTGTGCTTTGTTTATTTGTTGTCATCTTAACTCTCGAAATTGCGATAACCTAATTGCTGGTTTGTTCCGAATAAAAATGTTCGTAATCCGAAT\t*%'$+)-3,--')'%&$(&'*.,,,(*%.*.&%&%$(&$#''$%)(+,'))*%(%((&())%$'(&(*'+./-''(''*2,)*0/+(**($'(((''#')'&'(*53*-#---01/*+,,)-/+)/0,'')*)++-1,&&(().('&'+1&')+.('%$#$2++-+,(*)()0/,)(*($.*((('1(/*/.10,+)*0**-.2&'%$'%$$##$%#$&',,)%$($#%$%%$$%(&,&*&((,.'*-*+,&&)$$$%'/0-.+.,--80.%)',.'-%$#%&&0'58/((()*+,++)0/,*+'+9.+--*-*$(#.0(*&)&'&&$'%'()()'%'&&'%'.&%$\"*0/082..+-)'/('0::60++-+##%&++,3(+3&\tNM:i:52\tms:i:197\tAS:i:180\tnn:i:0\ttp:A:P\tcm:i:7\ts1:i:47\ts2:i:0\tde:f:0.1538\trl:i:0\n",
      "ERR3245465.48911\t0\tIV\t127400\t60\t167S23M1I16M1D12M1I1M1I5M2I10M1I8M2D7M2D3M1D33M1I19M1I10M2D7M1I6M2D6M3D18M1D2M1D36M2S\t*\t0\t0\tGTACCAAGTTTGAGGATGGTTGCCGCTTTGCCACCCGTAACATGCTCCATCAATATGGCCGTCGCGCCATCGGCATCTCGTTGATCGCCCGTCAGCGTCACCGCCGCCTCTTTTTCGGATACGCTTCAGCCAAGACACGAGAAATACGAACGCTTTCGCCAACATGTTCCATACACCAGAATGAGAGAGATTCTGTGCCGCGAACAAGGATACATGCACTATAATGCCTCCACAGGAGCATCGCCAAGCTACGAGGAAGGCAAGACTGTTGCCGATTTGTAGACGCCCACGTCCTCGAATCTTGTGTGTGTGTCTTGTACTATTGTTAGTTCAATTTTATTCTCGAAATGCTGCGATATTTTAATTGACTGGTTTGTTCCGAATAAAAATGTTCGTAAAT\t#%#&++1-08,*(*-**,.656;<4**-/'+1-1,/0/5.,,-*('&+)*-12-**)4+4%(,0/02&%&'*0/.*'*()04.03'(%-0*+3)/.-$)).132-*+0*%(*,0-.081''')&,**+,.3/620.00/2-17,+012;10-+,*+()2604)()*,58,,,**(.'+,4400+)%)*./+'&+)))(/**(-4-3)30---.//0./*+'&*()---)),&*((/&*%%''(-/&%(%%%'%&(-&)'/'),*+(.'(%%%*-1440)('((((+-)()(01-'345,-$(,---+**-.,-*/26/-*)&*/'+5+3/),30)+-0(*,%)''.1&&)$)*+*)*))4/-+0--*)(,3/9:9..,+00:4.2<<:1+)*&%'')43)\tNM:i:31\tms:i:292\tAS:i:286\tnn:i:0\ttp:A:P\tcm:i:19\ts1:i:78\ts2:i:0\tde:f:0.1004\trl:i:0\n",
      "ERR3245465.409\t2048\tIV\t132414\t47\t14H22M1D61M2365H\t*\t0\t0\tAGATCTCCTGATGAACTAAACTTGGGGAAATAAATTATGAGGATACGGCACGTGGTGTTCTGCCTGCTCGCACTGGTTTATGG\t-.*'&&+,,0/0002++/5+)**)112%*0*-5.,)&'(-/4,**+,0,*+-,/871-+&()/6-/.,5,2122867;2*).,\tNM:i:2\tms:i:154\tAS:i:154\tnn:i:0\ttp:A:P\tcm:i:9\ts1:i:68\ts2:i:0\tde:f:0.0238\tSA:Z:IV,135158,+,301S2160M767D1S,60,962;IV,133875,+,95S85M3D2282S,39,4;\trl:i:0\n",
      "ERR3245465.409\t2048\tIV\t133875\t39\t95H42M3D43M2282H\t*\t0\t0\tGGCGCCGAATCTTCCGACGATGATCTCGACGAACGGACAAATTTCATCCGTGATAAACTGATTCCGGCGTTGAAGCTTGCAGAAG\t.,-.20*-+('))-.,***-.70.(//50'010.20,-/+)+/-*.,.3-/4,+,91+,+%&*)+85+,,+(--+)00-+,++))\tNM:i:4\tms:i:156\tAS:i:154\tnn:i:0\ttp:A:P\tcm:i:11\ts1:i:64\ts2:i:0\tde:f:0.0233\tSA:Z:IV,135158,+,301S2160M767D1S,60,962;IV,132414,+,14S83M1D2365S,47,2;\trl:i:0\n",
      "ERR3245465.409\t0\tIV\t135158\t60\t301S36M1D20M1I1M2D42M1I39M1I5M3I39M1D20M3I2M1D6M52D12M3I54M1D24M2D26M1I8M2D31M1D5M1D25M2D31M2I24M1D17M1D1M1D32M1I5M1D7M1I18M2D12M3I24M1I72M1D38M1D25M2D18M1D32M4D1M1D31M1I26M3I22M1D7M1D14M2I15M1I8M1I2M2I13M1D37M3D6M1D3M180D5M1I3M2I19M3D8M1I5M4I108M1D8M1D5M127D9M1I7M1D24M1D6M1D36M1D2M2I2M2D11M1D26M1D2M1D3M2D8M3D4M1D1M3D4M1D32M1D37M1I21M1I11M45D19M2D7M1I5M2D17M1I12M1D4M3D15M2I31M1I14M2D13M2D32M1D5M1I43M1D43M312D8M1D16M1D22M1D102M1D8M3D14M1D14M3D22M2I8M2D33M1I8M1D39M1D13M1D26M1I11M1I18M3I4M1D29M1D8M1D18M1D8M3D16M5D8M3D5M3I7M3D5M1D10M1D16M1S\t*\t0\t0\tCCCCAACAAGTTTGAGATCTCCTGATGAACTAAACTTGGGGAAATAAATTATGAGGATACGGCACGTGGTGTTCTGCCTGCTCGCACTGGTTTATGGCGCCGAATCTTCCGACGATGATCTCGACGAACGGACAAATTTCATCCGTGATAAACTGATTCCGGCGTTGAAGCTTGCAGAAGCGATGGGTGAATACACGATTACTTACTGCTCAAGGAAAGTTGGATGCAACGCGAGGAGGACTTTACCGGATGGGTGCCTGGAATTGGGTTCCTTAATGAGACGGATCGCAGTTATGTGAGAACGTGCTACACGGACGGAAGCTGCTACCAGAGCGCTTGCCGTCACCCGAAATCTCATCTTCGGATGCATGGACGAGAAATCTGTGACCGATGAGACCGAGTTTTCACGATACGGCAGCGAAAGTGTGCTCGAACAACACGAAAAGACATCCCGCACGCTACCGTCTGGATCTGCTGTGATAAGGGAAATTTTGTGCGAACGAGACGATTTACACCACTTGGCGCCAGGCCCATTGCAGCGGTCATCCACGTGGCTGATTCTTACTATCCTCGCCCTGCTCACGCTCATGTGCTCCTGGTTATTGCAATTTTCCACCAGAAAATCATGGGAGGCGAAATCTCGACTGGTATAAGATTCAAGCCAAAACCTGGAGATCCTTACGCAGACGGAGAACAATGTACAGTCGGTCAATGGGCGACGGTGTTGGAAGTTCTGTGCCAGAGAAGCTGCTCCAATCGAGCAGCAGGAAGCACAATGAGCACTTGCAGGGAACTTATCCCTTCCTGGAATCATGCACTAATATATGAAGGGATATGCTTGATGTACTAGGAGTTCGGTGGATGATCTGGTATGGGTCCAACTACACACTCACAAACTCACGATTGGTGGACAGATCAGGTTAACTGGTGGAGTTGGATCCGGAAGATTTGGTAACGCGTACGTGGAGACTACCGAGGTGAAGCGGTCGCTGTGAAGGTTTCAATGCGCTCGACGAGCCGGCGGCTCAAGGAGACGGAGATTTTGAGACGCGGATGTTGAGGCATCCGAATGTAAAGGATTGGAAGTGATCGGGTTGATACTGGATTTTGTAACGGAACTTTGGCTGGTGACTGTAGAGTATCATCCCAGCGGGTCCTGCACGATTTCTGTCCGAGAATCTACGATCAACATTGAGGATGTATTAATAAAATCTGATGAGGTGATGGCAAGTGGACTTGCGTTCCTGCACAATCAGATTGGGAGCAAGAGAGTCCCATCACAAGCCAGCGATGGCTCAGGATATCATAGAGCAAGAAAGAACATCATGGTCAAGAACGATCTGACGTGTGCCATCGGAGATCCTGGTCTCTCGTTATCCAAGCCAGAAGACGCGGCATCAGATATTATTGCCAATGAGAACTACGGTGCGGTTTGTTAGATACCTTAGCACCGGAATCCTGAACAGTACGACGCAGTTTCCGTCTCGAGAGCTACCAATGTGCCGATGTCTACTCATTTTTCGGTACATGTGGGAAACCTATGCAGATGTGAAGATGGAGATGTCGCCGAGAAGCGATAGGCCATTATTGAGTGGACCGATCGGGATCCACAAGACGTCGGATGTTTGACGTGGTCTGCACGTGGAGGCTCAGACCCTACAGAGAATCCTCTGTGGAAAGGATCATCCGGAAATGAAACACATTATGGATTATCAAAAACGCTTGAATGGCAATCCGAAGTGCCCGTTTCCCTCTATTTGCCGCAAACGAAAACGGATGAACGGCAGCAACTGTTGCTGGACTCAGAAGGCAAAAGCTGGCACAGACGGCGGGTGACAGTTCAGGATCGGAAGATTTTGGGTCCCAGAAAACCGAAAGACGAGTCACCGGCAAATGGTGCTCCGCGGATAGTCAGAAGGAGATTGATCGAGAAGATGAGCAGGAAAATTGGCGGGAAACTGCAAAACTCCCAATGGACCATCTCCAGTAATGACGACTCGCACGCCCACTTCTTGGTTAGAGCCCATTTTATCTTCGTTTTCGGGCGCCAATATATCAAAATTATTATAATTATTATGTTCTATATACTACACTTATCACCTACGTGACTTCCCACCCCCATATGATGATTTCATTTCTCCTCAACCACTAACTGTCTGCTTTACCTATTTTGTTTATTAGCGGGTGCATTATGCAGCTAATTCGTCCAGCGCCCATCAACTTAAAAGAGACTTCCCTTCGTGTACCTCAGAAAACTTAAAAATTTGTGATAGGTATGTACTGCATAAGCTTTTATTACCCTCCCCCCGAAACTTTGTAGTTTATTGTGTCTACCCTGTTTTTTTTTAGTACCATGATTCAAGTGTTTTGAAATTTTATTTTGTTTTATTGTTATTATTACTATTTTAAGGAGAAACATTCCATCAATGCAATTGAAATGAAAATAAAAATTTGATTTTAAA\t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tNM:i:962\tms:i:2951\tAS:i:2142\tnn:i:0\ttp:A:P\tcm:i:112\ts1:i:814\ts2:i:0\tde:f:0.0845\tSA:Z:IV,133875,+,95S85M3D2282S,39,4;IV,132414,+,14S83M1D2365S,47,2;\trl:i:0\n",
      "ERR3245465.47059\t0\tIV\t135446\t60\t8S14M1D21M2D2M2D9M1D6M1I10M6D4M1I19M1D17M2I3M1D4M1D11M3D23M1D1M1D25M2I7M2D18M1I9M4D38M1I29M2D14M2D6M1I30M2I2M5D2M1D10M1I51M1D8M2I7M3D2M2D60M4D5M1I4M2I18M1D4M4D1M1D44M1D14M1D1M1D22M2I3M1D33M3D12M1I1M2D1M1D14M1I26M1D7M182D25M1D11M2I1M1I9M2I12M3I9M2I4M2I53M2I4M3D14M3D15M126D2M1D9M1I3M1D3M1D24M2D5M1D17M1D7M4D6M4D5M2I4M1I36M4I2M1D23M2I4M6D11M1I9M1D6M1D7M1I27M1I16M2D17M43D36M3D11M1I5M3D8M1D3M1D45M1I18M2D3M1D5M1D12M2I8M2I17M1D18M1I20M1D16M2D8M2D26M311D8M1D19M1D18M2I28M1D6M1D23M1D7M2D13M1D18M1I7M1I12M1I17M3I7M1D2M1D12M1D6M2D2M1D4M1D32M1I14M4D19M2D21M1I7M2D18M2D10M1D4M1D10M1I17M1D9M4D4M1D8M1D5M1D18M1D8M3D12M2D5M6D2M1D7M1D8M3D5M1D5M1D4M2D12M3S\t*\t0\t0\tCGCGTAGTATCCACGTGGCTGAACTTACTATCCTCGCCCTGCTCGCATCGTGCTCTGGGCTATTGCAATTTCCAGAAAAATCATGGGAGGCGAAATCGACTGGTATATAAGATTTTCAGCCAATCCTGGAGATCTACGCGAGACGGAGAACAATGATGATGGTTACATTGGGCGACGGTGCATTGGAAGTTGTGCCAGAAGTTGCTCCAAACCGAGCAGGAAGCACAATGAGCACATCTGCAGGGAACTCGTTCCCTTCCTGGAATCATGCCTAATAACATGAAGGATGTTTGATGTACTAGGAGACCAAGTGGATCTGGTATGGGTCCTATTACACAATTACCACGATTGGTGGGACAGATCAGGTTAACTGGTGGAGTTGGATCCGGAAGATTTGGTAACGTGCACGTGGAAGGACTACCGTAGCGGTCGCTGTGAAGGTTTTCAATGCGCTCGACGAGCCAGCGTTCCACAAGGAGACGGATTAAAGGACGCCCGGATGTTGAGGCATCCGATGTAAGATATTGGAAGTGATCGGGTTGATACTGGATTTGTAACAGAACTTGGCTGGTGACAGGATCATCCCAGCAGGTCCTTGCACGCGATTTCTGCTCGAGAATACGGTTAACATTGAGACGTATAATTTGATGTATGATGCAAAGTGGACACTGCGTTCCTGCACAATCAGATTGGAGGAGCAAAGAGTCCAACAAGCCAGCGACGAATACCGGGATATCTGAGAAAGCAAGAACACATCATGGTCACGGAGAACGATCAGTCACGTGTGTGCCATCGGAGATCTCGGTCTCTCGTTATCCAAGCCAGAAGACGCGGCATAACAGATATTGCCAATGAGAACAAGTGCGGTACTGTAAGATACCTTAGCACGGAATCCTGAACAGTACGATGCAGTTTCGTCTCGAGAATTACCAATGTATGATGTTCATTTTAGTCATATGTAGGAAAACCCTATGCAGATGTGAAGATGGAGATGTTCATAATGGGAGAGAAGCGGCCACAGTGATCTTCCGTAGTGGACCGATATGGGATCCATAGACGACAGATGATTTGATGTGGTTTGCACGTAGAGGCTCAAGACCTACAGAGAATCCTGTGGAAGGATCATCCCGGGAAATGAAACACATTATGGAGATTATCAAAACGTGGAATGGCAATTCCGACCCGTTTCCCTCTATATTTGCCGCGAACGAATGGATGAACAGCAGCAACTGTTGCTGGGACAAGAAGGCAAAAGCTGGCCAGATGCAGGGGTGACAGAGTTCAGGATATCGGAAGATTTTGGGTCCCAGAAACCGAAAGATGAAGTTACCGGCAAATGGTGCTCGCGGATAGTTCAGAAAGATTGATAGAAGATGAGCAGGAAAATTGGCGGGGAAACTGCAAAACTCCCGCTGGACACATTCCAGTAATGACGACTCAATTTACGCCCACTTCTTGGTTAGAGCCCATTTATCTCGTTCTTAGGCGCCAATATATCAAATTATTAATTATTATGTTTATCTACTACATTTATCACCCTCACGTTGATTTCCTCCCTTCCCCCATATCGATGATTTCCTCATTTTCACCTCAACCACTATTGTCATCCTATTCTTGTTTATTAGCGGGTGCATTATGCAGCTGTATTGTCCAGCGCCCATACTTAAAAAGACTCCTCCGTGTACCTCAGAAAAACATAAAAAATCGTGATAGGTATGTACTGCAAGCTCTATTCCCTCCCCGAAACTCTAGCAGTTTGTGGTTTACCTGTTTTTTGTACATGATTTAAGTGTTTTGAAATTTTATTTTGTTTTATTGTTATTATTACTATTCAAAGAAACACATTCAATGCAATTGAAATGAAATAAAATTTGATTTAAA\t+%$##$%%'))*%&%$&,%%')%#&&%%+,*,-(''*7./.(-..*-,)*50)(().6+&&%%)$%&(&+(&&%%(<=;5326-36.%,,((+1')'&&..03-,((',/0.:,0,#$((0-2+..-.))+)+)+&()(++,-1.2**,4020+)$%(+103/,&$%$&'60))*)10/3'&%%*--.)(*&'(+0('%&).7.//0+21()''''%%,-/210/012/..-,$%%'$*(((-82,2..--6.04/+++0*,(5,0-/-,*.+-.0-'&$%'-++,+,('4234523*('%&(()&'+&(+%-1))-*,0.,*170+45**(%%%$&$$$*(**(+*-0.*/%&,+)(+*')((*2-/,-&+0--'*$'(*/20-,,+/,0+33%/6()15)*)()())**)##+-'(%#&&%\"#'$)2)))+(,-,('&*%**+&%()*++(+((&''&)./%*)+,*.-)(,),-*+++0+&)*&)*+0'%%$&''2&%%$$$%(,(-*+./0+*'')')(*)*)-,)*+.+8/,:5,4122-,*..,2501)++&))0)(,)).*+4800*)&*$%'$&+.7/&*)%.+(0,0+,&'(%,--2+-$.+08//)+(,')*41608+'&()+()(&%&&()-.---,*,('%,-%+(')('&,+.+*)*()()(**(()0164477214-0-(0,/+-+71))*(),((').+-1.-,,(&&&&'&,-)/6,+,''(%)--+,((-,..,*''(''(+.2*'&&')'(),+//4.%0('%%%%'&+(-01'&%',,,-*'$&%*'%'')*,-1++2392-3.(,.*)((++-0,($)&'*)))&'(&(1=6-*('&+&)),-,,33*'(('(-//+++.-./**((+)/21**.**/40222232---,+/)5-))0(((*,/4-+-./032//&$#%$(-+%$%%()*&11)'&&')'$)**650/;02+*(#')*+,+,/+,-++***,.10&'$&*.(62*%('(())*5/.-+*--/0-/%&&*($#$$&)/,-4,,)')073-+1)#&+)*))$&'&()(#)*-,/1.)23-73+**)($#(&(+''&**..6-,,+)*'*-+)*($&').)*0-*)))(*3*)-*+91++550,-./0-**)/))'*2**+-:;2''&(+(.+3/2,2*-,-//-10,()&(,-(&&&&(-2/+,.$%%)*)-19'/***-00)&,+)-/-''.+(,*,-+/1)'-0%'&&(')32*,,*1%,(*.-$($%(680',&&(&'(%(%%&0*(&&%(-(0(.)0.0+:2,.:00./7.,-'')*(*&)*+',)'),'-'&,)'(...-0+--*.*+)-*'$$%&'''$(*++.)''/&*9*)$#$,+-292/.2-)(14.)<1.//-)44.&)1:.'&)(+..(($*-.35458101**++'*$\"#%&'''+0/''&))'*1<8<143../1+)+**'()-,,),#*)$).(*//4,*''&&$*2/*-()**)/--1--0+.*)*($$%$%$$%%(&(&&%*+,'$%'&',,,'+(*+'+/-&():>81)'&%$$%'*(-'&')'$%')*($\"&-&%'''+&(**4-,0&$%%(&()+#(.+1',(&+((((22++&'),)-/,*+)(%$#'*+)2/,01.2:0,&'$'+2:3,,))&''-#&'&(--*5-,)*+.3<80)((,3:;4-,$(*,))&)/%')4...,)(*)%&*$&*+*.4+(,;;1*18*%$$$$&*-351&&&()--*)4..+275/11.'('()-+6-+-0.0-.520)&+/$(,.(24*--.:82050*/)((,*(''$()&)%$&(',8//0)($$%''$)(0,,+')14),+1/(/:70*0/,,--*.0)\tNM:i:962\tms:i:2236\tAS:i:1450\tnn:i:0\ttp:A:P\tcm:i:74\ts1:i:524\ts2:i:0\tde:f:0.1049\trl:i:0\n",
      "ERR3245465.47919\t2048\tIV\t166520\t60\t312H61M1D28M1I4M1D15M46D12M3I7M1D10M2I7M3D17M1D26M1D10M1D13M1I9M1379H\t*\t0\t0\tATGATTGATCAGATGGAGAACCGAGTATATGTGCAGATGGACAAAGACACACAAACGTCTGTGATAAGCAATTCTCGTTTGTGTGCAGGAATGATGACCCGATGAAAATGGCAGCAGCTAAAGGAGACGATGGTTTGGAACAAAAAGGACTATCAGCAGGCTCTAATAAGCCGGTGGCGAGCAGTGTTAGCACTAGATGCATTAAGTTTGATGCCTAACTAAGCCG\t021-.4,,74443241,.,/*,+-+()&''(&()+-.114))*;0,.,////:>9++)'#($('()8+241.+&*+))1(&(*)))((.+-*+***843+&,**)15.&*($'++,..1,/'.,))+.0./*1,809.9-*3263.,1))(%((&-+&.)''$%%'',,'+*(/*2/++,-+*,)*,.(.($'%*(&&&$'-/+2,21)''((+.,(&$*+..062\tNM:i:70\tms:i:304\tAS:i:244\tnn:i:0\ttp:A:P\tcm:i:10\ts1:i:80\ts2:i:0\tde:f:0.0866\tSA:Z:IV,167652,+,547S852M103D518S,60,183;\trl:i:0\n",
      "ERR3245465.47919\t0\tIV\t167652\t60\t547S20M3I7M1I37M1I13M1I57M2D12M1D2M1D2M2D15M3I24M3D2M4D28M2I32M3D23M2I8M2D5M1I9M3D90M3D11M1I33M1I27M1I41M2D44M1D9M1I85M1D14M1D7M50D6M1I15M2I16M3I3M2I2M1D3M1I38M46D29M2D20M2D36M518S\t*\t0\t0\tTTGGAGTATCCACCTTCGCAACGAGCCAGACACGGCAGACGGCACCATGAAACGTAGTTTTTTTGTTGTTCCGCTAACTTGAAGCTTTTGTCAGAATCAGTATGTACGCCTTGTATGCTGAGATTCTAAGCGGTTCGGCAATGCGCAGCAGCAGCGATGGAATCACAGCTTTGCTGATTCGACAAGCCATTACCGGCAAAATATTTTGAACTACGCCAATCAAATGACTGACTGCCTCCACAATAATATCGATTCGGGACACTGTGCTTCGCTACAACTTTGTGGGACGAGCTTCAGAGAACAACGCGAAATATGATTGATCAGATGGAGAACCGAGTATATGTGCAGATGGACAAAGACACACAAACGTCTGTGATAAGCAATTCTCGTTTGTGTGCAGGAATGATGACCCGATGAAAATGGCAGCAGCTAAAGGAGACGATGGTTTGGAACAAAAAGGACTATCAGCAGGCTCTAATAAGCCGGTGGCGAGCAGTGTTAGCACTAGATGCATTAAGTTTGATGCCTAACTAAGCCGCACCGCAGTGCCAAGTTTCCGCGTTCACCCGTCGCGACTCCCCTCCTTGGCAACTGGCCCATCCCTGGCGCAAAGCCTCTATGAGCCATCTCATGAAACCTGTCTCCTCATACCCAATGGCTCCGATTTTTGCTGAAACAATACCCACTTCCAGCCAAGGACCTCAAGGTCATGTGACTAAGTGGCCGATCTCAACAGTGGGCCACCCTCTCCACTATTCCCGAACATTCCGGTGCCTTTCAGAGGTCTCCGCCGGTGGTGGCAAGGGTATCAACCTCTACCATGGCGCCTGTAATATGTTTACTTCCATATTACGACCTCATTGATGCCTTGCTTCCCTATAATCCCAAATGTTCATTTAAAACAAGGAGTTGGAGTTCCATTTGCTCCTGGAACTCTTCCCACGACTGTTGACGCGTCAAAAATGGAATGATCCAAGTGCCTATGCAACTGCACCCGAGTACGGTAGACTCTACGACACCAAAAGACATCAAGAGAGCAGCCACCAACTGCAGATGCTCCATTCATCGGATAACTCAAAGGAGATCCATGAAACTCTTACGATAGTGCTAGCCCAGGGAGTTCCCAGGCCTCAAGCTGATCAGCCGAAGGATATCACATCAGTACTTAAAACTACACAGGAGCAGCAAATTGAGCCGGAAGCTCGCTGGAAATCCAAGAGGGGTTCCATTTTGCACCGCCGGTATTATGACTCCTATTAAAAATTTAGAAGTATATATATATCGTTGGTCGTCAAAGCGAAGAGCTATTTGAATGAAACCGACCAATTCGATATGTTTGTGCACTTGTTTTGCGACCGACGGCTGGGGACACAAAAGTGCAAATGATCGATGAGAATGGATGCGTCATTCGCTTGAATCGCTTGCCACAGCCTTAGGCCAAGGACTTCGGAGAACACAATGTTCACTACCTCCTGATAAAAAGCATTTTCAAATTCCCCGGACCCGATGATGTGTACTCTCGTGTACAATCGAGTCTCCGAAACCTAGGCACCGAATATTTTTGTTTCAAAGTTGAGGAGACGAAGAGAGAGATTCTGGAGGGAATGACGGAGATGAGGCTTTTTCGACAGTGTTAATGTGGAGTTGGAGAATAGAGAGATTCTAATGTGAATTGAACAGCTCTCAACGTCCCTGAAAACCTGCTCGAAGAAAACATCTCTACTGTGGTTATTCATTGTTTTTGTCTCCGTAACAATATCACATTGTCTCCAACCTTATCAGTTTATCAGAGCACAATATATAAACGATAGGATCTAACTCTTTCCCCTCACCCATTTTGCGGGTAATTCTATGAACTCTTTCTTTTTTGTCATTTCCCATTGCTTTTGTTTCAATAATCCCATGATATCACTTTAA\t&)*&&%&+(&(%**()*257+*'(&'6'))*++&(&)')(/+0.1,%%(+4+)((**-2.-1/,+2)2'&)&((+3,,61+,1)()45-+-**(*.)/23/0*.%$$$%%%&$&+,+,*))+)++#&%*)).-/+)*.*-,*,(,,*))(()'))+**.1:12&*-...182,))1/22022061-,/(&&%)+'40/73,()',+,&4/*+,,28:<:975:4-,)&')*,-04/%.%'(04+20+(.,55()((48//..-+++$,,'&')%&*+-'.-(*046,+(0*+'(%%&**/0031-))'+1.+021-.4,,74443241,.,/*,+-+()&''(&()+-.114))*;0,.,////:>9++)'#($('()8+241.+&*+))1(&(*)))((.+-*+***843+&,**)15.&*($'++,..1,/'.,))+.0./*1,809.9-*3263.,1))(%((&-+&.)''$%%'',,'+*(/*2/++,-+*,)*,.(.($'%*(&&&$'-/+2,21)''((+.,(&$*+..062&#/%(%$,**//<<',-*/6)*&&(&&+3/+$$'(()(%.70+%*(')*,*+,'))0*5.('+:0,00*,)5/+)'2$#%%'*&,-1.,()&+,23<5031-*'&'*#&)+-/:784090-2/41,.29:406.-0:3.3/.-13,))),&(&5:09,4*+,),%'+'*$##%%&',$'$($\"(),6.1,%&(.,***-**.#''-/,(&$'($%('&.'/-+403*+2*413,'+*&&&&&'&*(&#('1()434273.2/+1,)7/%'($&,'.%%%$&(%%+3..04/-,&*')*&,($%$*))+&&%$*,+''(*$%%%*&*++4032,%+'05/&(*-3'/9018/0231--**')1:.*+)-,'++12..01301+./6-1.01.-5*1&$%'&*71*.0*'''%+(++**+.-.2;72-,/02570.)*,3,45831104-1334/+%)*.(01//043+),*+,&,-0576*('&,5/-*+('&&)(+*+,,-02.)-())%'\"\"%*)(-)0552).%\"$%)6()*+*-',7/*-'(*+-/..+,;3(&%'(&''*(&%&''310,:,'',.'()0):1&+.+,+*-80021250/0,,'(*,+()*'-+,-./+,,++659=72,%')+,-42012254-80-.-,)0,*+,/'(*+-+251272((,-/+*)'(+#/.)*(+('&'',0-+234+.'''(+.'(/..,/0+:85,'1'&,(+%%$%&'')*,.-/18/00+*,)-/92'''*4,+,,+*2.,,/1,04;2741255:595/-+*)().81.1/*()++(*.+.)00012586+7*'(+/+)*/+,75,('*)*<5+-541122---,5,.3/.+++*)+-,*'&&+),1+''&&$*,+$'&&((&%&&0&*1*7+)).,+),)),/111-))'&(%&$)',*'+-+2100951(&'-1*-++-;+*(&/7/*1.02&--/,,*))+,0*)&)()**+),-7)2**/,%*)3+;9(,(%*)0)'),-,,&&'1040/+.-()<23:2-))/(*,..5,*('%&')*2/',*'$',-*1...,/.,,/-,*,+')130,()++),,,%-/,''))-()*,/**)22./((&''+0/+1/+**''3-(,..-+-+*+)-(-./.+4;3*-+<:1932,+-,+12+-;;1,,-+*())),--21433-,#')-)-/)+/-*%((/--1-*5/*++%$%$'*()&&)()*/+-.),001731.1.02571100+,+,,,./001-+')*$&#)%'(*$*+,-*54#%$),/&&+-/()-11-.+1*$*%*+.1./'.)*#*//1)&('))+%'+80.5-,*,755)23+)25-80,05/,,-+**''&%',+&'\tNM:i:183\tms:i:1231\tAS:i:1092\tnn:i:0\ttp:A:P\tcm:i:83\ts1:i:570\ts2:i:0\tde:f:0.072\tSA:Z:IV,166520,+,312S226M48D1379S,60,70;\trl:i:0\n",
      "ERR3245465.27913\t256\tIV\t170211\t0\t169S35M2D17M1D5M1I4M1D17M1107S\t*\t0\t0\t*\t*\tNM:i:6\tms:i:125\tAS:i:124\tnn:i:0\ttp:A:S\tcm:i:4\ts1:i:41\tde:f:0.061\trl:i:0\n"
     ]
    }
   ],
   "source": [
    "# get all reads mapping to a specific region\n",
    "! samtools view sorted_test_align5.10.bam IV\n",
    "\n",
    "# https://github.com/mlafave/sam2pairwise\n",
    "# makes CIGAR string into nucleotide string"
   ]
  },
  {
   "cell_type": "code",
   "execution_count": 13,
   "metadata": {},
   "outputs": [
    {
     "name": "stdout",
     "output_type": "stream",
     "text": [
      "59163 + 0 in total (QC-passed reads + QC-failed reads)\n",
      "59037 + 0 primary\n",
      "13 + 0 secondary\n",
      "113 + 0 supplementary\n",
      "0 + 0 duplicates\n",
      "0 + 0 primary duplicates\n",
      "932 + 0 mapped (1.58% : N/A)\n",
      "806 + 0 primary mapped (1.37% : N/A)\n",
      "0 + 0 paired in sequencing\n",
      "0 + 0 read1\n",
      "0 + 0 read2\n",
      "0 + 0 properly paired (N/A : N/A)\n",
      "0 + 0 with itself and mate mapped\n",
      "0 + 0 singletons (N/A : N/A)\n",
      "0 + 0 with mate mapped to a different chr\n",
      "0 + 0 with mate mapped to a different chr (mapQ>=5)\n"
     ]
    }
   ],
   "source": [
    "# simple stats\n",
    "! samtools flagstat sorted_test_align5.10.bam"
   ]
  },
  {
   "cell_type": "code",
   "execution_count": null,
   "metadata": {},
   "outputs": [],
   "source": []
  },
  {
   "cell_type": "code",
   "execution_count": null,
   "metadata": {},
   "outputs": [],
   "source": []
  },
  {
   "cell_type": "code",
   "execution_count": null,
   "metadata": {},
   "outputs": [],
   "source": []
  }
 ],
 "metadata": {
  "kernelspec": {
   "display_name": "txomics",
   "language": "python",
   "name": "python3"
  },
  "language_info": {
   "codemirror_mode": {
    "name": "ipython",
    "version": 3
   },
   "file_extension": ".py",
   "mimetype": "text/x-python",
   "name": "python",
   "nbconvert_exporter": "python",
   "pygments_lexer": "ipython3",
   "version": "3.12.3"
  }
 },
 "nbformat": 4,
 "nbformat_minor": 4
}
