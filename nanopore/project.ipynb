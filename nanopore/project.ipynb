{
 "cells": [
  {
   "cell_type": "markdown",
   "metadata": {},
   "source": [
    "Testing the minimap2 aligner\n",
    "use conda environment \"txomics\"\n",
    "download latest version using conda\n",
    "You need to open vscode after switching to txomics environment and remap folder in the terminal"
   ]
  },
  {
   "cell_type": "code",
   "execution_count": 3,
   "metadata": {},
   "outputs": [
    {
     "name": "stdout",
     "output_type": "stream",
     "text": [
      "2.28-r1209\n"
     ]
    }
   ],
   "source": [
    "! minimap2 --version"
   ]
  },
  {
   "cell_type": "markdown",
   "metadata": {},
   "source": [
    "Download some test FASTQ files\n",
    "From Roach et. al., 2020\n",
    "ERR3245465, L1 rep 2\n",
    "ERR3245468, L3 rep 1\n",
    "Download from ENA FTP server"
   ]
  },
  {
   "cell_type": "code",
   "execution_count": 4,
   "metadata": {
    "scrolled": true
   },
   "outputs": [
    {
     "name": "stdout",
     "output_type": "stream",
     "text": [
      "--2024-10-17 11:21:00--  ftp://ftp.sra.ebi.ac.uk/vol1/fastq/ERR324/005/ERR3245465/ERR3245465.fastq.gz\n",
      "           => ‘ERR3245465.fastq.gz’\n",
      "Resolving ftp.sra.ebi.ac.uk (ftp.sra.ebi.ac.uk)... 193.62.193.165\n",
      "Connecting to ftp.sra.ebi.ac.uk (ftp.sra.ebi.ac.uk)|193.62.193.165|:21... connected.\n",
      "Logging in as anonymous ... Logged in!\n",
      "==> SYST ... done.    ==> PWD ... done.\n",
      "==> TYPE I ... done.  ==> CWD (1) /vol1/fastq/ERR324/005/ERR3245465 ... done.\n",
      "==> SIZE ERR3245465.fastq.gz ... 479203040\n",
      "==> PASV ... done.    ==> RETR ERR3245465.fastq.gz ... done.\n",
      "Length: 479203040 (457M) (unauthoritative)\n",
      "\n",
      "ERR3245465.fastq.gz 100%[===================>] 457.00M  3.77MB/s    in 4m 19s  \n",
      "\n",
      "2024-10-17 11:25:22 (1.77 MB/s) - ‘ERR3245465.fastq.gz’ saved [479203040]\n",
      "\n",
      "--2024-10-17 11:25:22--  ftp://ftp.sra.ebi.ac.uk/vol1/fastq/ERR324/008/ERR3245468/ERR3245468.fastq.gz\n",
      "           => ‘ERR3245468.fastq.gz’\n",
      "Resolving ftp.sra.ebi.ac.uk (ftp.sra.ebi.ac.uk)... 193.62.193.165\n",
      "Connecting to ftp.sra.ebi.ac.uk (ftp.sra.ebi.ac.uk)|193.62.193.165|:21... connected.\n",
      "Logging in as anonymous ... Logged in!\n",
      "==> SYST ... done.    ==> PWD ... done.\n",
      "==> TYPE I ... done.  ==> CWD (1) /vol1/fastq/ERR324/008/ERR3245468 ... done.\n",
      "==> SIZE ERR3245468.fastq.gz ... 181465895\n",
      "==> PASV ... done.    ==> RETR ERR3245468.fastq.gz ... done.\n",
      "Length: 181465895 (173M) (unauthoritative)\n",
      "\n",
      "ERR3245468.fastq.gz 100%[===================>] 173.06M  3.38MB/s    in 74s     \n",
      "\n",
      "2024-10-17 11:26:38 (2.34 MB/s) - ‘ERR3245468.fastq.gz’ saved [181465895]\n",
      "\n"
     ]
    }
   ],
   "source": [
    "! wget ftp://ftp.sra.ebi.ac.uk/vol1/fastq/ERR324/005/ERR3245465/ERR3245465.fastq.gz\n",
    "! wget ftp://ftp.sra.ebi.ac.uk/vol1/fastq/ERR324/008/ERR3245468/ERR3245468.fastq.gz"
   ]
  },
  {
   "cell_type": "code",
   "execution_count": 6,
   "metadata": {},
   "outputs": [
    {
     "name": "stdout",
     "output_type": "stream",
     "text": [
      "mkdir: cannot create directory ‘data/’: File exists\n",
      "mv: cannot stat 'ERR3245465.fastq.gz': No such file or directory\n",
      "mv: cannot stat 'ERR3245468.fastq.gz': No such file or directory\n"
     ]
    }
   ],
   "source": [
    "! mkdir data/\n",
    "! mv ERR3245465.fastq.gz ERR3245468.fastq.gz data/"
   ]
  },
  {
   "cell_type": "markdown",
   "metadata": {},
   "source": [
    "Create small fastq files with 1% of reads for testing"
   ]
  },
  {
   "cell_type": "code",
   "execution_count": 5,
   "metadata": {},
   "outputs": [
    {
     "name": "stdout",
     "output_type": "stream",
     "text": [
      "\n",
      "gzip: stdout: Broken pipe\n",
      "\n",
      "gzip: stdout: Broken pipe\n"
     ]
    }
   ],
   "source": [
    "! lines=$(zcat data/ERR3245465.fastq.gz | wc -l) && zcat data/ERR3245465.fastq.gz | head -n $((((lines / 4) / 100) * 4)) \\\n",
    "    > 1pct.ERR3245465.fastq\n",
    "! lines=$(zcat data/ERR3245468.fastq.gz | wc -l) && zcat data/ERR3245468.fastq.gz | head -n $((((lines / 4) / 100) * 4)) \\\n",
    "    > 1pct.ERR3245468.fastq"
   ]
  },
  {
   "cell_type": "code",
   "execution_count": 6,
   "metadata": {},
   "outputs": [],
   "source": [
    "! mv 1pct* data/\n",
    "# don't need !?"
   ]
  },
  {
   "cell_type": "code",
   "execution_count": 7,
   "metadata": {},
   "outputs": [],
   "source": [
    "cp /home/carl/Code/datacore2024/genome_celegans/1pct* data/"
   ]
  },
  {
   "cell_type": "markdown",
   "metadata": {},
   "source": [
    "General use command on minimap2 github\n",
    "Can use gzip fasta and fastq files with minimap2\n",
    "Some notes from reading the SAM format specification file:\n",
    "Chimeric alignments are more common on long reads\n",
    "Linear alignments do not involve strand switching"
   ]
  },
  {
   "cell_type": "code",
   "execution_count": 8,
   "metadata": {
    "scrolled": true
   },
   "outputs": [
    {
     "name": "stdout",
     "output_type": "stream",
     "text": [
      "[M::mm_idx_gen::0.065*0.66] collected minimizers\n",
      "[M::mm_idx_gen::0.094*0.78] sorted minimizers\n",
      "[M::main::0.095*0.78] loaded/built the index for 7 target sequence(s)\n",
      "[M::mm_mapopt_update::0.101*0.79] mid_occ = 31\n",
      "[M::mm_idx_stat] kmer size: 15; skip: 10; is_hpc: 0; #seq: 7\n",
      "[M::mm_idx_stat::0.106*0.80] distinct minimizers: 166296 (91.68% are singletons); average occurrences: 1.131; average spacing: 5.330; total length: 1002861\n",
      "[M::worker_pipeline::0.470*0.92] mapped 5903 sequences\n",
      "[M::main] Version: 2.28-r1209\n",
      "[M::main] CMD: minimap2 -a data/1pct_elegans.fa data/1pct.ERR3245465.fastq\n",
      "[M::main] Real time: 0.474 sec; CPU: 0.436 sec; Peak RSS: 0.031 GB\n",
      "[M::mm_idx_gen::0.075*0.44] collected minimizers\n",
      "[M::mm_idx_gen::0.097*0.54] sorted minimizers\n",
      "[M::main::0.097*0.54] loaded/built the index for 7 target sequence(s)\n",
      "[M::mm_mapopt_update::0.100*0.55] mid_occ = 31\n",
      "[M::mm_idx_stat] kmer size: 15; skip: 10; is_hpc: 0; #seq: 7\n",
      "[M::mm_idx_stat::0.103*0.56] distinct minimizers: 166296 (91.68% are singletons); average occurrences: 1.131; average spacing: 5.330; total length: 1002861\n",
      "[M::worker_pipeline::0.229*0.80] mapped 2380 sequences\n",
      "[M::main] Version: 2.28-r1209\n",
      "[M::main] CMD: minimap2 -a data/1pct_elegans.fa data/1pct.ERR3245468.fastq\n",
      "[M::main] Real time: 0.234 sec; CPU: 0.187 sec; Peak RSS: 0.023 GB\n"
     ]
    }
   ],
   "source": [
    "! minimap2 -a data/1pct_elegans.fa data/1pct.ERR3245465.fastq > test_align5.sam\n",
    "! minimap2 -a data/1pct_elegans.fa data/1pct.ERR3245468.fastq > test_align8.sam"
   ]
  },
  {
   "cell_type": "markdown",
   "metadata": {},
   "source": [
    "Let's look at test_align.sam\n",
    "I see a lot of bit 4 in the FLAG column, meaning that segment is unmapped."
   ]
  },
  {
   "cell_type": "code",
   "execution_count": 9,
   "metadata": {},
   "outputs": [],
   "source": [
    "with open('test_align8.sam', 'r') as fp:\n",
    "    for line in fp.readlines():\n",
    "        line = line.rstrip()\n",
    "        line = line.split('\\t')\n",
    "        if line[1] == '2': \n",
    "            print(line)"
   ]
  },
  {
   "cell_type": "markdown",
   "metadata": {},
   "source": [
    "There are no 2 flags in test_align.sam. 2 = each segment properly aligned according to the aligner. If I align more of the reads to more of the genome, will I get proper alignments?\n",
    "Let's try 10%"
   ]
  },
  {
   "cell_type": "code",
   "execution_count": 8,
   "metadata": {},
   "outputs": [
    {
     "name": "stdout",
     "output_type": "stream",
     "text": [
      "\n",
      "gzip: stdout: Broken pipe\n",
      "\n",
      "gzip: stdout: Broken pipe\n"
     ]
    }
   ],
   "source": [
    "! lines=$(zcat data/ERR3245465.fastq.gz | wc -l) && zcat data/ERR3245465.fastq.gz | head -n $((((lines / 4) / 10) * 4)) \\\n",
    "    > 10pct.ERR3245465.fastq\n",
    "! lines=$(zcat data/ERR3245468.fastq.gz | wc -l) && zcat data/ERR3245468.fastq.gz | head -n $((((lines / 4) / 10) * 4)) \\\n",
    "    > 10pct.ERR3245468.fastq"
   ]
  },
  {
   "cell_type": "code",
   "execution_count": 14,
   "metadata": {
    "scrolled": true
   },
   "outputs": [
    {
     "name": "stdout",
     "output_type": "stream",
     "text": [
      "[M::mm_idx_gen::0.052*0.76] collected minimizers\n",
      "[M::mm_idx_gen::0.082*0.80] sorted minimizers\n",
      "[M::main::0.082*0.80] loaded/built the index for 7 target sequence(s)\n",
      "[M::mm_mapopt_update::0.086*0.81] mid_occ = 31\n",
      "[M::mm_idx_stat] kmer size: 15; skip: 10; is_hpc: 0; #seq: 7\n",
      "[M::mm_idx_stat::0.090*0.81] distinct minimizers: 166296 (91.68% are singletons); average occurrences: 1.131; average spacing: 5.330; total length: 1002861\n",
      "[M::worker_pipeline::2.278*1.34] mapped 59037 sequences\n",
      "[M::main] Version: 2.28-r1209\n",
      "[M::main] CMD: minimap2 -a data/1pct_elegans.fa 10pct.ERR3245465.fastq\n",
      "[M::main] Real time: 2.283 sec; CPU: 3.048 sec; Peak RSS: 0.137 GB\n",
      "[M::mm_idx_gen::0.058*0.97] collected minimizers\n",
      "[M::mm_idx_gen::0.077*1.09] sorted minimizers\n",
      "[M::main::0.077*1.09] loaded/built the index for 7 target sequence(s)\n",
      "[M::mm_mapopt_update::0.081*1.08] mid_occ = 31\n",
      "[M::mm_idx_stat] kmer size: 15; skip: 10; is_hpc: 0; #seq: 7\n",
      "[M::mm_idx_stat::0.084*1.08] distinct minimizers: 166296 (91.68% are singletons); average occurrences: 1.131; average spacing: 5.330; total length: 1002861\n",
      "[M::worker_pipeline::0.890*1.35] mapped 23801 sequences\n",
      "[M::main] Version: 2.28-r1209\n",
      "[M::main] CMD: minimap2 -a data/1pct_elegans.fa 10pct.ERR3245468.fastq\n",
      "[M::main] Real time: 0.894 sec; CPU: 1.209 sec; Peak RSS: 0.061 GB\n"
     ]
    }
   ],
   "source": [
    "! minimap2 -a data/1pct_elegans.fa 10pct.ERR3245465.fastq > test_align5.10.sam\n",
    "! minimap2 -a data/1pct_elegans.fa 10pct.ERR3245468.fastq > test_align8.10.sam"
   ]
  },
  {
   "cell_type": "code",
   "execution_count": 11,
   "metadata": {},
   "outputs": [
    {
     "name": "stdout",
     "output_type": "stream",
     "text": [
      "[M::mm_idx_gen::0.018*0.80] collected minimizers\n",
      "[M::mm_idx_gen::0.024*1.25] sorted minimizers\n",
      "[M::main::0.024*1.25] loaded/built the index for 7 target sequence(s)\n",
      "[M::mm_mapopt_update::0.026*1.23] mid_occ = 31\n",
      "[M::mm_idx_stat] kmer size: 15; skip: 10; is_hpc: 0; #seq: 7\n",
      "[M::mm_idx_stat::0.027*1.22] distinct minimizers: 166296 (91.68% are singletons); average occurrences: 1.131; average spacing: 5.330; total length: 1002861\n",
      "[M::worker_pipeline::8.496*1.72] mapped 590372 sequences\n",
      "[M::main] Version: 2.22-r1101\n",
      "[M::main] CMD: minimap2 -a data/1pct_elegans.fa data/ERR3245465.fastq.gz\n",
      "[M::main] Real time: 8.523 sec; CPU: 14.606 sec; Peak RSS: 1.198 GB\n",
      "[M::mm_idx_gen::0.021*1.04] collected minimizers\n",
      "[M::mm_idx_gen::0.029*1.45] sorted minimizers\n",
      "[M::main::0.029*1.45] loaded/built the index for 7 target sequence(s)\n",
      "[M::mm_mapopt_update::0.031*1.42] mid_occ = 31\n",
      "[M::mm_idx_stat] kmer size: 15; skip: 10; is_hpc: 0; #seq: 7\n",
      "[M::mm_idx_stat::0.033*1.40] distinct minimizers: 166296 (91.68% are singletons); average occurrences: 1.131; average spacing: 5.330; total length: 1002861\n",
      "[M::worker_pipeline::3.139*1.66] mapped 238012 sequences\n",
      "[M::main] Version: 2.22-r1101\n",
      "[M::main] CMD: minimap2 -a data/1pct_elegans.fa data/ERR3245468.fastq.gz\n",
      "[M::main] Real time: 3.144 sec; CPU: 5.225 sec; Peak RSS: 0.416 GB\n"
     ]
    }
   ],
   "source": [
    "# lets try the entire fasta file and see if 2 shows up\n",
    "! minimap2 -a data/1pct_elegans.fa data/ERR3245465.fastq.gz > test_align5.1pAll.sam\n",
    "! minimap2 -a data/1pct_elegans.fa data/ERR3245468.fastq.gz > test_align8.1pAll.sam"
   ]
  },
  {
   "cell_type": "markdown",
   "metadata": {},
   "source": [
    "Did not find any 2s with the full fasta file. Now try with the entire genome."
   ]
  },
  {
   "cell_type": "code",
   "execution_count": 7,
   "metadata": {},
   "outputs": [
    {
     "name": "stdout",
     "output_type": "stream",
     "text": [
      "--2024-10-17 11:34:26--  https://downloads.wormbase.org/species/c_elegans/PRJNA13758/sequence/genomic/c_elegans.PRJNA13758.WS282.genomic.fa.gz\n",
      "Resolving downloads.wormbase.org (downloads.wormbase.org)... 50.19.229.229\n",
      "Connecting to downloads.wormbase.org (downloads.wormbase.org)|50.19.229.229|:443... connected.\n",
      "HTTP request sent, awaiting response... 200 OK\n",
      "Length: 29131150 (28M) [application/x-gzip]\n",
      "Saving to: ‘c_elegans.PRJNA13758.WS282.genomic.fa.gz’\n",
      "\n",
      "c_elegans.PRJNA1375 100%[===================>]  27.78M  3.27MB/s    in 9.1s    \n",
      "\n",
      "2024-10-17 11:34:36 (3.05 MB/s) - ‘c_elegans.PRJNA13758.WS282.genomic.fa.gz’ saved [29131150/29131150]\n",
      "\n"
     ]
    }
   ],
   "source": [
    "! wget https://downloads.wormbase.org/species/c_elegans/PRJNA13758/sequence/genomic/c_elegans.PRJNA13758.WS282.genomic.fa.gz"
   ]
  },
  {
   "cell_type": "code",
   "execution_count": 8,
   "metadata": {},
   "outputs": [
    {
     "name": "stdout",
     "output_type": "stream",
     "text": [
      "[M::mm_idx_gen::1.359*1.26] collected minimizers\n",
      "[M::mm_idx_gen::1.618*1.54] sorted minimizers\n",
      "[M::main::1.618*1.54] loaded/built the index for 7 target sequence(s)\n",
      "[M::mm_mapopt_update::1.748*1.50] mid_occ = 95\n",
      "[M::mm_idx_stat] kmer size: 15; skip: 10; is_hpc: 0; #seq: 7\n",
      "[M::mm_idx_stat::1.807*1.48] distinct minimizers: 12514822 (80.90% are singletons); average occurrences: 1.505; average spacing: 5.325; total length: 100286401\n",
      "[M::worker_pipeline::21.063*2.65] mapped 238012 sequences\n",
      "[M::main] Version: 2.28-r1209\n",
      "[M::main] CMD: minimap2 -a c_elegans.PRJNA13758.WS282.genomic.fa.gz data/ERR3245468.fastq.gz\n",
      "[M::main] Real time: 21.094 sec; CPU: 55.913 sec; Peak RSS: 1.483 GB\n"
     ]
    }
   ],
   "source": [
    "! minimap2 -a c_elegans.PRJNA13758.WS282.genomic.fa.gz data/ERR3245468.fastq.gz > test_align8.All.sam"
   ]
  },
  {
   "cell_type": "markdown",
   "metadata": {},
   "source": [
    "Still no 2s. I guess that's not important."
   ]
  },
  {
   "cell_type": "markdown",
   "metadata": {},
   "source": [
    "Use look_sam.py. still didin't find any 2s. but why did 272 as a bit flag show up? that's not in the SAM documentation. See this thread:\n",
    "https://github.com/lh3/minimap2/issues/893\n",
    "But 272 does not show up in the SAM docs. So how do they know?"
   ]
  },
  {
   "cell_type": "code",
   "execution_count": null,
   "metadata": {},
   "outputs": [],
   "source": []
  },
  {
   "cell_type": "markdown",
   "metadata": {},
   "source": [
    "Let's use the same parameters used by Roach et. al., 2020 for minimap2\n",
    "-ax splice -k14 -uf --secondary=no -G 25000 -t 24\n",
    "Then got SAM files, converted to BAM with SAMtools view -b -F 2048\n",
    "-uf -k14 are for Nanopore Direct RNA-seq reads\n",
    "-ax splice long reads\n",
    "--secondary option for outputing secondary alignments\n",
    "this means a read aligns well to more than one place, so we don't want those reads\n",
    "-G is the maximum gap on reference, changes chaining and alignment bandwidth\n",
    "-t is the number of threads\n"
   ]
  },
  {
   "cell_type": "code",
   "execution_count": 2,
   "metadata": {},
   "outputs": [
    {
     "name": "stdout",
     "output_type": "stream",
     "text": [
      "[M::mm_idx_gen::1.552*1.32] collected minimizers\n",
      "[M::mm_idx_gen::1.708*2.44] sorted minimizers\n",
      "[M::main::1.708*2.44] loaded/built the index for 7 target sequence(s)\n",
      "[M::mm_mapopt_update::1.879*2.30] mid_occ = 162\n",
      "[M::mm_idx_stat] kmer size: 14; skip: 5; is_hpc: 0; #seq: 7\n",
      "[M::mm_idx_stat::2.002*2.22] distinct minimizers: 16602221 (67.22% are singletons); average occurrences: 2.054; average spacing: 2.941; total length: 100286401\n",
      "[M::worker_pipeline::10.479*8.92] mapped 238012 sequences\n",
      "[M::main] Version: 2.28-r1209\n",
      "[M::main] CMD: minimap2 -ax splice -k14 -uf --secondary=no -G 25000 -t 14 c_elegans.PRJNA13758.WS282.genomic.fa.gz data/ERR3245468.fastq.gz\n",
      "[M::main] Real time: 10.515 sec; CPU: 93.481 sec; Peak RSS: 2.609 GB\n"
     ]
    }
   ],
   "source": [
    "! minimap2 -ax splice -k14 -uf --secondary=no -G 25000 -t 14 c_elegans.PRJNA13758.WS282.genomic.fa.gz data/ERR3245468.fastq.gz > test_align8.All.sam"
   ]
  },
  {
   "cell_type": "code",
   "execution_count": null,
   "metadata": {},
   "outputs": [],
   "source": []
  },
  {
   "cell_type": "code",
   "execution_count": null,
   "metadata": {},
   "outputs": [],
   "source": []
  },
  {
   "cell_type": "code",
   "execution_count": null,
   "metadata": {},
   "outputs": [],
   "source": []
  },
  {
   "cell_type": "code",
   "execution_count": null,
   "metadata": {},
   "outputs": [],
   "source": []
  },
  {
   "cell_type": "code",
   "execution_count": null,
   "metadata": {},
   "outputs": [],
   "source": []
  },
  {
   "cell_type": "code",
   "execution_count": null,
   "metadata": {},
   "outputs": [],
   "source": []
  },
  {
   "cell_type": "code",
   "execution_count": null,
   "metadata": {},
   "outputs": [],
   "source": []
  }
 ],
 "metadata": {
  "kernelspec": {
   "display_name": "txomics",
   "language": "python",
   "name": "python3"
  },
  "language_info": {
   "codemirror_mode": {
    "name": "ipython",
    "version": 3
   },
   "file_extension": ".py",
   "mimetype": "text/x-python",
   "name": "python",
   "nbconvert_exporter": "python",
   "pygments_lexer": "ipython3",
   "version": "3.12.3"
  }
 },
 "nbformat": 4,
 "nbformat_minor": 4
}
