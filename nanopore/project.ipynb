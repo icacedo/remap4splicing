{
 "cells": [
  {
   "cell_type": "markdown",
   "metadata": {},
   "source": [
    "Testing the minimap2 aligner\n",
    "use conda environment \"txomics\"\n",
    "download latest version using conda\n",
    "You need to open vscode after switching to txomics environment and remap folder in the terminal"
   ]
  },
  {
   "cell_type": "code",
   "execution_count": 2,
   "metadata": {},
   "outputs": [
    {
     "name": "stdout",
     "output_type": "stream",
     "text": [
      "2.28-r1209\n"
     ]
    }
   ],
   "source": [
    "! minimap2 --version"
   ]
  },
  {
   "cell_type": "markdown",
   "metadata": {},
   "source": [
    "Download some test FASTQ files\n",
    "From Roach et. al., 2020\n",
    "ERR3245465, L1 rep 2\n",
    "ERR3245468, L3 rep 1\n",
    "Download from ENA FTP server"
   ]
  },
  {
   "cell_type": "code",
   "execution_count": 1,
   "metadata": {
    "scrolled": true
   },
   "outputs": [
    {
     "name": "stdout",
     "output_type": "stream",
     "text": [
      "--2024-11-14 12:10:03--  ftp://ftp.sra.ebi.ac.uk/vol1/fastq/ERR324/005/ERR3245465/ERR3245465.fastq.gz\n",
      "           => ‘ERR3245465.fastq.gz’\n",
      "Resolving ftp.sra.ebi.ac.uk (ftp.sra.ebi.ac.uk)... 193.62.193.165\n",
      "Connecting to ftp.sra.ebi.ac.uk (ftp.sra.ebi.ac.uk)|193.62.193.165|:21... connected.\n",
      "Logging in as anonymous ... Logged in!\n",
      "==> SYST ... done.    ==> PWD ... done.\n",
      "==> TYPE I ... done.  ==> CWD (1) /vol1/fastq/ERR324/005/ERR3245465 ... done.\n",
      "==> SIZE ERR3245465.fastq.gz ... 479203040\n",
      "==> PASV ... done.    ==> RETR ERR3245465.fastq.gz ... done.\n",
      "Length: 479203040 (457M) (unauthoritative)\n",
      "\n",
      "ERR3245465.fastq.gz 100%[===================>] 457.00M   686KB/s    in 6m 10s  \n",
      "\n",
      "2024-11-14 12:15:42 (1.24 MB/s) - Control connection closed.\n",
      "Retrying.\n",
      "\n",
      "--2024-11-14 12:29:27--  ftp://ftp.sra.ebi.ac.uk/vol1/fastq/ERR324/005/ERR3245465/ERR3245465.fastq.gz\n",
      "  (try: 2) => ‘ERR3245465.fastq.gz’\n",
      "Connecting to ftp.sra.ebi.ac.uk (ftp.sra.ebi.ac.uk)|193.62.193.165|:21... connected.\n",
      "Logging in as anonymous ... Logged in!\n",
      "==> SYST ... done.    ==> PWD ... done.\n",
      "==> TYPE I ... done.  ==> CWD (1) /vol1/fastq/ERR324/005/ERR3245465 ... done.\n",
      "==> SIZE ERR3245465.fastq.gz ... 479203040\n",
      "File has already been retrieved.\n",
      "2024-11-14 12:29:28 (0.00 B/s) - ‘ERR3245465.fastq.gz’ saved [479203040]\n",
      "\n",
      "--2024-11-14 12:29:28--  ftp://ftp.sra.ebi.ac.uk/vol1/fastq/ERR324/008/ERR3245468/ERR3245468.fastq.gz\n",
      "           => ‘ERR3245468.fastq.gz’\n",
      "Resolving ftp.sra.ebi.ac.uk (ftp.sra.ebi.ac.uk)... 193.62.193.165\n",
      "Connecting to ftp.sra.ebi.ac.uk (ftp.sra.ebi.ac.uk)|193.62.193.165|:21... connected.\n",
      "Logging in as anonymous ... Logged in!\n",
      "==> SYST ... done.    ==> PWD ... done.\n",
      "==> TYPE I ... done.  ==> CWD (1) /vol1/fastq/ERR324/008/ERR3245468 ... done.\n",
      "==> SIZE ERR3245468.fastq.gz ... 181465895\n",
      "==> PASV ... done.    ==> RETR ERR3245468.fastq.gz ... done.\n",
      "Length: 181465895 (173M) (unauthoritative)\n",
      "\n",
      "ERR3245468.fastq.gz 100%[===================>] 173.06M  33.2MB/s    in 8.2s    \n",
      "\n",
      "2024-11-14 12:29:39 (21.2 MB/s) - ‘ERR3245468.fastq.gz’ saved [181465895]\n",
      "\n"
     ]
    }
   ],
   "source": [
    "! wget ftp://ftp.sra.ebi.ac.uk/vol1/fastq/ERR324/005/ERR3245465/ERR3245465.fastq.gz\n",
    "! wget ftp://ftp.sra.ebi.ac.uk/vol1/fastq/ERR324/008/ERR3245468/ERR3245468.fastq.gz"
   ]
  },
  {
   "cell_type": "code",
   "execution_count": 2,
   "metadata": {},
   "outputs": [],
   "source": [
    "! mkdir data/\n",
    "! mv ERR3245465.fastq.gz ERR3245468.fastq.gz data/"
   ]
  },
  {
   "cell_type": "markdown",
   "metadata": {},
   "source": [
    "Create small fastq files with 1% of reads for testing"
   ]
  },
  {
   "cell_type": "code",
   "execution_count": 3,
   "metadata": {},
   "outputs": [
    {
     "name": "stdout",
     "output_type": "stream",
     "text": [
      "\n",
      "gzip: stdout: Broken pipe\n",
      "\n",
      "gzip: stdout: Broken pipe\n"
     ]
    }
   ],
   "source": [
    "! lines=$(zcat data/ERR3245465.fastq.gz | wc -l) && zcat data/ERR3245465.fastq.gz | head -n $((((lines / 4) / 100) * 4)) \\\n",
    "    > data/1pct.ERR3245465.fastq\n",
    "! lines=$(zcat data/ERR3245468.fastq.gz | wc -l) && zcat data/ERR3245468.fastq.gz | head -n $((((lines / 4) / 100) * 4)) \\\n",
    "    > data/1pct.ERR3245468.fastq"
   ]
  },
  {
   "cell_type": "code",
   "execution_count": 4,
   "metadata": {},
   "outputs": [],
   "source": [
    "! cp /home/carl/Code/datacore2024/genome_celegans/1pct* data/"
   ]
  },
  {
   "cell_type": "markdown",
   "metadata": {},
   "source": [
    "General use command on minimap2 github\n",
    "Can use gzip fasta and fastq files with minimap2\n",
    "Some notes from reading the SAM format specification file:\n",
    "Chimeric alignments are more common on long reads\n",
    "Linear alignments do not involve strand switching"
   ]
  },
  {
   "cell_type": "code",
   "execution_count": 5,
   "metadata": {
    "scrolled": true
   },
   "outputs": [
    {
     "name": "stdout",
     "output_type": "stream",
     "text": [
      "[M::mm_idx_gen::0.020*1.05] collected minimizers\n",
      "[M::mm_idx_gen::0.026*1.41] sorted minimizers\n",
      "[M::main::0.026*1.40] loaded/built the index for 7 target sequence(s)\n",
      "[M::mm_mapopt_update::0.028*1.38] mid_occ = 31\n",
      "[M::mm_idx_stat] kmer size: 15; skip: 10; is_hpc: 0; #seq: 7\n",
      "[M::mm_idx_stat::0.029*1.37] distinct minimizers: 166296 (91.68% are singletons); average occurrences: 1.131; average spacing: 5.330; total length: 1002861\n",
      "[M::worker_pipeline::0.091*1.94] mapped 5903 sequences\n",
      "[M::main] Version: 2.28-r1209\n",
      "[M::main] CMD: minimap2 -a data/1pct_elegans.fa data/1pct.ERR3245465.fastq\n",
      "[M::main] Real time: 0.096 sec; CPU: 0.181 sec; Peak RSS: 0.031 GB\n",
      "[M::mm_idx_gen::0.019*1.04] collected minimizers\n",
      "[M::mm_idx_gen::0.025*1.43] sorted minimizers\n",
      "[M::main::0.025*1.43] loaded/built the index for 7 target sequence(s)\n",
      "[M::mm_mapopt_update::0.027*1.40] mid_occ = 31\n",
      "[M::mm_idx_stat] kmer size: 15; skip: 10; is_hpc: 0; #seq: 7\n",
      "[M::mm_idx_stat::0.028*1.38] distinct minimizers: 166296 (91.68% are singletons); average occurrences: 1.131; average spacing: 5.330; total length: 1002861\n",
      "[M::worker_pipeline::0.059*1.68] mapped 2380 sequences\n",
      "[M::main] Version: 2.28-r1209\n",
      "[M::main] CMD: minimap2 -a data/1pct_elegans.fa data/1pct.ERR3245468.fastq\n",
      "[M::main] Real time: 0.066 sec; CPU: 0.106 sec; Peak RSS: 0.025 GB\n"
     ]
    }
   ],
   "source": [
    "! minimap2 -a data/1pct_elegans.fa data/1pct.ERR3245465.fastq > test_align5.sam\n",
    "! minimap2 -a data/1pct_elegans.fa data/1pct.ERR3245468.fastq > test_align8.sam"
   ]
  },
  {
   "cell_type": "markdown",
   "metadata": {},
   "source": [
    "Let's look at test_align.sam\n",
    "I see a lot of bit 4 in the FLAG column, meaning that segment is unmapped."
   ]
  },
  {
   "cell_type": "code",
   "execution_count": 7,
   "metadata": {},
   "outputs": [
    {
     "name": "stdout",
     "output_type": "stream",
     "text": [
      "['ERR3245468.27', '0', 'I', '111520', '60', '154S32M1D33M1I16M2D24M2D4M1I8M1I3M2D25M2D14M1D3M1I15M46D3M2D7M3D28M4D17M1D4M1D5M4D16M1I10M1D12M2I4M1D14M1D4M1D8M1D20M1I12M1I10M1D10M1I12M47D1M1D7M3D10M1D8M2I32M2D29M1D32M3I9M1D16M1I29M1I16M1D8M1I8M1I13M4D14M9S', '*', '0', '0', 'CCTTGAGTTTTGAGGTAAATCAATCGCCTATAATGGCTCCAACAAAGAAAGTGCCACAGGTTCCAGAACTGTGCTCAAGCGCTAGAAAGCAGAGCCGATGCCCTGCACCAAAAGGCTGCTCACTAACACAAGGTGACCGTCGCCGCTAAGAACCAGAAGAAGACCCAAATTTTCAAGCGTGCTGAGAATACGTCCAGGAGTACAGAAACGCCCAAAAGGAAAGGACTCAGACTCAAGCGAGGCTGAGGCCAAGGGAGACTTACGCTTCCAGCTAGAGCAAGGTCGCCTTCGTCATCAGAATTCGGTATCAACCAGCTCATTCCAAAGCCAAGAAAAGGCTCCAGATCCGTTTTCGTCAGATCAACAACGGAGTGTCAAGCTGAACAAGGCATTCACCACCCGTATCATCGAGCCATTACGTAGCTTGGGTTATCCAAACTCATCAGACCATCCACGATACCTTACAAGCGGGATACGCCAAGGTTGACGGAAAACCGTGTCCCAAATCACCGACATACCATCGTGCGAGCAGAGCCTAGAAAGTTCATCATCTGTTTGAGGATCACTGGCCCACAAGATCGCCACCGTCGGACATCATCAAGGAGGCCACCATTTTCTTGTGGCCCTCAAGCTCAACAACCCAACTGGAGGATGGACCAAGAAGAAGACCATCACATCGTTGAAGGAAGGAGACTTCGGAAACAGAGAAGATCAAATTTAACAACCTTCTCCGAAAATGGTACTAACTTGTTTTGTTGTTCATACCTTCCGGATAAATTATTGAAAA', '%&$&#\"&&+-+\\'%*-))22**+.*$%+)))+4/+*3(\\'+2:2/,1.+-1\\'+,/6/,,*00/-3.++,0\\'\\'\\',01/072-,,+&$(.0-(\\'+)++/3566/;9-%**\\',,\\'\\'%\\'\\'))0/%$))\\'\\')$%\\')\\'&4+04//4*+,-5;5444109.0)&()*\\'+-,/322+*\\'%&-*)-.+)()+*,--+21)+.-\\'-.\\'*-))+-.+++5-.0:;9+67*,(,,.&,\\'&%()+,**)+)))(,.0)+*).-122,./+(\\'\\'&)%%\\'%&,)-0010.%,-),/+,-12484-+1++)\\'()+,/.1&*0-,/./52:10.+.\\'(\\'*/0.60*,4)+&&63*/,\\'(14/4,.62*,,,,/////,+/092036.01+,&&%$\\'-//--/1)/)5(**&\\'\\'$(\\'&),,,***,*+*))*-3+(+&\\'&\\'(*)74.9/).,./6/;/))*)*(&+*+%&\\'2/+,+**\\'))%%\\')/.,)(/+(&&\\')+07///,7-.886)761\\'-+00.3<3,=...06,+)&)%\\'-1,,+(%&#$$$#&(+(3(&)*+3,,/4.*+*)+(*))2)#\\'(0.+\\'$\\'(+0,1+&&\\'**,0**+0)+,(\\'\\'\\'.((\\')(()&(,))&),,)%(%(&\\',+(/.,,-,,3**+-5,-.12/)(\\'(,,)%$(*.(+/+-8226/5/-4,/241472,&$#&%\\'&(.-**&())(.)+*)()+%#(./-(*()(0-,-.,*5*+,&(,#--0+)(&+/-).:;11530\\'\\'%1*252-+331095283),,\\'\\'\\'$#\\'*(.**)8\\'*)&*.)*-2-', 'NM:i:176', 'ms:i:796', 'AS:i:663', 'nn:i:0', 'tp:A:P', 'cm:i:27', 's1:i:180', 's2:i:0', 'de:f:0.0957', 'rl:i:0']\n",
      "['ERR3245468.30', '0', 'I', '111510', '60', '144S38M2D5M1D16M1D7M1D21M4I7M2I9M1I10M2D40M1D17M1D17M47D4M2I8M3D14M1I37M2D5M3D6M2D4M2D10M1D21M1I7M1I7M5D47M1D7M3D3M1D2M1D6M2I6M45D60M2I26M1D8M1D6M3I14M2I19M1D4M1I11M3D16M2D19M1I5M3I13M1D17M4D3M2D7M1D11M6S', '*', '0', '0', 'GTTCGAGTTTAAGGTAATCAATCGCCTATTGCATGGCTCCAACATCAGAAAGTGCCACAGGTTCCAGAAAACTGTGCCTTCAAGCGCAGAAGCAGAGAGAGCCGATGCCCGCACCTGAGGCTGCTCCAGGTGACCGTCGCCGCTAAGAACAAGGAGAAGAAGACCCAATACTTCAAGCGTGCAGAAAACGTCCAGGAGTACAGAACGCCCAAAGGAAGGACTCAGACTCAAGCGCGCGCGAGAAGCTGAGGCCAAAGGGAGACTTACGTTCCGGCTGAGCACAAGGTCGCCTTCGTCGTCAGAATCGCGGTATCAACCAGCTCATCCAAAGCCAAGAAAGGCTTTCCCCAGATCCGTCTTCGTCAGAACCAACAACGGAGTGTTCGTCAAGCTGAACAAGGCTACTTCCTCTCCGTCATAGCCATACCTGGTTTGGGTTATCCAAACAACAAAGACCATTCCACGATCTACAAGCGCGGATACGCCAAGGTTGACGGAAACCGTGTCCCAATCCTTGTAACGTGTAAGCAGAAAGCCTCAAGGAAAGTTCAACATCATCGATTTTGAGGATTTGGCCCACGAGATCGCCACCGTCGGACCACACACTTCAAGGAGGCCACCAACTTCTGTGGCCCTCAAGCTCTTCAACAACCCCATTGAGGAGGACGGACCAAGAAGACAACTCCTTTCGTTGAAGGAGACTTCGGAAACAGAAGATCAAATCAACAACACATCTCCGCCGAAAAATGGTCAACTTGTTTGTTGTTCATTCTCCCGATAATCGTTATTGCTAAAT', '##\"&%(&\\'4/())/*)5+**)(%%\\'+%\\',***$%)1**--6()(&\\'&(\\'3*)+,/62//30)++1),*58.,*)+(*)\\'**+*,.,**(\\'-\\'%%%&%&&))2-..-6;=:72/52*(&(.)-/.&&(\\'\\'1-7**2((/0281-.)+-/2)8*/+**,+.\\',+05,\\'..\\'%$(**-/,)*\\'&&%&\\';8/+)*-1.10-.,---,6.-+25,45++&-(0--+-(),-))(+-()(\\'\\'&\\'\\'&)(\\'(&%\\'%%+\\'+)$&&+4.,,+\\'*\\'&(&%/31.7/*))((**+)1*)/112*5((*-,)(+,-50($(*--2//2419+*(\\'%%(23*8-),74-,/2-+0&\\'((+7;1,./.32-+(.0+-*()(().\\'/\\'(/207/.*(((1(--023.+((0,/3/20*+*\\'))&*$&\\')*\\'+$%&%**/,*\\'&(#$&%*.05))\\')*-0<<4-2-*++),-1.,-&,\\'%++%&%%$\\',--**\\'+((\\'%\\'()-,)*0+0.,+*+29.5/*+*(+:380.2.10.)+(\\'%(*+//\\'&(\\'+&(*.2\\'\\'%)*+.31+,1&&\\'%\\'&&\\'\\'$\\'#&,*-)*,0*/1/6/571/1+,+,,+*.,(-)+*)(-)/,++00-,)/&\\'+)*%(-&.\\',-3.,,/%)(+//390%\\'+/+**&)+*0+*2,*99,&)(%#\\')&.-0+-8-.98.-4/*),*,\\'\\'(+%()%&1,-/*-*)))((&&&+,9/-+(,-(.1,75*,,/,+*,(\\'&&$&$)*%&)\\'.9;7/.540-(0,33-5(*+/.-0,\\'\\'#&%$()(&*-2/.%(,.)-)%$-34+,', 'NM:i:190', 'ms:i:791', 'AS:i:648', 'nn:i:0', 'tp:A:P', 'cm:i:32', 's1:i:248', 's2:i:0', 'de:f:0.0995', 'rl:i:0']\n",
      "['ERR3245468.183', '0', 'I', '111510', '60', '134S12M1D7M1I24M2I5M3I13M1D20M1D8M2I26M2D23M1I2M1I15M1D16M2D18M46D6M1D7M2D10M1I40M5D4M2D2M7D16M1I13M1I17M1I24M2D3M1D19M1I15M3D6M1D2M1D7M46D3M1D21M1D15M2D24M2I6M1I31M3D30M2D1M2D4M1I19M2I16M1D8M7D2M3D6M2D22M5D16M3S', '*', '0', '0', 'GCCACCAAGTTTGAGGTCAATCAATCGCCTAATGGCTCAACAAGAAGTGCCACAGACCAGAAACTGTGCTCAAGCGCAGAGCAGAGAGCCGATGCCCGCACCAGGCTGCTCAACACAAGGTGACCGTCGCCGCTAAGAACAAGGAGAGAAGACACCAATACTTCAAGCGTGCTGAGAAATATACGTCCTCCAGGAGTACAGAACGCCCAAAAGGAAGGACTAGACTCAAGCGCGCGAGGCTGAGGCCAAGGGAGACTTACGTTCCAGCTGAGCACAAGGTACGTCCACTGTCGTCAGAATCGCGGTATCAACCTGACATCCAAAGCCAAGAAAAGGCTCCCAGATCCCGCTTTCGTACAGATCAACAACGGAGTGTTCGTCAAGCTGAACAAGGCTACCACCTATCGAGCCATACGTGGTCTTGAGGTTATCCAAAACAACAAGACCATCCTACGATCTCCTCTACAAGCGCGGATGCCAGGTTGACGGAAACGTTGTCCCCAATCACCGACAACGTTGTGAAAGAGCCTCAGAAAGTTCAACATCATCTGTCTGAGGATTTGGCCCAAGATCGCCACCGCAAGACCACACTCATCAAGGTAATCCACCAACTTCTTGTGGCCCTTCAAGCTCAACCCAACTGGAGGTCGGACCAAGAAGTCAACTTACTTTGAAGGAGGAGACTTCAAGAAAACAGAGTGGATCGGTTAACACCAAATGGTAACTTGTTTGTTGTTCATACCTCCGGATAAATTGTTAAAA', '\"#%\"\\')\\'(\\',6.*))*%$%,%\\')2/\\'&(-%&&$%)((1+3)*.\\')(+)+,1\\'\\'$&$)++*/;4)*-0/,3\\').-+)*(\\'+\\'(+,..-,12.0046;6+*()4)&/()&(*26.,,)(\\'4/10/3.-/0.3//-254/,6+-20.))&\\'%\\'(.,)4.-1(%#.-.13*))*..)&&((3,&&\\'&)&$\\'(%-((/*+-++,+*,4,349/.-4.&+&)).\\'\\')(*,,,*03--++-+)(-)(()((+,,4-*/)((%%&%#&$$(*/(/)(+*(+*+2250)\\'((&(+$\\').2/)(+,*/0+\\'%(\\'-*-+,/.10+-\\'&$&)/1:,*,)(*&-)1+\\'-)+067-.-+*30*$)/.()+,---//(04*,1*10,**+.0,.-..1,+,-01/2/3)&\\'$&\\'#%(#$%&%((*)*&%\\')*00+)+/&#(*&)%%(+*893.5*+-.*+..,+-/)*-0**%%()%%%&&)*(&%%)0&$#%&\\')1(0+++,,71(($\\'--0+75/47\\'+(.-0-,/4))(*)\\'(+3-+,).++)$-\\'60\\')+).,+++.-.),(\\'%(\\')/+-3(.,01/+**,.02-0-\\')+&%&\\'&)-,((%&&$#(\\'+,1+++)\\'.*(./.1+-\\'\\'),)+,1-40%$\\'),)&))+.,./+(&)(*(*)$$\\'0\\'*1.0.00,\\'\\'%)$%$%$(&)\\'+*-)(,)++,%)&&&\\'%*585(\\'%%&&(202)/./),\\'$#%\\'#&)%&+\\'&(%)*&(/3,-6,0*)((#\\'\\'#*-1/.-,6\\'(\\'%).$\\'+)', 'NM:i:205', 'ms:i:708', 'AS:i:554', 'nn:i:0', 'tp:A:P', 'cm:i:24', 's1:i:180', 's2:i:0', 'de:f:0.1142', 'rl:i:0']\n",
      "['ERR3245468.323', '0', 'X', '59895', '60', '151S13M1D5M2D7M1D30M2I5M1D10M2D12M2D33M1I3M2I1M1I5M1D9M141D18M1D6M1I19M1D36M1I4M1D8M1D4M4D62M1D6M2D15M2D6M2D27M2D2M1D16M1D46M1I22M3D17M1D14M52D27M2I3M1D9M2I3M1D17M1D5M2D10M3D1M2D32M1I22M1I2M1D5M2I2M1D14M1I9M1D10M5D11M6S', '*', '0', '0', 'GCTGTTGCCACAAGATGCCTAGCAAGAAGGTTATCAAGAAGAAAGTCGCCGCTGTTCCGGCGCACATTCGTGCCCAAACTCAAGCCAGAAGGAAAGCGAAGAACCCTCATTTACCGAGAAGAGAGCTCGCAACTTCAACATCGGACGGATCCATCCAGCCAAAGAGGACCACCCGATCGTCAAATGGCCAAAGTACATCCGTCTCCGGCGCGTTATCCGCCATTCCAGAAGCGCCAAGGTTCCACCAACCATCAACCAGTACAGAACCGGCTACCGCTGGCGCCAGTCCGTAGACAAGCCTTCAAGCTTTGGACAAAGTACCGCCCGGAGTCGACTAGGCCAAGAAGAACCGTACCCGTGCTCGTGCCGAGAGCTGCGCTGCTGAAAGAGGAGGTCACCAAGAGACCAAACACCGTTCGCCACGGAGTTAACACCATCACCAGACTAATGAGACCCAGAGCTCAATTGGTTCATCGCACGACGTCAACCCACTCGAGATCGTGCCTTTTCCAGCCCTCTGCGGAAGTACAACGTTCCATACGCCATCATCAAGGAAAAGGCTTTCCTCCGGAACCGTCGTCCGCAGAAAGACCGCCGCTGTTGCTCTGCCGATGTCAACCCAGAGGACAAATCTGCCTTGAACAAGCTTGCATGAGACCGTCTTATCATATCAGCAGCGAGCGTACGAGGATCCGCAAGTGGTGGAGGTGTCATGTCCGTCAAGTTTGATGCTCAAGAAGCTCAAGATCGAGCGCTGCCATGTTGCCCGATCTTGGAAAGCTTCTAAATTGTTTTGTTGATAAACTTGTTATAAAAAT', '\"$#%&&*).$&&+\\')*+//-%)\\'(*&+,+,-/+*//104.,-2+(&$#$&,.00*-\\')$*)-.$%&&-\\'*,-5<+37/\\'((*/(&\\'&(+,+-,1*)(*-1-21+10%%\\')&&$&*\\'((*./,+,$#\\'**+0-+/0-,.(%%%+.(&\\'&$\\'%&#\"&)#)(,-8-*)%)%\\')(,65600,**-+./*/14104..++&\\'%(+(\\'#))0(,++*+,$),.3125**,&0**)%&$(\\'/$\\',0+-)-&),,*.-\\'%\\')..1*,)&*,.1331%&$\\'\\'30.--2+)))+&+*/+%()*--63151,+)024%&,)).,+)60,*(*+,05164022+.\\'&&%).&,.1.2309/0-\\'%#%(),--(+(-/258810*(&%\\'+-,-//01+-)&%\\'(%*,(&\\',,+-,***)-<;0.*,0++1+,-1,.00,,,&(,+,04(((\\'-,)**))%\\'(),-(+2-*-.2265;9929+30**030-\\'\\'&&\\'(++/4.940*0.+)**)),)&&&$%(*./.,:1**\\'\\'(&),,.+*))3-..(+))((((),,++&(()-//0+68,+,\\'(/(*\\'%***/817441--,.4,++)*0)).10/1842+**.\\'%&$\\'\\'*10/.///503;7.,*--()(2))()(+0*,-72/:.+()&$#&&---,130)%((&($\\'(*-,/-,#\\'%&\\'*,/.-.+)*/)-0.)&$$&#$(#&)$*++.0.++*.-21&/20&&\\'+)\\'\\'%%&\\'*,(*+(&)%%&*,,*(\\'\\'&\\'&&)*)&\\'\\')2-280-.+$12,.11*(\\'(*$*,600..,,//(//*-*32,()(&.(%&&/1:2&', 'NM:i:300', 'ms:i:734', 'AS:i:503', 'nn:i:0', 'tp:A:P', 'cm:i:28', 's1:i:157', 's2:i:0', 'de:f:0.1219', 'rl:i:0']\n",
      "['ERR3245468.401', '0', 'X', '60179', '60', '272S10M1D5M2D3M1D11M1D4M1I32M2D12M1D14M4D30M2I2M1D49M2I4M2D37M3D29M2D20M1I6M1I46M1I2M2D13M49D5M2D5M1D17M1D6M2D31M2D14M5D18M1D20M1I8M2I38M1D8M1D1M1D2M1D11M1I6M1S', '*', '0', '0', 'GCTAGCAAGTGGCTATCTGGCAAGAAGAAGTTCGCCGCTGTTCCGGCGCTTACTCGTGCCCAAACAAGTCCAGAAGGAAGTGAAGAACCCACTCTCGAGAAGAGCTGCAACTCAACATCATGGACAAGACACGCCGGCCAAAGAAGGACGTCACCCGATTTCGTCAAATGGCCACCGAGTACATCCGTTTCCGGCGTCAATCCGCCATTCCAGAAGCGCGCCTGAAGGTTCCAACAACCAGTTCAGAGAACCGCTTTGACAGCCAGTTCCGTTAGACAAGCCTCAAGCTTGACAAGTACCGCCAGAAGTCGACCGAGGCCAAGAAGAACCGTCTCCGTTCGTGCCGAGGCCGCGCTGCTGGAAAGAGGAGGTCACCAAGAGACCAAACACCGTTACCGCACGGAGTCAACACCATCACCAGACTCAATGAGACCCGCAGAGCTCAATAAGGGTTCATCGCTCACGACGTCAACCCACTCGAGATCGTGCTCCTTCCAGCCCTTCGTAGAAAGTACAACGCCATACGCCATCATCAAGGGAAAAGGCTTTCCCATGGAACCGTCGTCCGTAGAAAGACCACCGCCGCTGTTGCTACTTCGATGTCAACACCAGAGGACAATTTGCCTTGAACAAGCTGCCGAGTGTCAACAACAACTTCAGCGAGCGTCACGAGGATTCGCAAGCACTGGAGGTGTCATGTCCGCCAGTCTGATGCCAAGAAGCTCGCAGATTGAGCGCGCGCTCGTGCCCGTGATTTTGGAAAGCTAAATATTGTTTTGTTGTATAAAACTTGTTATTTCAAAA', \"#$'*-//2-*&($%'&$*)-(',,2-)*-)'2&').+,/+,../5/,,%&*,)++)(*)1-77-,..--4-,0+.&-&-'+,.0/6268/--($%&$()1..-,*+&%(+%*()++)&'(((/)*-2**)%''+-&++2+90-1-.-+*++$%.862443-.0427:/-/'+'$)%%)()**-,000/*148.500/4/5-.5/4.)-+*.*+,2+*++.2).*+-*+3/2+.*().+3,29/.,+.+1201.*(.20,+()).+,.*5/0'+.00.7/,3..'.,'',*('('5'((,.-19()(0()()))'*+0/04&&/,5,82500*&')()))'+,,-)'+**&(()*+.63/01-4/')(.%'+'(+123.,+)+-.;<21..(%#&%'*()'./../102,,+-.)&'&)+51/-+'$$%*/0/22+$%((,++&%4.'%&&*+)*&%)((%&''+),,,+,7-361+*4,-./-.+./.,,'&%%),*/.4,''((&&(-41*)+-7-0/1-*.)*)),+-..0214(,+'.80+1&(*'),($%<4<4220.21,,*'$'**83*+/,),)&'('.**)5+-(%%%&&)),,./,-)%+*++*++))..+*,*-/37403,-6))*&&%*(((*,,//,.3+3-*(,)+*+)((*+'&(*)'&-,+&&$%,0)'%$((/$))'+-*../366--(+*-*/1////+2+*303''%#$**./)*)*)((*++/+/021;<4++++')+1'*/2)(+,(.-&&,-+,33.+2,(%('+:<-'*(&((&0,+**570\", 'NM:i:129', 'ms:i:642', 'AS:i:565', 'nn:i:0', 'tp:A:P', 'cm:i:19', 's1:i:133', 's2:i:0', 'de:f:0.1105', 'rl:i:0']\n",
      "['ERR3245468.410', '0', 'I', '111511', '60', '133S24M2D43M3D4M3D2M1D4M1I16M1D4M4D1M1D5M1D8M2D3M1D1M2I7M1I5M1D4M1I1M2D23M1D3M2I14M47D5M1D6M3D52M3D18M1D5M1I14M1I14M1D3M1D14M1I2M1D12M2D3M1D37M2D2M1D13M48D10M1I3M8D18M2I5M1D7M1I13M1D13M2D3M1D7M2D20M3I10M1D9M8D1M2D3M1D10M1D8M5D5M1I9M7D2M4D7M1D18M26S', '*', '0', '0', 'CCAAAGTTGTAAACAGCCGCCTATAATGGCTCCAACAAAGAAAGTGCCACAGGTTCCAGAAACTGTGCTCTGGTCGGAAAGCGGAGAGCCGATGCCTGCCAGGCTGCTTATACAAGGTGACCGTCGCCGCCGTAGAACAAGGAGAAGAAGACCCAATTTCAAGCGTGCTGAGAAATACGTCCAGGAGTACAGAAACGCCCAGGAACCAAAGTTCAAGCGTGAGGCTGTTCCGGACTTTACGTTCCCTGGTTGACAAGGCTCGCCTCGTACCGGAATTCGCGGTATCAACCAGCTCAACGCCAAAGCCAAGAAAGGCTTCCAGATCCGTCTTCGACAGATCAACAACGGAGTGTTCGTCAAGCTGAACGGGGCTACTCCACTTCTCCGTATCATGAGCCAACACGTAGCTGGGGTGTTATCCAAACATCAGACATCCACGATCTCCATCACAAGCGCGGATTTCAGGTTGACGGAAACCGTGTCCCAATCACCGACAACACGCTCGAGCAGAGCCTGGAAAGTTCATACACTTGAGGACCTGGCCCACGGGAGATTACACCGCGCGGACCACACTTTGGGAGGCCACCATTCAATGGCCTCAAGCTCATCAACCCAACTGGAGGAGGATGGACTTGAAGACTTTGAGGAGGAGACTCGGAAACAGATCAAAATCAACACCAGCGGTCAACTTGTTTGTTGTTCATTCTCCAGACAAATCAACTGGTCGAGC', '#&#%\\'&%&&%\\'+%&(\"\"&%)-*+)0/,/.-.323.*&\\'&%),*).,3+((())))\\'**+37)\\'\\'%),*,*\\'-0()*)+/+&&&)((()-23.--.2\\'\\'\\')%%)\\'(,+-.,(((,.00/4471.&)&\\'*)+&$%(*230//,)((*(\\')*())+*&*\\'\\'%&\\'-*,-,-(\\'&%\\',2,&(\\'(\\'*-%)+\\'\\'(,0/1.97+,2;)\\'\\',%%$&%,)($&&&).((%&&*-\\'&\\'$&(&\\'\\'&&*-)%&%$\\',2*((*(((&&&(+&$(*)-/+&%$\"%((,2..-*+)-,00.0616400-*$$(#\"%$)()(--\\'++.00)*\\'(%0..4)-20*0(((%\\'$%)*-,/90.22/3.*--./-,0/)-3(&)(-/+079,*-*)*\\'*#&&(%(+*\\'&(($##$%&\\',\\')%%%%&*+**(-42&&.*++62181*($&&\\'\\'\\'\\'&\\',\\')**+%\\'()$$((+-0+*&&+(&*&\\'\\',.4.42222/38,-**,0*.:5-5&\\'$,(1.-*-(\\')$%#$%$%%&&*)*)()-29/+0,*\\'&$$##%%#%(/\\'&*(*-.40//.3+&(\\'&(%&$,+)&%\\'./*/,(*&%%(\\'$&)\\'.--3%\\'&&$($%\\'+,3++\\'&\\'+*++(*%\\'),01.1,**,.&&-&+.)*,.*&&$&%(\\'($%&\\'#%)\\'$+*\\'&(\\'\\'()-/3+%+)*+&+.-))#\\'*($&\\'$#$\\'**\\'(,\\'.++,3/+.-\\'&*$$&\\'$%+($%$#&,)&$$$#\\'\\',)$)(()', 'NM:i:229', 'ms:i:533', 'AS:i:363', 'nn:i:0', 'tp:A:P', 'cm:i:19', 's1:i:107', 's2:i:0', 'de:f:0.1400', 'rl:i:0']\n",
      "['ERR3245468.460', '0', 'X', '60177', '60', '304S20M1D33M1I11M2D124M2D6M1D15M3I2M1D14M4D10M1D25M3D12M1I10M2I1M1D3M2I3M1D2M1D12M1D31M52D27M1D47M6D12M1D4M2I75M2D12M1D17M1S', '*', '0', '0', 'GCTGCCGCCCATCAAGATGCCTTAGCAAGAAGGTTATTCAAGAAGAAAGTCGCCGCTGTCACAGCGCACAACACTCGTGCCCAAACCAAGTCCAGAGGAAGTGTGAAGAACCCACTCTTCGAGAAGAGAGCTCGCAACTTCAACATCGGACCAGACATCCCTGCCAAAGAAGGGACGTCACCCACCCGATTCGTCAATGGCCATGAAGGTACGTCTTCCAGCGTCAATCCGTCATCTCCAGAAGCGCCTGAAGGTTCCAACCATCAACCAGTACAGAACCGCTCTTGACACTGCCAGCCAGTCCGCTAGACAAGCCTTCAAGCTTTGGACAAGTACCGCCCGGAGTCGACAAAGGCCAAAGAAGAACCGTACGTGCTCGTGCCGAGGCTCGCGCTGCTGGAAAGAAGGAGGAGGTTTCCAAGAGACCAAACACCGTTCGCCACGGAGTCAACACCATCACCAGACTCGTCGAGACCCGCAGAGCTCAATTGGTTCATCGTCACGACGTCAACCCTCAACCGAGATCGTGCTCCTCCAGCCCTCGTAGAAAGTACAACGTTCCATACGCCATCAAGGAAAAGGGCTTCCCTCAAGAACATGGTGTCGCAGAAAGACTTCGTCGCTGTTGCTCTCGTCGATGTCAACCCAGAGGACAAATCTGCCTTGAACAAGCTGCCGAGACCGTCAACAACAACTTCGGTGAGCGTTACGAGGAGATCCGCTTGGAAGGTGGGTCATGTGTCCGCCAAGTTTGATGTCAAGAAGCTCAAGATTGGGTGCCACCGTGCCCGTGATTTTGGAAAGCTCTAAATTGTTTGTTGATAATAAAACTTGTTATTCAAAT', \"#&###%'.1,(%%'(&(')51)&*-,.3+.,*.$)&'(%*-+42'1)/'-,-74+(+)&&%)&+.,++,1%%$$&')**,00-500132//34/++))/,'%''(21.5/23./++%'-((+++.(*()+)+,+)-)'1/+./),)-50.4--+')&#(*,%'(*,7,(('(*0%''(##'1+'-31/,.+()'((+(+4+4)'(%&*(((&%&$).1/)++-05=3293-),))''//'/*,,,*7.'$*)'+&%')&//.--+-4/2.-+('++2//1*)&$(0.),&'())(%'0',+*/3)/9/---/2/2*0.)+.**,2012-,/3,+*3**64*+''((*+++*++*/,/09-)*4*6/4/,+(('(()((()+-5+)*.'%%('-,--..(,)5-(/,(+'*,&*+(,)&('((***.12920*+-'*-(,963253+++*-/-(*-&%$$,'(*+*+*)'**+,,58/,-,,*+*++5//*-/11)+..2()(*)-+/-,.-,2+('''&''))*++&&&%%)(&'+'+47,*,)(-,,3.))*+//--).'*&&&''.*('(*-,-(01((1)','00-&&%*-1,+%%)(((')%&()+51-+(+'&%&'-+..5200*&)(*,*+--/220.,52.*(*,))/8).)4/9-14-.4)5-+++*+..0//3313-2,*.-*,-(,.'&-)++-..00+)+)*,)*+,,&&%%(*-)(*,),//0.0)'()*//**/-424&/,)('#&,*(1*)*,,.11/)++2-+,),$&%)*.33-,,,.-+/---/6+,)*&*(6+11()5/*-/*)+*1)*66+&&,,//,+1&(2,(\", 'NM:i:129', 'ms:i:669', 'AS:i:590', 'nn:i:0', 'tp:A:P', 'cm:i:23', 's1:i:164', 's2:i:0', 'de:f:0.1087', 'rl:i:0']\n",
      "['ERR3245468.524', '0', 'II', '23337', '60', '21S6M1I12M3I26M2D6M2D27M2I36M1I23M2D1M1D1M1D4M1D19M52D10M1I2M2D17M1I2M2D2M1I9M1D32M3D2M2D14M3I2M2D15M3I1M1I3M2I6M3D14M2I23M1I22M5D27M6I1M1I2M1I13M1I11M1I14M1D12M3D16M2D7M3D14M3D6M1I12M1I15M1D5M1D16M1I80M1I11M1D5M1I21M3D2M2I8M1D9M2D28M4D39M1D5M3D5M2D26M1D4M2I14M1D2M53D19M3D6M3D4M2D5M2D2M1I7M1D10M4D2M2D19M4D11M2D8M1D7M1D4M1D8M18S', '*', '0', '0', 'CACCCAAGTTTTGGGGCGGTTCAACCTAAAAAATGATGGAGAGGATTTCGGAGCACAAAGAATTCCGACGTGGCGTTTCGCCATTGTTGTATCTACTGTAGCATTGTTATTGCAGTTATTGTAATTCTTCCAATGCTCTATTTCATATGTTGCTGGTTTCCGGACTTTATACTGAAGCTGATTTCTGTAAGACTCGACCATCGACATGTGGCCCCAAATACCGACCGTGGATGGTCACACCTATTCCATCGTCAGAAGCGTCAATATTCCAAACCCACCAGCCAATGGGTGGATATGGAAATTTCCACAGACTTACGACCGAGCCAGCTCCAACACTTGCTGCTCTTGCCAACAAGGTACCAGCCGGACCACCAGGACCAAGATGACGGAAATGGCGGGCAAGATGGGACTGATAGTGTCGTGGAAACGATGGGAACTGACGGAAAAGGAAGGAAGCCTTTGGAAAGTGCTGTAAATGAACCATGCTATCTGCCCAGGACCACCAGGACAAGGAAATGGCAGGAGCTTAAGGGGCCACAAGGTCAAAGGAGGAAATGGAGATATATGGACAAGATGGAAAGGCTGGAGCCAACGGAATGCAAGGACCACCAGGAATGATGGGCCCACCAGGAAGACAAGGAGTATGGTGGACCAAAGGAGCATCCAGGACGTATCAATCAAATTGCTGACCAGCTGACCAGCAGCACAAGGGAGTCCGCGGACCACCAGGACCGGAGAAGCTGGACTTGATGGTGGAAACTCTGAAGGACCCAAGGACAAGGATGCTGGAAGACCAGGACCAGTAGGGAGCCGAAGGACCACAAGGACAAGGGACCACAAGGACCACCAGAACCAGGCTGAGCTGCCCCAATTCAAGAACACCTGATTGAACCTGTACTTTTTCTAATTTTAAATATCCGCCCAATAATTAGTGTTACAATATCGCCGAATTTCATTTAA', '#$(*-5/-*86.*&,*\\'*.*\\'&\\'-*2*0;;84,..0/.,((%*-((.+(*+\\'\\'\\'&\\'%.)(,+(%/,*(\\'&&)+**-3,)*0/*.,).2.,-,&&\\'&\\'&\\'((((/.032041++$,(.),.%&()((#,.*014./&%$%&$()&%%&\\')0+%$\\'$(\\'+*..+*&$)++&**)*),-\\'(0,,-*-%+*.23/)\\'%%(%$%$%%,)\\'&$%&)\\'&980(5/*)1,*(*)$%/.,-0/&\\'&\\'&*(&%\\'(.*&&())*,+0,*)(..4+*&*\\'),.6,1-)#($%$&&$%*0:3/2/.&((%)+20*-(%.$%$$$\"\\'\\'&&&%$(%&*,220.+0)+)))*+00489)\\'&\\'-,/3/4**-),$%(,\\'((%)*\\'*(\\'-))-*\\'+($%()\\'+()+.-6.()/%&11\\'&)..-2)*#\"%%$&$)(**&().+;;10*\\'(,2,,-*++.-*3(53).()\\')*,.+-)1**,)\\',*()/&%&(&;6((1(*)()(()\\'(%)\\'-6,\\'0+(,(\\'+)&(,\\'\\')-&)$(,+(1\\'&*,**&\\'\\'&\\'&1,-&,#\\'+)//(,-5)+)$(\\'%((%,*))*((%&\\'&,\\'&\\'+\\'\\'\\'(0\\'6-)-*+,1%)&*(*\\',(0*++*/.**(\\'*\\'*,%*)((17314114+&%)((2+30.-+,\\'+(%&-0-10,0-,1,00)*.\\'+,%\\'*-*-0+**-,--3./()/*13/-0.-0--,+*/)-/.,,\\'+##\\'*)\\'-/(*+,($#%/&&/\\'),*4(\\'-(*+++0--,1+2)((/.2270,6)/80\\')%\\'%(*(.((.\\'+**.%)()&/+)-&%\\'\\'%\\'+,2-+/-*-3-*&$)--*+)\\'$**(**,,(*,(.,)*)\\'*-.&)*\\'(&)*.)()\\'+)\\',*)***/,*&&$%$%\\'.27435*-*(./22/)**$&%\\'*\\'0.52**)&%\\'..,+%&*+()\\'\\'%*\\'\\'$$%&$-1&+.*.-)-#(&&%\\'%$&-$%\\'#$%\\'(*-+82%%(.-%,', 'NM:i:259', 'ms:i:1108', 'AS:i:925', 'nn:i:0', 'tp:A:P', 'cm:i:30', 's1:i:257', 's2:i:0', 'de:f:0.1000', 'rl:i:0']\n",
      "['ERR3245468.688', '0', 'II', '23331', '60', '9S45M1D4M2I18M6I5M1I8M2D18M2I1M2I21M3I30M2I23M52D4M1I15M4D15M5I5M2I9M4I4M2D17M1I4M4D12M2I16M1D4M1I18M2I16M1D5M1I5M2D15M1D2M2I37M3I17M3I1M3I42M4I4M2I10M1D12M3D5M3D6M3D26M2D11M1D5M2I9M2I8M1I2M2I32M3D9M3I6M1I59M1I2M2I12M1I13M1D1M2D12M3D41M1D77M56D6M3D6M1D5M3I32M3D7M2D13M2D11M1D10M1I20M2D8M1D5M3D11M1S', '*', '0', '0', 'GCACGAGTACAGTCACAACCTAAAAATGATGGAGACTTCGGAGCAAGAAATTCTCGACGTGTGTGGCGTTTTTTCCCACGTTCCTTGTTGGTATCTACTAGCTGTTATTGCAGCTAACTGGGGCAATTCTTCCAATGCTCTATACTTCATATGTTGCTGGTTTCCAGAGCCATCTTCTATCATTGAAGCTGAGTTTTGTAAGACTTCGGTACCGTGACATGCCCAAATCCATGACCGTGGATGGAAGCGGACCACACCCGCCCACCATCGTCAGAAGCGTCAAATATCACCAAACCCACGCCAGCTGCCGGTGGATCGGAGGGTCCAGTTACGAACTACGTGAGCCAGCTCCAACTTCTGCTGCTCGCACAAGGACCAGCCAGCCGGACCAGGACCACCTGGAGATGACGGAAATGGCGGGCAAGATGATGGTGTTCGTGGAAAACGCGATGATGGAACTGACGGAAAGGAAGGAAGCCTTTGGGAAAGTGCTGGCAACAGCATAAATGAACCTCGACTATCTGCCCAGGACCAGGACAAGGAATGGCAGGAGCTTAAGGGCCAAGGACCAAAGGAGGAAAAATAAAGATTTAATGGACAGATGGATGGAAAGGCTGGAGCCAACGGAATGCAAGGACCAGGAATGACGATGGGCCCCACCAGGAAGACAAGGAGTAAGTGGACCAAAGGGAGCTCCAGGACGTATCAATCAAATTCGTAATGGACCAGCTGGGACCAGCTGGACTGGGAGTCCGTGGACCAGGACCACGCGGAGAAGCTGGACTTGATGGTGGAAACTTGAAGGACCACAAGGACCACAAGGAGATGCTGGAAGACCAGGACCAGTTGGAGAGCCAGGACCACAAGGACCAGAGGACAAGGACCAGGGAACCAGGAGGAGGCTGTGAGCATTGCCCAATTCCAAGAACACCAGGATTGAACCTGTACTTTCTCATTAATTCGAAATCACTCCGCCCAAATAATTGGGTGTACAATACATGAATTTCATTTTAAA', '%%$\\'#&(*&%)((+)+.-2/,9;;7*)++-(+((\\'\\'&)\\'&+(&&)*\\'(-*&\\'%%-+)\\'$%%(**.2++*/50/*#(*&&%$&%&\\'((-0-/&\\'&#%\\'$\\'\\'((*,\\'(),1+0)(\\'&&)$&\\'$%\\'\\'(.)+$***.0650./,((%%$&(&%$(*,.00//9/67*3,,+-.00,+&\\')$((\\'\\'&++(+-(((%#%%+,+&)),),+(*(2,*\\'(\\'&&(((%%&%(6*-)&&*&\\',&(*\"#\\')**//.+(\\'+/)4($$\"%))%(+($*&$$%%&()*,/+-0/2.<3)(&$#(*.2/6/.$%$--\\',++*-/420--)($\\'(&\\'+()\\'-\\'()/.-/41)(\\'(#\"&#\\'-,-..,1-)+\\',*$)///**-\\')+)))\\')-,-+\\'&&+#(,*.,(-*&(,&)+\\',-\\'*/)),+,223-19/,4/-016)+.*&&\\'%&33//,/)))--*562(\\'%)\\'%((*002.&&\\'(,/1,7**\\'/)-+*.\\'&)&*+&+\\',-*,,-+()%%)*\\'\\')&%%(0-%\\'*)\\'(%\\'&&$%$$%%&\\'*,&*,+00((.&\\'/++++.((/$#\\',&(\\'*(&)$,4$)\\'*(0\\'(*%%&&\\'\\'*.,141+%\\',++))\\')+//.,)(\\')-,+0&&)(*.**-))33))*/+0.2*,.*+/2.)+\\'*+)\\'-).(-)%\\'%&.2/+280\\')(\\'&(\\'+(\\'\\'()*.&(\\'\\')++-0((/);/)4,\\'()+5-+..+*)))*+2.1,072(*$$%)))*/),.*+,++8.)+.-,2427\\'\\'%%(,((\\')\\'&%-,*0-(,-(*-))\\'\\'*+(&&-\\'(.1---/./,,.4.3/2;/,,*)$%&)%&(\\'\\'+.).\\'(/((,++-\\'\\'())&\\'(*(/+-0-*./+./+-./*.\\'))*-\\'***(-*\\'+\\'*+0*/0%(#&*#&&(\\'-(*,%\\'+*),),(*+&&($))&(\\')&)$$&*-\\'-4//++&&\\'#&(-1*(,)&&+(*-0719-..-)(+))&)\\')*/)4\\'-&&\\'3/($%$$)/*-86*;/+..+(%,-**(\\'\\'(1,)$%#$(3(/*&&(+*+*0,', 'NM:i:275', 'ms:i:1181', 'AS:i:986', 'nn:i:0', 'tp:A:P', 'cm:i:51', 's1:i:382', 's2:i:0', 'de:f:0.0994', 'rl:i:0']\n",
      "['ERR3245468.727', '0', 'X', '59887', '60', '144S38M3I26M1I9M1I5M1I5M2D38M1D9M2D10M1I5M1D2M139D19M1D24M1D1M2I13M3I25M1I12M2D88M1I3M2D24M1D19M1I9M1D29M1D1M3D9M1I7M2I56M52D52M4D5M1D4M1I15M1D1M1D5M2D36M1D37M1D7M1D13M1D17M', '*', '0', '0', 'CGCGTCGTCCATCAGATGCCTAGCAAAGAAGGTTATCTGAAGAAAGTTCGCCGCTGTTCCGGCGCACATTCGCGTGCCCAAAACTTCAAGTCCCAGAAGGAAGTGAAGAACCCACTCTTCGAGAAGAGCTCGCAACTCAACATCGGACAAGACATCCAGCCAAAGAAGGACGTTTCCCGATTCACCGTCAAATGGCCAAAGTACATCCGTCTTCCAGCGTCAAATCCTGCCATTCCAGAAGCGCCTGAAGGTTCCACCAACCATCAACCAGTCAGAACCGCTTGACAGCCAAGTCCGTTAGACAAGCCTTCAAGCTCTGGACAAGTACCGCCCGGAGTCGACATGAGGCCAAGAAGAACTACCGTCTCCGTGCTCGTGCCGAGGCTTCGCGCTGCTGGAGAAGGAGGAGGTCACCAAGAGACCAAACCTCGTTCGCCACGGAGTCAACACCATTACCAGAACCGTCGAGACCCGCAGAGCTCAATTGGGTTCATCGCTCACGACGTCATCCAACCGAGATCGTGCTCCACCTTCCCAGCCCTCGCGGAAAGTACAACGTTCCATACGCCATCTGGAAAAGGCTTTCCCTCAAGGAACCGTCGTCCGCAGAAAGACCACCGCCGCTGTTGCTCTCGTCGATGTCAACCCAGAGGACAAATCTGCCTTGAACAAGCTCGTCGAGACCGTCAACAACAACTTCAGCGTACGAGGGAGATCCGCAAGCATGGGAGGGTGTCATGTCCGTCAAGTTTGATGCCAAGAAGCTCAGATCGAGCGCGCTTGTGCCCGTGAACTTGGAAAGCTTAAATTGTTTTGTTGATAATAAAACTTGTTATTCAAA', '($$%$))&)*%$&++--/22*+,)(*(\\',-+./2,-+\\'%%,(*/*)()&&$%##%\\'&\\'\\',(,.0+*/.&%$#$($-.68+51.((--42-*/11+(,.++).\\'\\'--.,.3/5+&%%$(-)12274342-.**(+,%&$%&%&$(2-++/0/*+((+82//-,11(*&+\\'((\\'((%(46-.+(%%+,.*-+-.+-20-4<1***)*\\'*/*\\'%*-,0-..++-69/-7,)+1*$%$%,%%*,&&),.,*+)(,(\\'(.),1,402/-,0067355/40611-((./-../03.*&))*1182333/32-3--*(,/\\'\\'(%)-()+52353:64;<--**,-32/&%$%&**+,0..8/+(1%$&*./($%&*(*--9623230-+0-*)*-,,,,,/0/()(&+,)+$&*%**)+-6670.,+,.195-/&&\\'&(*)/.2)()-()+)--,*/,*)($*))*2*))(\\'\\'(-+,.81****-.055;39.3-&*+((-+.)\\')\\')++*+($&%,-,)\\'+/210-*#\\')((-)$)+(\\',82/215(+(&$&,*90/**)*/,-2-2,(()*+-)\\'&$&..*.7++-)12,)67$%$&*..1/1123,**)#\"(&\\',.,---&(&\\'(,41.--;-3()*+*0)*))(,,6/7<5/-+)+().8,133/1/03158236+//2330./.*,1,-38.,6.083-00\\'\\'*((*%)\\'&-0-)+-/04.-/0+(\\'$$(+$(+0&+-+,)**./,%/40-*\\'()*101,++&).(*+*+*+-+-,\\'\\'(%(*()+,.36,+*)*+(+2(,(/+&&&,-6+52/3;;5+50,--60-.<8/*,5.:5-64*,:6', 'NM:i:269', 'ms:i:933', 'AS:i:713', 'nn:i:0', 'tp:A:P', 'cm:i:27', 's1:i:223', 's2:i:0', 'de:f:0.0896', 'rl:i:0']\n",
      "['ERR3245468.871', '0', 'I', '111510', '60', '137S8M1D10M1D7M1D3M1I8M1D22M1D7M1D23M3D11M1I11M1D15M2D13M3I49M49D39M1D23M10D18M1I26M1D8M2D2M6D15M2D50M1D8M3D2M44D10M3D16M3I26M3D3M2D1M1D17M4D9M1D17M4D28M5D10M1D19M1I9M1D6M1I29M6D26M3S', '*', '0', '0', 'ATCTGGATTTGAGGTAATCAATCGCCTATTGCTGCTCCAACAAAGAAGGTGCCACGATCCAGAAACTGTGCTCAAGCGCAGAAAGCAGAGAGCCGGCGCCCGCACCAAGGCTGCTCAACAAGGTGACCGTCGCCGCTAAGAACAAGAGAAGAAGACCAATACTCACAGCGTGCTAGAAATACGTCCAGGAGTACAGAACGCCCAAAGGAAGGACTCAGACTCAAGCAGGCTGAGGCCAAAGGGAGACTTTACGTTCCAGCTGAGCAAGGTCGCCTTCCATGTTGCAAGAATTCGCGGTATCAACCAGCTTTACACAAAGCCAAGAAAGGCTCCAGATCCTCCGTCTTCGTCAGATCAACAACGGAGTGTCGTCAAGCTGAACAAGGCTACTTCCGTATCATCGAGCCATAACGCAGCGCTGGGTTATCCAAACATCAGACCATCCGTTTACAAGCATGGATGCCAAGGTTGACGGAAACCGTGTCCCAATCACCGATAACACCATCGTCGAAAGAGCCTTAGAAAGTTCAACATCTGTCTTAAGGATTCCTTGGCCCACGAGATCGCCACCGTCGGACATAAGGAGGCCACCAACTTTGGCCCTTCAGCTCAACAACCCAACTGATGGACCAAGAAGACCAACCACTTTGTGAGGAGACTTAGAAACAGAGAAGATCAAATTCAACAACCTCTCCGAAAAAATGGTCTAACTTGTTTGTTGTTCATCTCCAGGACAAATCGTTATTGTTTGAAAT', '$\"\\'%\\'*))-*)(-()(.))+/3--12-)(%%$10//01./-*.))(-%*)%\\',))&$$()()06*,*--.*/\\'%(%%$%$(\\'+)&%&&)**2,,()&(*8:84,//*\\'+*&,*,0-0/./,..,-.8,,)++,10-/54+-,*,(%))+,),-+(1-+,),+\\'$$((\\'&(&)&*//-;)&(+)(/4)).\\')(&-/*,6,--;,/4---,-,/(&&&(++*&&$%$$%\\',**),-.10(,((,+)-/)+**&&&*(**((()(&)()(*0../:0&&%&&(+,.+-+2(+3%+(\\'+/3043.1//+,.(+/)%%%*)-.)--)*)*3+1,(++0)32()-&+-+*&00).-,,,.0055-.,\\'*)%&\\'()&(*(+,,+,.11+,*+,)***&%%&#*,*-((\\'()+-.(%*\\'%%%%&$$%()/.)/..3199/+-().))*.)\\'((&%\\'&%&\\'/*))*-/+\\'$\\'((&0-/1/,.*/6=3.1**-*-=7/2-/(/10+&%\\'$#\\'\\'&\\'&\\'+\\'((+&&\\'(23&\\'*)(:3+06,--%%$$%(*%))),*.*+)&*\\'-\\'6)8.//,.,(\\'&&)+*5,*,)\\'.,,%$$&$*\\'*-)0&++0.)*1-+\\'-8/*&\\'+*,/14416564,*%%$)%%&0).6*5*,1/051*/*2+(*1*&)%&)+*/)\\',\\'$*(86\\'\\')))0.)))\\'+32)+*1/-+3*)%%&(,*+2<;:6.022..2./463532013-.3++*$%(\\'$%)%$&5+(&(++&,)(1<32*/,&', 'NM:i:195', 'ms:i:798', 'AS:i:635', 'nn:i:0', 'tp:A:P', 'cm:i:27', 's1:i:218', 's2:i:0', 'de:f:0.0920', 'rl:i:0']\n",
      "['ERR3245468.895', '0', 'I', '111510', '60', '151S6M1D32M1D2M1D29M4D16M2D24M2D42M1D15M1D6M1D10M47D64M1D1M1D9M2D44M1D3M1D13M2D6M2I38M2I9M1I6M1I14M48D2M1I38M2D18M2D13M3D5M1I12M1D6M1I11M4I1M2D33M4D11M2I2M1I26M1D6M1D7M2I9M1I13M4D13M1I11M3S', '*', '0', '0', 'CCTTCCACAGTTTGAGGTAATCAATCGCCATCAATGGCTCCAACAAAAGAAAAGTGCCACAGGTTCCAGAAACTGTGCTTCAAGCGCAGAAAGCAGAGAAGAGAGCCGATGCCCGCACCAAGGCTGTCCATACAAGGTGACCGTCGCCGCTAAGAACCGGAGAAGAAGACCCAATACTTCAAGCGTGCTAGAATACGTCCTGGAGTACAGAAACGCCCAAAAGGACTCAGACTCAAGCGAGGCTGAGGCCATGGGAGACTTACGTTCCAGCTGAGCACAAGGTCGCCTTCGTCGTCAGAAATACGGTATCAACCAGCTCATCCAAGCCAAGAAAGGCTCTCCAGATCCTCCGTCTTCGTCAGATCAACAACGGAGTGTTCGTCAAGCTGAACAAGGCATTTTCCACTTCCGTATCATCGAGCCATACGTAGCTTGGGGTTATCCAAACATCAGACATCCACGATCTCCTACAAGCGCGCGGATACGCCAAGGTTGACGGAAACCGTGTCCCAAATTCACCGACATCCACCATTCGTCGAGCAGAGCCATGGAAAGTTCAACATCATCTGTTTTGAGGATTTGGCCCAAGATCGCCACCGCAAGACCATTTCAAGGAGGCCAACTTTCTTGTGGCCCTCAAGCTTCAACAACCCATTGGAGGAGGATGGACCAAGAAGACCAACCACTTTGTTGAGGAGACTTCATGGAAAACAGAGAAGATCAAATTTATAACCTCTCCGAAAATGGTTTCTAACTTGTTTTGTTGTTCATACCTTCCGGATAAATTCGTTATTGTTAAA', \"$&#$&(%)*-/'+*).,(10,-4434570)''.-+.'&),-*.'%''('332+)*,,.*++-+()+--+4<1+,,,/++/0/-**+2-++++*+-*+((+$'()*://.-.5;50//92+4(1')*%&'&#%'),6011..*.,/04::99;7+4)*&$'(),,,3/77<<53.*(&$+%'+''*',(++3:63,+(&./$)(++)+,,+6:1019<5/+(')*',/,+.*&%',.++-.-2*+***0++&$&),')')(%%&%&0.0-'&,,,-,,.9.3117775('%(+.,,,,(*4-,)-40,,,,.6.8**'+&+-,.//*.083,/6-.,*)'(,2-1.'),(*2)(&*-'+),/118--50,4+,.++,-36*,/083,,*)7+)6,3,)''*)(**('*.,,+,+*))(&*++5/0,*,)(+*)1-/74++.+*,/69.**$')(+.((*0-,0,,&&(&'%',/,+.../60.))(**/3+2/553--'-)5.,--..)&62+;2)-''+/5+)'$''$(-&(,)(&%&('%(),,.2$$'/*5-,,,(',-/,**+),,-++/,(+-',)+3.53.,0-,)+)).*--'&%''%(((&((%),-+())(('**,++$,1+*,,+1+%)(1-+-*(/.,4264.)',.,**)(-,./(2&&+*/*,/*.340402,.)**$(*'&'+&),'(''%$)7(7:1')(,*/,+,/1/81(,%*)++)&#&%,1-.7;405/6*,'*+0),1,*896+63361-/1/0/*+,-+-*)-4)-+&(),)..*-1'5,\", 'NM:i:174', 'ms:i:872', 'AS:i:735', 'nn:i:0', 'tp:A:P', 'cm:i:37', 's1:i:275', 's2:i:0', 'de:f:0.0842', 'rl:i:0']\n",
      "['ERR3245468.1081', '0', 'X', '139102', '60', '82S6M3D10M1I62M1D15M5D15M2I34M1D18M1I45M3I25M70D42M2D3M1D2M1D12M1I69M4I9M58D32M2D8M2D21M1D14M4D5M5D3M1D9M2D5M2D35M3D23M2D25M3S', '*', '0', '0', 'GCACGAGTTTGAGGTCTTTTCTAACAACACCCCTGCACAGCGAAGCAAGATGGCCGATCACTGACCGAGGAGCAAATTGCCGAGTTCAAGGCATTCAGTTTTGTTCGACAAGGACGGCGATGGCACAATTACCACCAAGGAATTGGGAACTGTTATGCGGTTTTGGGACAAAATCCAAGCCGAGCTTCAGGTCGCATGATCAACGAAGTGGACGCTGACGGAAACGGATCATCGATTTCCCGGAGTTTCTTGATGACGATGGCCCGCAAGATGAAGGACACGGACAGTGGAGGGGAGGAGATTCGTGAGGCGTTCCGAGTTTCGACAAGGACGGAAATGGCTTCATCTCGGCCGCTGAACTATCCGCATGACCAACTTGGGGAGAGAAGCTAACGGACGAAGAGGTCGACGAGATGATCCGTGAAGCCGATATCGACGGAGATGGACAAGTCAATTATGAGGAGTTCGTCACCATGATGACAACCAAGTAAATCTCCAATCTGATTTGAAGCCGCCGTATCGTTGCGAATCACCAACCTTCACCTTCGTCTTTTTATTCCCGCTTGAAAATTGTGATTTCGCTCTTGAGCCCCAAAAAATACTGCCAAGCCCAGTCAAAATGCTATTAATGATGTAATTTAAAT', '\"$%(%+0:8/,(*+\\'$,))\\'$\\'*0+.15,/9</%,*)-+,*(+-((5/0/*03/042)\\'&\\')++4-*+**%+),<1,)01.*5,.,&-(&,%&\\'3+,)73*-0430/-,/0,/*+1..-,(+1,**.2+&$%)&-,*),/+4041:.-.))(+-*,--.3*,,0(4+-()1/(&&+$\\'&%\\',-+(++\\'%.%%&%%&\\')*0/22/-8.--1(&\\'()321.0/-9/),3-+))\\'*)-2+./;,)+(()3+&)-++&+0332120198/+,-)+-.3,)+((,-/3*,(+\\'))%(**,\\'+,)+*++*++))*.(+*226/11)0-)(0/.,+1)(5*,,+*).\\')/\\'\\'(&),.263,,,-.2-*((()&%%(+,1.10+*,-12*)%+(,0+,.60(.*\\'(,-*)&*)(+47/2,,)*,.-6.+++),\\'(,.-++,/181-.**).:+*,2,//-3/+\\'),)&\\'*%\\'*)-,((&\\')\\'&((*),+4+-,./-,.:+\\'$%%))-\\'&#((0\\'//12/+3(\\'\\'$%$\\'#&**)),820109.30-+&*#\"&\\'%(*-*$-.///--**.21/15,.76-5424.-.,-/2)+&)%,,+)633+(*.+)\\'%#\\'(**+/*.:2//,*.:7/())5)*)&\\'().---/+1+\\',+*\\'', 'NM:i:207', 'ms:i:724', 'AS:i:552', 'nn:i:0', 'tp:A:P', 'cm:i:24', 's1:i:176', 's2:i:0', 'de:f:0.0944', 'rl:i:0']\n",
      "['ERR3245468.1464', '0', 'I', '111510', '60', '141S24M1I3M2I8M1I2M2D23M1I41M1I13M2I30M1I1M2D23M2I6M1D16M48D6M1D6M2I22M1I34M1D6M2D6M1D1M1D18M2D33M2D7M1D36M1I29M48D2M1I7M6D43M3D3M1D4M3D23M1D7M2D8M2D76M1I1M2D5M1D27M8D25M2S', '*', '0', '0', 'CACCAAGTTTGTAATCAATCGCCAACAATGGCTCCAACAAGAAAGTACACAGGTTCCAGAAACTACTGTGCTCAGCTCAGAAGAAAGCAGAGAGCCGATGCCCGCCTCAGGCTGCTCAACACAAGGTCGACCGTCGCCGCTAAGAACAAGGAGAAGAAGACCCAATTACCTTTCAAGCGTTGGAGAAATACGTCCAGGAGTACAGAAAACGCCCAAAAGGAAGGACTCAGACTCAAGCGCGAGGCTGAAGGCCAAGGGAGACTCTTCTACGCTCCAGCAAGGCACAAGGTCGCACCGTCGTCAGAATTCGCGGTATCATCACCAGCTCATCCAAAGCCAAGAAGGCTCCCAGATCCCCACCGTCTTCGTCAGATCATCAAACGGAGTGTTCGTCAAGCTGAACAAGGCTACTCTCCACTTCCGTACTCGAGCCATACGTAGCTTAGTTATCCAAACAACAAGACCATCCACGATCTCCTACAAGTCGGATACGCCAAGGTTGACGGAAACCGTGTCCCAATTCACCGACAACACCGTTGTCGAGCAGAGCCATGGAAAGTTCATTTGTCTTGAGGATTTGGCCCACGAGATCGCCACCAATGGACATTCAAGGCCACCAACTTCTTGTGGCCCTCAAGCTTCAACCCATTGAGGATGGACCAAGAAGACCAACCACTTCGTTGAAGGAGGAGACTTCGGAAACAGAGAAGATCAAATCAACAACACCTCCGAAAATGGTCTAACTTGTTTGTTGTTCATTCCAGACAAATCGTTATTGTTTGAAA', '$%&+&-(360),%\\'$&)3226/(*+*/+))*()+0.,\\'$&&(+)&&*/..,.0+.,.)(*21$#\\'&\\'\\'(***2.\\'%(**./1+.+\\'&&\\'(((+,3,,--7<>74-\\'#(\\')0)),&(\\'&(%(),,/.-03051,***-10)&$%%\\'5\\'-,5+*,..-/20155.-,()%(%&%%(*\\')\\')%(&**)20-(+++*.0*+-),,,,-+*983+270(\\'+11&/\\'+*,)&(,$.()+*-.)))(()1-*,*)(3.316,(0.)+*((%\\'(#&%&&$&,-\\'))#$%(\\')+,..2,,..\\'.10-/.//.)-8&.(\\'(+2*+)((&&&+,*.(\\'&$\\'-//1+,376.+1-+/++.61*+-+.00(&+*))&)/$&*+,-.,0+%(*+\\'+.-)()-0-*--*,4((&\\')1(4-).\\'(+))&\\')(#&&)*.\\'\\'(#)(\\'*#$\\'(+,(,*-.360$)()),267<413..2/--1*++10.003.&&)(%&(,,+$*,-)***,.20,3+2,50/4049/3.,1.(-<6-2)\\'&\\'0//+)%-$#%(&&&)*)))&&((--1.\\'%+0,/.\\'\\'-\\')&\\'\\'$\\'%*,(**0)*42.2280--,+(*)(*//*0-,((\\',\\'&&\\'&&\\')(+\"%$\\'\\'\\'\\'&*($(+),+1+60.\\'&3\\'&%)()--,-&$&%$(*+*4/+//..+11-/0,0)*)%$\\'*))/-+.*.+(-))))*((&(,2:1**)+)0.-./-5<+.*+-)+*(%&\\'%--,/462-./,,(\\'*&-.)563*95491,(+%\\'*%%0,45%)#$%+$,,*/3,\\'(-/', 'NM:i:176', 'ms:i:881', 'AS:i:738', 'nn:i:0', 'tp:A:P', 'cm:i:34', 's1:i:275', 's2:i:0', 'de:f:0.0817', 'rl:i:0']\n",
      "['ERR3245468.1707', '0', 'IV', '127391', '60', '160S25M1D30M1D4M1I26M5D60M1I6M1D19M1D5M3D19M1D25M1D17M4S', '*', '0', '0', 'GCCAAGTTTTGAGGATGGTCGTCGCTTCTGCCACCCGTAACATGCTCATCAATATGGCCATTGTCGCGCCATCGGCATCTCGTTGATCGCCTCGTCAGCGCCACCGCCGCCTTCTTCGGATACGTTCAGCCAAGACACGAGAAAATACGAACGTCTTCGCCAACTACGATCCATACACCAGAATGAGGAGATCTGTGCCGCGAACAAGGATTTCAGCACTACATGCCCTCAGGAGCTCGCCGGGTTATGAGAAGGGCAAGACTGTTGCCGATTTGTAGACGCCCACGCCTCGAATTTTGTGTGTGTGTTTTGTTTATTTTGTTAGTCAATTTTTATTTTCGAAATGTTGTGATATTTTAAATAGCTTGGTTTGTTCCGAATAAAATGTTCGTAATCCGAAAT', \"#%)%+)(04)(&,))+3,+(('(*)-)%(+*.)+1,('&&$'((*-))**41))))/,,$&%&((*-/62.--.54-*)($(*2,33(,+'%*(,)#,&((1#&&(',.5*)+$),((11*))()/+-,.121...45462388-.//06,-,'$*+).415-**+,0236-((('),,**21)(%+(--01(.*,+)&'(*+6/.+00*.(&%$(.'&$#$'$)(1*%'('/''&'&&(1,51')--))))-(-/')-,-.-.,2+*./.24-+,,,,,,-7/)))+.(()*2(353,/,)('(()*)+0./+)(/6412652210/*0.*/,)5.,,('/2*,-2*%$$%&'$(-.)6++-+,'&',,93-.'&*'%*$'/;1,05--+,.0,*/,&)0%\", 'NM:i:28', 'ms:i:335', 'AS:i:328', 'nn:i:0', 'tp:A:P', 'cm:i:19', 's1:i:95', 's2:i:0', 'de:f:0.0894', 'rl:i:0']\n",
      "['ERR3245468.1722', '0', 'I', '111515', '60', '146S34M1D2M1D15M1I8M1D3M3D19M2I10M2D5M2D11M4D9M2D25M2D18M1I9M1I5M47D12M2D5M3D45M3D25M1D9M1D31M1D3M3D6M1I26M3D39M47D7M2I10M1D4M5D16M1I6M1D8M2D7M3D10M3D9M2D41M1D16M1I10M1I11M4I17M1D6M1D60M4S', '*', '0', '0', 'CCTTCCAAGTTTGTAATCAATCGCCTATCAATGGCTCCAACAAGAAAGTGCCACAGGTTCCAGAAACTGTGCTCAAGCGCAGAAGCAGAGCAGGTGCCCGCACCAAGGCTGCTTCATACAAGGTGACCGTCGCCGCTAAGTGAACTCAAGGAGAAGAAGACCCAATACTTCAAGCGTGCTAGAATACGTCCAGGAGTCACAGAATCCTCGGGAAGGACTCAGACTCAAGCGCGCGAGGCTGGCCATGAGACTTCTACCAGCTGAGCAAGGTCGCCTTCGTCGTCAGAATTCAGTATCAACCGGCTTTATTCCAAAGCCAAAGAAAGGCTCTCCAGAATCCGTCGTCAGATCAACAACGGAGTGTTCGTCAAGCTGAACAAGGCTACTCCACTTCTCCGTATCATCGAGCCAACGCAGCTTGGGTTATCCAAACAACAAGACCATCCACGATACCACAAGCAACAGATACGCCAAGGTTGACGGAAACGGCCCAATCACCGACAACACCATCGTCGAGCAGAGCCTCGGAAAGTTATCATCATCATTGTCGATTTGGCCCACGAGATTCGCCATGTTGGACCACTTTAAGGCCACCAACTTGTGGCCTCAAGCTCAACAACCCAACTGGAGGATGGACCGGGAAGACCATCACTTTATTGAAGGAAGGAGACTTCTAGAAACAGAGAAGAGAGATCAAATCAACAACCTCTCCGAAAATGGTCTAACTTGCTTGTTGTTTACACCTTCCTTCCGGATAAATCGTTATTGTTTGAAAAA', \"$%&(.--2/4821./10/01/+.58,+(%-2/++(+//0*)')',,*)+-871.+1+1-)/)(*95**,1116486+*))-,)0(&&)&&'#-*(*/9768/03+2&+&('((/'('))--/*&++12-*('(+*++.-+*'','$'-+/+((),(.-0060/1..-,((&(/,,--0+'%')/'*+-,//)).''&%&(+,-.(*)$'&))((10-.+')(')*)+.,,*,-+*+/+)())'*'$&),+*+)$%#&%$.,**,,.6,:,'((*/,'*-2/-0-,+-,.(*&+,-*+0+/**+)(,*&(-*),+''12,7-'(.,)*&&$'(1),'(+//(+((*,%.+,)*1)+1-4-+)))&4$%'+.3/./08505,,*'')()+'#%''&(/0.-..-012//0/02'(#%(,*0,16+,-,*/025.,34.63,,0,,+5/././0'(($%&($#%'&)))'(('(+'(+/+230./,)6,%(*+.+*+*'')0*,/)-((+)('%%(&')'&*+./3/+(',-;3),&'$%%(*)**#%1).&(''$/0+182,/2.+,&)(/1,$'%''&-(&'%$%(&%'(,%*$'&)&'++&)(/).*),/*)-)*-*.+064+/+-..)+.)..0(*-(..+/**0),%&%(&*'#')'*)*,''/,,/,),+%(++,:9%''&'')')()*,...8+*&,,*.2-*)%&*,(.680--23)00/++.(%./.6//4+&(#$'*&('+')3-0-++-7,-'&*+'2005:1+.1681\", 'NM:i:190', 'ms:i:782', 'AS:i:638', 'nn:i:0', 'tp:A:P', 'cm:i:35', 's1:i:246', 's2:i:0', 'de:f:0.0998', 'rl:i:0']\n",
      "['ERR3245468.1724', '0', 'I', '111510', '60', '141S42M1I4M1I22M1I2M2I33M1D4M1D9M2D8M3I7M2D16M2I25M1D18M46D7M1I5M3D53M1D2M2D2M2D2M1D3M4D1M1D16M1D24M1I10M2D55M5D14M47D1M1D43M3I24M3D10M3D52M1D9M1D3M2D26M2I1M1D3M1D50M19S', '*', '0', '0', 'CCCCAAGTACTGTAATCAATCGCCTATAAACTGTCCAACAAAGAGAGAAAGTGCCACGGTTCCAGAAACTGTGCTCAAGCGCAGAAAGCAGAGAGCCGGCGCCCGCACCAAGGCTGTTCAACACAAGGTGACATCGCCGCTAAGAACAAGGAGTAGAAGACCCAATACTTCAAGCGTGTTGAGAAAATCACGTCCAGGAGTACAGAAACGCACCAAAAAAGGAAGGACTCAGACTCAAGCGCGAGGCTGGGCCTGGGAGACTTACGTTCCTGAAGCTGAGCAAGGTCGCCTTCGTCATGTCAGAATTCGCGGTATCAACCAGCTCATCCAAAGCCAAGAAAAGGCTCTCCCAGATCCGTCTTCGTCAGATCAACAACGGAGTGTTTGTCAAGCTGAACAAGGCTACTTTACCTCGTTGAGCCATACGTAGCTTGGGTTATCCAAACAACAAGACCATACCACGATCTCCTACAAGCGCGGATACGCCAAGGTTGACGGAAACCGTGTCCCAATCACCGATATCCGTCGAGCAGAGCCCGGAAAGTTCAACATCATCTGTCTTGAGGATTTGGCCCACGAGATATTCGCCACCGTCGGACCACTCATCAAGGCCACCAACTTGTGGCCCTTCAAGCTCAACAACCCAACTGGAGGATGGACCAAGAAGACCATCACTTTGTGAGAGGAGACTTCGGAAACAGAGAAGATAGCAATAACAACCTTCTCCGAAAAATGGTCTAACTTGTTTGTTGTTCATACCTTCCGGTACTGTTATTGTTTAAA', '#((,)/10),-.,///*-1/--4.--+()&$#%%+,*6+,4-\\'%&\\'*/2+*&)/...\\'/),+0-*19/***-/),*,2*)\\'%$&(\\')\\')+)**()+-&%%)09:7:/-0//10.34-344,,++0/7-,,++$#%(+-//124,1:.-4--((#%\\'\\'*(.0;7173.*+0/013-**+&+/,+2-1,(%&((+//,+/()(*()\\'+8+*-,*3//08:5(3\\'4*+0((\\'$%%\\'\\'%%,+**+*)(/,,1.-1,-$$)/%()(+\\'%\\'&(05.&\\'((((/-,,-.-+1)*-73,1*&((\\'),-14364-))*)-6.311135623+)$$(,3*82)+065-+99+4,\\')%(*86362,13,.%-+%*$\\'(\\'(\\'+)+*,23:1,+**+1+-\\'.62+++,7--1/.0-/10&&(\"%)%)&\\'*&+1611++(((**,44,65,4767/682-/5-.7../2)&#()(--,+$%)%&%&)3&&$&90--,-.34+3+5,42/.-30<22-+...0<401()%(*((%(#\\'&$&%\\'*\\'%((),80$%,)50(\\'+(*+\\'\\'(+,1247(%(+()+0/5\\'-50662**,-4+(&+/(+5-)+(\\'&%(/--.*($%$)%&(+.&*&+)0&&*.\\'.2/04-\\'(\\',0-./.1305258441+*-,**2**-1*+*%\\',,00020,*-*)+.(%&&&(\\'),++.+).*)0,51+,()(..--,\\'(\\'+,*()&)1-/)+%+/-+1<:5*+:13..22.15++(+,.7,0,+)*\\',)%$\\'(%\\'%%%$%(,\\')0*04,)4/', 'NM:i:162', 'ms:i:897', 'AS:i:761', 'nn:i:0', 'tp:A:P', 'cm:i:46', 's1:i:332', 's2:i:0', 'de:f:0.0702', 'rl:i:0']\n",
      "['ERR3245468.1947', '0', 'V', '206810', '60', '275S38M1I2M3D43M1I4M1I49M746S', '*', '0', '0', 'CACCAAGTTTAAGACAAAATGTCTGAGCCATCCGCACCACCGGACGAGGCGGAGAGCACAATTCGGAGCCCGGACCTCCCATTCGTCTCTCCTTCAATAGTCGGAGGCCTGTTTTGTTGGCCGAGCAATTGTGGTCAGTGGAATGGTTTTGCCAGGATTCGCGTCGGATCGGAAAAGATTTCAAATCGATCCTGTGCATCGTAGGCAACAATTGATGGAGATCATATGGACAATAAGGCTACATTTAATCCGAGATTTGATGCAAAAACCAGAATGGTTCAGCGGCCCTGGGGACGATAAGCTCGTGATCAACATCCGTTTCAGGACGATGGGGCAACGAAGAACGATTCGATAATCCGTTTCACAGGAGGGAGAACCTCTCCAGATTCGGATAATGGTTTTTGAGAAGTACTTCTAAAGATCTCAGCCAGTGGAAAACACATGTGCGATTTCCCACACCGGGTTCCCAGTTGAATTGCTCTCGAACAATTTCCATTAACGGAATCCGTGTATGAACTACGTGGAATTCCATCCACCGATCGGAATCGGTGCTGATGGGAAGCCGACTTAAGGCTGCACCAACGCCAATGGGCGGAGGTCGTCAACGAAAAATTGATAAACCGAACGTTCCATTCCGAACTCCACTGCCTTGGCGGATCTGTATCTCCAGTCCGCTCGTCACAATTACCCCGTTCCAACCGTCGGAGATTCACAATAAATTTGAAGAGCAAAGGAGAATCCACTACATGAGTCGACATGCCGAATCAGGCGCAAAAGATTAAGCCCTTCCGTGATCGGAACAGCATGAAAACGGTGGTGTGAAATGGCTAACAGAAGAACGAACATTCGGAACATTCCCATTTTAAGGAATCACCCATGACATTAATGTTACCGCCTATGGAAAATACAATACAGTTGTACGTGGATGGGCGCCATTTGTGAAGTTCGTTTACCGAGATGGCGATGATCCGGTGAACGTCGATCAGATTGTAGTCGGAGATGTATTGATTCATCGATTCGGCACAAGGGATGACCTATTTTTTGACCATCTATAAACATTTCGATGTTAATTTTATGTGATTATACTATATCTGTGATCCATTTGATTTCCTAATTTATTTTTTTTGCACTTGCGAGTAGATAATGAGCTTCATCTTAAA', \"#$&*(*)5+/.3-..09;3)-)**+*)-/*(,.*-*-+)/.2/,**)-0*+-+*+,++,-2+.*+1--06.1-)/,(/9*((+'-0')))+-(+)00*+.0-1,(,--176+0(&#*/).''''(-03:1*+,4260-,-1+0((,,52/*50,00-,+))'&$',01212.-57/+/9-/)+021234+*)*/001,($$'#,/(+-/655533131..-0*''()-/,+-0+-0,0()&&')04399;22///1;80/./+29=72()&('*)+-/0,,//00/;4.)/81*-.,*2,**,&%$-+2-.((%&$('('%'*,2,++)()-.1)+0,*,/*/-,.,,,,,-*.)**.*2(&$$)(&-$(/,**,3)+$&%.*(,26,(-0-,02-.+/1.2.0.//1,,,)()&(-4-44*(&&&),11-,-2+<<1.***))))(**2--26/..)*%'.,'**0()*....,-*%#&#&,)-2+/5,3100))()+',+2,,81())))-2/1*+*)**.-//+'+(&&'*#%.1120.4.6,661.-&)+++,20*-+58-*()'&&(-*--3,/0++('+)4)('+(#&'$)((&*((+**2,5:9-/0-,./3+0($,,)),12.***(,,,2((-0&()*)-%**/)--13'/0.,)'&*,',-.863613*&'''0&+')10,&&(+(&'%%%&&%())*))&()*(++/.+,()*.'***07-+(&),--&($'#&%%()),,.,-)*'**,*,21--5/.00-6;8)+,2-/*05,&'&(#)*,1**3-5+--,#%)'-60*2+'0,+*'&13.-04,+/.)+++5+,9,27/+**..23;1,-,0-:,*)+,%')+1)5*+*3+*()+)'&%)$%+*+)$)*&))&&$(,(781*+12*-$''))0+$'**++2))(95)),116342..00),0'*/6.*-,-20//50++*+24060,00244,-,-1/...-*,+(**)**+2(*()()'+/*2)*%%&+-.3)&*((+-2,02-'''),10.*204/.006*'&$''(*2,()&+)%%,,-/522/3/*)&,*-++%')+0,+(('$'&,.**1(%)-/+/00-+0,7.,)+*-//-022/0/-+-,'&,,*()**)*.'((*(*+'&&%(*&-*\", 'NM:i:9', 'ms:i:228', 'AS:i:226', 'nn:i:0', 'tp:A:P', 'cm:i:16', 's1:i:107', 's2:i:0', 'de:f:0.0500', 'SA:Z:V,205793,+,71S102M4I983S,50,6;V,208034,+,418S119M1I622S,33,12;V,204387,+,15S58M1087S,19,0;', 'rl:i:0']\n",
      "['ERR3245468.2256', '0', 'V', '36122', '60', '1980S10M1D18M1D13M1D13M1I98M1D20M4I6M4I1M1I7M1I3M1D38M2I31M2I7M5I7M1I56M4I22M1I4M2D6M2I1M1D21M1D12M1D12M1I14M1I18M1I1M3I19M1I22M1I24M1I2M5I30M1I5M1I36M2I17M1D11M1D8M2I33M2I12M2I5M3I12M1D25M2I21M61D11M1I4M1D2M3I1M1D15M2I29M1D7M3D9M1I45M1I13M2I8M3I51M1I57M1I9M1D2M2I14M1D15M1435S', '*', '0', '0', 'CCTTCCAAGTTTGAGCCAGACCTCCATTCGTACTTTATATCGGCTCAACACACGGAAGAGCCACGCTGGCAGGGAAAGACGACGGCGCAACGTCGTCGCGTACTGCTCGCATCTTTGAATATTTCAGAGGAGAATTATTGTAGTATTGACTTTATTTTCCTAGTAACCGGCAAGAAGAGAGATGGCAAAGGAGTTCCAGTTCAATTGGAAGCCCATTATTATCCCTGAACTTCATGGATCGGTTTCGATCGATATGATGATGAAGTACGTGTCTGGAACTAAATGCTCCACTGAGTTCGAATTGGACGAGAACGGTTTTCCGGTGGCTGATCGAAGGAAAAGATGTTGTCGTACTCGATTATGGGCCAAATATTAGGAAGCGCGTTGCCGGGCGGCCTACCCAAAGACGGCCGAATTATGTTCGAATTGGAGCAGCACGGAGCCAGCGAAACGATAGCTGAACGCACGAATACTACAAGTTCACGCATGGCCAGGATTTAGTCAATGTCAGTCGTTTCTTGTCGCCGAAGTGTCGAGGGATATATTGGCAAAATGTGTAGAGCGGGCATTAATAATGATATTTTCAAAAGTCGTCCAGAAATACGACACGTGTGTCCCATATTACCCAATTGATGAATACCATACCTTTGGCTCGAATGTCAACGAACGATGAAAAATCCCGATCAAGTTGATAATCAAAACATTTTCGTCTGGAAAACCTGAAAAAATGGTTCAAAAGTAGTCTAAACGATGACTTGGGTCTTGGAGGCGATAAGGAGCGCGAAGAACTTGACGTCGACATCCTTTGAAAATTCCTGGAGAGCATTTCTATAACAAGATCTGTCCAAGATTGGGAGTTCAAGAGCTGTTGTTAAATTATCCGGACAGAAAGTACCCTAACCAAGAGCGACTCATCAATTTTGAATGAAGAACAAACGTTGATCCACGATTCAACGAGATCTTCCCATTTTGATTCGGCGTATCGTTGCGCTTCTTTCAAAAACACGAAAACGACATAAAATATCTGGAAGATGGAAAAATACGGTCCGGTGACGGGTCACTTCCGATTCCTGATGTCGGACGAGAACCCGCCAGTGTTTTAGACCGAATTGAAAATGTTTATGGATATGGATCAACCGCTGTGTCACTACTACAATGGTAGTAGTTCCCAACACGTATCTACCGGACGGCAGTATATGGTGGAAAATCGTCTTCACTTGAGATCTTATCGACAAGTTTTGCTCAGCGGATGTATAGGTATGGTATTGAGCTTGATATTGTTGGGATGGTACTGGTGAAAAAATAAAGGAGAACCCATTATCACATCACGGAAAAGGCCATGTGCACATGGACGCAGTTTTCAAAGGACGTCCTGGTACAAATTCGAGACACCACCGCATTTTGCCCGGTCGGATTTCCAGTGGTCCTTCCTTCGAAAACCATTGCTCAAAATCAATTAGCTGAAAATGGCCAAATATTGTATGGACATTTGGAGATATGCTGCTGTCCTCAAACCGTTTGAAGATGCGCCTTGACCCCGGAGTCTCCCCTACCTTCCAAACCGCCTACTGCGAAAGGAAGATCCACATTATCAATAAAAATAAGCGATTAAAACCGACCGAACGCCACCAACTTGACCAATTTGCGGGGAAGGCAAACTGGACGAGGAAGGACGACTGAATGAGACGCCCGAAGTTGTCGGAGAGGACTCCGTATCACCGTGAAATGCCCGCCAAGGAAAATACGACGAAGCACATCCGGAGCTAAAGCAGAATTTCATTGCTAAAAATTTTGAAAAGGATTCGGGTTTTCGAAAAAAAAACAACATCGGTACTGACAAAAGTGAGAAGAAGAGGAGCGGATTTCGCCGAGACTACTTATACCGGGGCAACTACGAATATACACCTATACTCTTCTTCGCTGGTCAATTATACACATCCTGTCAAGTTTTCTAGAATCCTGACGTTGCGAAATAGAAGCCAACCTGCACTCCACATGTCCTCATTTTTGAGTTTATCAGTTCGGCTACCTAAACAAAACCGGCGCCGGAATTTGTGAACTACAACAAACGACAATCGAGTAGAATTTATCCGAAAGGAGCCGGAGTTGATTCCACCAATTTTCTGCCGCAAATTTCTGGAACGCCGGATGTCATCAAAATGGGACATCGTCGCTCTAACTTCAAACTCCCGATGTCTACATGCAATTGAACATGGGAGGAAAATCGAGTACTATAGTGGCACGGGGTATCCTTGCTAAAACCAGACCAGATATTCCTCCGAAGATCCGACAGAACATTCGACCCATTTTCCGAGAGCCCGGTGGACGGAGGAAGTGATTGCAGCACATTGTGGTGGTTCGTCAACCATGGGTCAATTCCTATCGGATCGAAAATCGGGACAACGTTGAGGTGGAAAATGTACGGACTACCCTACTAGCACTATTCGTCACTTAGAGGCACAAGACGAAGGTAAATACCCGGGAACGGACTGAATCCCGGGATACAACGAGGATCCGTTTCGTTTGGGTTTCCGAAAAGTTGTGCTCCCCGAGCTCGCATGTGCTTCCGGTTCGCCGTTTACGATGAGAACGGCAAGCAGCGTTGGGTCAGCGGATTCTTCGCTGGACGGGTTCAGGCAGGGGATATCGGCATATTTCGCTGAGGTCTGACACGAAAATCAGAGCTTCATATTCTGTCGTCACCTGTGCTTCTGTGCAAATTGTGATCAAGACTTCAACGTGCCGGATGAGCTCAGTGGGCCTCGTCGACGGCTTCCATGGGACCCACGAGCATTTCCCTTCCGGAGCAGAAAAAAAGGCAGGAAGCCAGCCTTTAGGTGTTGGACGATAGTGATATTCCTGATGTGCCCAACACCAGGAATATGGCTCCTCCGACACGTGAACAACAACCTCCACCAAGGCAGAACGGATCGTCAGCTGATTTGCTGGCAACCAACGGCCAAACTGGGGTCGGCTTTAGGTGATCAGACCAGCTCGATGGCTTTAAGTACTATTCGGTCACCCAAACGAACAACGTATAGCCGGTGGCTGTGATAAATTTGAGGTTGACCCCAATCGAAGTTGACGATTTACGACGAGACAAAGCTTTGCAAAATAATTGCTCAAGAGATTCAAAAGAGTTGATGAGAATCAGGAAGAAACATCAGAAGCAGAGGGATAGCATTCAAAAACAGCAGCGTGCCAACGTCGACAAGCTTACTTCACAAAATAACCGACGTTCCACGAAAGAAAAGGCTTAAGGAGATCCCTGACGGCTTCAGTATATCATCTGGATGTGGAAGTGCATCTGGAACTGTGACTGTTCAGTGTTTTGCATTTGGTCCTTTGGCGTCGAGTTGCAGTGGGTACTTCCACTGGGGTCCTCGACACCGGTGGCATGTAACTCTGATGGTACCGGGTCTCCAGCGACTATTGGAAGTCCAGTGCCACAAGATTTGTTTCAATAATGATGGGGTCCGATCTCGTGAACACTCAAAACAAGGAGAATGGTCCGCTACTGGTCCGTAGTTTCGACAAGGTGGAGTTTGAGCTGAAAAAGTACGTTGCGGTCAAAGAGCAATTCGATCTGCTAAGAAAACTCTATGAGTGAAGCTTCAAAAGAACCAAATGTTACTTTGGCTCTGAAAGCTCCTCAGTTAGAAGCCGAAGGGAAAGATTTAAAGCAGACGCAGACGAATAGCTGGAAGAAGATGTGAAAGTTATTCAATTGGACAAAGGTATTAAGACCATAGGCAGAACGTGAATTGATTCGTCGTGTCAAGGGAACTAACGAGAAGAACCTGAAAATTTGTGGAGGAGAGGAAGAGATTAGCCATGAAAGCCCAAAAAAGCACGAAGAGCAACTCTTCAAAACGACATCTCGATCTCGGTCACTCGAGCAACTAGACAAGGATTTTCCATAAGAGGCCTTGGATGCGGAGGTTCGGCAACTACAAAGAAGAGAGCAACTGGCTGCTCAACCGACTTCTGTCGTTTGATCTAAGATTCATGCCAACAACTTTTAAACATACTCCCAGTAAACACTTACACGAATGTGTCAGTAGGCGAGCACTTGCATTATTCGATTTTTTACTTTTAGATTATAATGATATTTTCCAGGGAAAATCGATAAATCAATAGCATTTTTTTTTTAAAGAGTATTCAACTTCAATTATTAATAGAAAACCCCCATGAACAAACAAACAGACAAACAAATGCTTAACTTCAGATCACCCCACTACCCCGATCCGTTCCATCCAAATGTTTCATTTCACCTCACAAATTTGGGTATTATTTTTTTTCAGAAATCAGATTAGTGGTATTTTTTATATATTTTCATCTGCTTCCCCATCCGCGTCTGAAAAATTTCACGAAGTTCCGCAAATTCTCTATTGCCACTATCACCTTTCGTGTCCTTTCCCCTGCGATTCTGGTATTTTGAAAGTTTCCTAATTTTGATTTGAAATGAAAAGTTTCTAATGAAAATTATTTGAAAAACAAAT', '#$$%)**/-/,,++-*2))(1*#(\\'%\\'$%%(*(*(*()))+4.+++-2..,,***+%(\\'\\'\\'\\'&(\\'&*)/&&(/+%\\'*(*.--,8...014//-..*(&$&\\'&&\\'\\'$(&&(-\\'&)+0181,*-,\\'&(*\\'&)((145105*)%$((&%%&%$*3-(3../(0*&-.4020+1)*/(+0((&\\')+.-6.+5*,,(),,/1+,41(,44.(*\\'+\\'/63)*.\\'*.**-<7())0((\\'%%&+-21260;3-/9--)--\\')&\\').//)+-1+,+())*+,34521./3;212(,(,%&(+,.,2--/0-0(-)))+08//21*2,*)613132035961\\'(,(+1;6.+/011056,\\'&()*4:+*\\'\\'(,22,5*82&\\'(\\'&,.\\'1&&%&&&(\\'\\'\\'&.2+,1-0*(*/5.62)(\\'\\'/,3,4747776:5.((*%(./,-10.+\\'&**\\'((,,-(()54)+01,,,--96+*(\\'\\'&%&(($%&(---**%%&&))*+3+.+00++(2\\'(1132./-))/++-*0*#++170003-.-))++*-&\\')*()*)).+,+\\'\\'*3(\"$%&),*(*+,92*+,.*,%%&\\'*,-+).,-#%/</*,,.5,9*)*4,*+//1+))(\\')\\'*((5(#$&&-*/403-14..,)+2*+-0)&%&(\\'3/)%\\'%)\\'2/.0.//013:4453.,16890.192-.,,/22762)*+4+1)082(+++/.*0+)).-4=9-;<1*)39;:/+)+//((4<.\\'&#(*)+-3*&\\'%%\\'(%,.%,0#$&/*+&*+(())..+/)*+*+)(-*,6594*)&(*--+)*&*,)).-297//3\\'-#\\')\\')%(&%%**&\\'%$.-,)1)((%0,+-(-)++-++0.%)(\\'&)++,--24612120900,-*-1*/*),,+.-*&%(40)*2,,6/)(**-**.))+,(4\\'0.-\\'02-267/:.)&0(\\')+,-..()%(&%&*%(*0.-.,,(+)26-+\\'+,-*2\\'(&%\\',+*++++22/0.*,-$\\')-*,4>:..0/-0==2..-,,,/:<3.4//(,-1-,.-1-4311+((&\\'+\\'15/898433<1,\\'$&\\'(+1*-1,.,.-,,,/1140.,)**4*40027(-.+/93/10/8/*+,4+(466--03620,4))%&&&*+,+5.5,-)-*/-***(((\\'\\'%%\\')&/.,\\'))()-)-0)++)(\\'&\\'&)%)\\'*+(1)(+/../,+))*/3,0.-3:2--.-()\\'%$%\\'\\'*(*)($(,++*,+*,5-.2),*,2,,--/1.-)\\'%$$)&%#$+-))+/*+)*0.,)(\\'-/,415<1./0:8-+)+5-.)8:=<1-491&1&&+1+++&(,(\\'\\'$%$%#%().*35.*,+,,++--.(\\'\\'#,/++%\\'&&&2(&%$\\'++0*+223312),$(+7/2///111./(,$&*\\'#\\'\\'-(,(1:4.3\\'(..,.,(*)\\'))*/)4)*()*\\'.\\'&.::./4-/4.791:;=3**73,//244+7:2,1,6+7(9-*)-/./31-3))(.<1+.*)***(/.0.-)-\\'*+$)2832/-571+-/)**+14/**().*::0,/-,(&)\\'37-%&,(*.*/2=532+/\\'\\'(+-./++1*)).+..\\'&\\'$\\'))()((.,))9;<2*-4(*,,.13<<1*2--++.121/,1&)\\'(+\\'*620/-\\'+(+)&\\'*/4*(&,)*2.)*000-,*)*,%\\'(.)*+,,*+//+-,*))*/54./2-.378.32+)&&+&\\'\\'-.+*+()%&-++*+6,-.3<:2...-,*/034%\\'&\\',)*/-)*)*,\\'+***+++,2+3&%\\')/2*3,(*.//524;<7+-8/.+,24,.3*/-+*:4)1//&((18:;;:4)+).\\'&$&&)))).//1,7-)%$%\\'&\\'+&*0)*,0&\\'&(1**52$%.11*)\\'%\\')\\'\\'+*))-*/=90+*(&,-,-4,**(*(\\'),##)&%)$)($\\'\\'\\'\\'(-0400312.,,/1..-)*-(\\'**53,73/+%*)-3++--,,-,*++((&&\\')%&()0+0330/5..6)&&&-\\'))+,*)6(&()0440)**+,)*+,\\'4*\\'%$&**+/,&,7/+,;5.//-+)&)*11,3*5-+*(&+&\\'&&*)\\'/91--*&+5+13*\\'&&&)4013-+.,&*.,*.*+,&&\\'&\\'/233))$%#()*+./+*&+*14/,,61*..\\'(*580(()/11****\\'\\'(\\'(481*-:7\\'%\\'$%,./,.\\'$%(**)/\\'\\'.4(\\'66\\')**11()(\\'()*-504/-(\\'&%&\\'\\'*&\\'*)25-(&((&&\\'\\'+)*&--*-\\'#\\',43****&)%)\\'\\')+48.42100*++(+(**,&&$+\\'$%)\\'\\'&+**++,.5-+)\\',)+27:1*(2/,\\'1-.1,,.<95601.*,,3)\\'($&\\'\\'*,7221122**(**&(,/.-*,+())(\\'&&&\"$%11\\'\\'5+*%)*\\'\\'$()-0\\',&(06--+1,/)\\')&%%\\'+*(+-)./+423,0-***3+**(\\'/+\\')\\',))))(*+,/+,($$%%+%\\'%\\'.,.-3)-.0+3,-+-0.-,-/5102,2-.1-+*+)6))/,&$-/\\'\\'%\\'+,///+1*&+3.)4-&(+)0(-,$&*\\')*073),*-),,,.).;4(()&&&((&%(**(,-06;*0-\\'&.53*\\'\\'%%*+140022-+3)(4(()++),,/,,))$+*2/+/-$+++*--04/**20\\'))+,-&$%-1.)(%&(+-/\\'&&\\'+-\\')*-)&)-\\')566*(\\'&)/-,+),+))\\'*,\\'\\'(\\'\\'-$((*$$&%&,/)+(*\\')*$+**1/2//,,+/.-.+./-,,**&\\')&(\\'*3486/.+++(*&$((,2(0/,))*+,3-./%\\'\\'%&##$&**).+&(%&$%%(*%+*)%(%)&-,,*+)/58978.+.\\'%-.(0).1)++)*-.$&.(*.1-++,0))%**0)*++3013400+**):3)/*)+-*.244.//10/\\'&\\'%(+(++))(()-2./-+/-/,&)*&.,0*,*()-/6124,+()+,-...104(650+(0\\'&\\'#&&&)*625/<3(&%*2/)),:\\'&/,%+1\\'*.1.,,%\\'(&&.///)()1\\'-7/(,,.-./.20.510../.)\\'0,4404+)&($\"#$%\\'*.(+-1.,)))*+/7:)-+\\'$&(&()15+6:6,73,)-*(.7041..-/.((()2-***)+<3*\\'))*\\'-36/*)0,72((&(%,&(\\'&(*-,5:0\\'()+2-((\\'()+((\\'%),%\\')+;4(\\'()%*)+\\'\\'((()+/*+,,*(/0(1966\\'#%$$&&(\\'&&%&\\'+\\'(\\'*++*-.\\'(+(&&\\'($&\\'+142*,/)3))33./(\\'%&&*54&,3:1(3(+&,,,.**++0;..620-0&\\'((\\'.)(%(\\'()/.2/3,***/(.)**,**&\\')(*5-,**)*)*,0++-1*+*(30,/)&\\'&&)-*/)0(-//,,%),.04/.,+)++,4%%%/%*\\'#%&%)1/&+(+*,,.&\\'((+/./(**)(+)%%%+)-,*+)&)**:2\\'%\\'&\\'1.--,+,+/,+-(.()+51././.**-/0.71,,(4*(.2.24131.36311380-(%)&%.-5/-,()\\'(1;0,*\\'3+./46.00,25.(+\\'%)\\',&&+%&&&%-,)).+&+,-\\'\\'*&(+31(\\')))2+267++)\\'\\'&\\'*((+/**,/\\'&()*,2422531,0-..12)(5:1&\\'$**-,*,++-0+((-&\\'3:2*.8.4/8/+()\\'%$(%*(.&&&--*3,%&&(,((.89/.0+0+-.,0-\\'+*)/*)(,)(+3,($$(%#%*-14,+((#)\\'(\\'+,3-*.-)*++%(,22(*4)32,/05/.7*)+<2+-()..841,,1&$&&*\\'(/03*)(\\'\\'&$&()\\')())((*(\\')&*)5.01%&\\'(&5+--.(+2+.*&+1-+\\'**%(+/\\'\\'-\\'(%**%&))()-0013/*)\\'*)3\\'(+*,175.+(()**+0////51++\\'((()=<6(/--+((*((/\\'&&)(0%%#$()(()(*13343+**),/)*30\\'*-*+/0(),/,*)040.-\\'%)+$*,%)((,,,*(\\'&&)/3)*0\\')(()(.\\'#$$%&*+1..20-0**\\'*\\'%()+.16:424+&)%+()*3-,----**%\\'.(&,61&7+)+\\'&$\\'*./..-7:,*&%&&&\\'))\\'**$()-./..*%%)%\\')))+.613423,-*(&(**-/..*\\'\\'(+-0&/-,*(\\')%$)*-+)3-(.)&,/)-99-0.0..-:3-*71*)*+*)234852/-(.,-)&%*)1))0)($()+-/*+//841)();:-(60.(\\'%\\'*1(8;4-26+)*)--4:/--7/+,/;3((#\\')\\'))2.&%(074\\'()((860(,,-0,3.-/))/--9/-.00,%%&((%\"%\\'%%$()5,(++$\\'6+**/*,2133/0-$%,3;/0*+,.05..03+,+-51,-)$&)))+*-,%&*&//#\\'(*05/)**+++(*),*,866-/1*&())+4+-.41.-)3($\\'$%$%\\'(&*03&(-/*%%)+)+,()-*(1)*/+(-83*,--,-+%-...,+771&07/*4.*)-$--(-*,$*+;505;/.2+98.(*/+%+//+(674,)&&&-,*(+.61(/2+&', 'NM:i:204', 'ms:i:1347', 'AS:i:1239', 'nn:i:0', 'tp:A:P', 'cm:i:44', 's1:i:357', 's2:i:0', 'de:f:0.0981', 'SA:Z:V,43026,+,3839S650M12D13S,60,91;V,25958,+,1357S363M58D2782S,60,102;V,22497,+,262S357M18I3865S,60,51;V,40458,+,3201S268M7I1026S,60,25;V,20819,+,9S253M20D4240S,60,37;V,42038,+,3592S247M33D663S,32,79;V,38132,+,3058S138M1I1305S,45,12;V,35016,+,1828S137M5I2532S,32,18;V,30200,+,1720S95M4I2683S,60,4;', 'rl:i:0']\n",
      "['ERR3245468.2349', '0', 'II', '23336', '60', '20S25M2I28M2D8M2I5M1I5M2D14M3I29M1D2M2D13M1I11M1D4M1D3M1D3M1D2M1D4M1I3M52D4M1I1M2D4M1I66M5D2M1D3M1D14M1I6M2D12M1I3M1I30M1D13M1I1M2I7M3D24M1I19M1I26M1D17M1I14M1I1M1I23M2D5M3D15M1I13M1I36M2D21M1I15M3I69M2D10M3D2M2I23M2D23M4D24M1D5M2D6M2D5M4D56M53D4M2D46M1I16M2D13M4D9M1D6M1D41M8S', '*', '0', '0', 'CACAAGTTTGGGTGGCGGGTACAACCCTAAAATGATGGAGACTACAAGTAGCACAAAGAGCTCCGATGTGTGGCGCTTCGCCATCTTGTTGGTATCCTGTAGCTGTTATTGCAGCAGCTATTGTAATTCTTCCAATGCTCTATCATGTTGCTGGTTTCCCGGAGCCATCTATCTTGGGCGATTCTAGTAAGACATGTCTCCGTGACATGTGGGCCCAAATCCATGGCTTAGATGGACCACACCTATTCCATCAGAAGAAGCGTCAATTACCGCCCCACCAGCCGCATGGTGGATGGAGCTCCAGTTTACCGAACCTCGAGCCAGCTCCAACTTGCTGCTTTGCCAACAAGGAGCATCAGCCGGACCAGGACCACCTGGAGATGACGGAAAATGGCAGGCAAGATGGTAGTTCGTGGAAACGATGGAACTGACGGAAGGAAGGAAGCCTTTTGGGAAAGTGCTATTGATAAAATGAACCATGCATTATCTGCCCCAGGACCAGGACCACAAGGAAATGGCAGGAGCTCTGGGGGCCACAAGGACCAAAGGGAGGAAATGGAGATTGGACCAGATGGAAAGGCTGGAAGCCATCGGAATGCAAGGAGGACCACCAGGAATGATGGGCCCACCAGGAAGACAAGGAGTAAGTGGACCAAAGGGAGCTCCAGGACGTCAATCAAATTGTTGACCAGCTGGACCAGCTGGACATGGGAGTCCGTGGACCACCAGGACCGGAGAAGCTGGACTTGATGGTGGAACTCAAGGACCAAGGCAAGGAGATGCTGGAAGACCAGGACCAGTTGGAGAGCAAGGACCACAAGGACCAGAGGACCAAGGACCACCAGGAGAACCAGGAGGCTGTGAGCATTGCCCAATTCTCAAGAACACCACCAGGATTGAACCTGTACTCTCATTAATTCGAATCATCCGCCCAAATAATTGGGTGTTTACAATACAATGAATTCATTTAAA', ')%%\\'.(+74\\'((%+%\"+(+\\'((/+(2/)/:1-4584;41/*($%(*,(&&)+)((8/()**-1.+*\\'(\\'(\\'+-))%&\\'&&-,.&$-11.1+/,,))&\\'(*,++++)))+1-1*,+,-/+++.*/968+&(*,/,333.+*%\\'\\'%\\')+/3376<,50./=000,--,+(%\\'\\'\\'&\\',11,,*(\\'(#)\"\\'()-*+)(((\\'$\\'-.---+*&$%&/9/1<-10,(**(\\'(&&%\\'%*)()(&0+++(.-\\'&&\\'(&$(%&\\'\\'.)&%**.,042&\\'$%%#$/4+\\'*-(+))*%\"#-5-/,,*)/---//4.-/1((++&3/*\\'$*((()3.3//53,2(***(-&%(++4538)\\'%\\'&+%$&%%**-6.+4)+/**.((+\\'0+*3.***+,,*.1)381*5/)(4,*2.-**,+)\\'()%&\\')//.93.57.9300,,,--+,)+&+&))+\\'1)*2)000\\'.,)2.,-,,*().)%\\')450,,/-0+++*&\\'%(\\'-*/0)59.)9-,03+,0*)(((,,-+-3-(+/.*4**)+&\\'&\\'+5,,$&#)\\'(,+\\'*3*91)4,%&*&14*(4((\\'\\')\\'+)*(.(++6+88.040151/0*,0\\'$%&+//++))%()%)+&&/\\'+-)-0/3-,+(/3./81)+-\\'*-/0//.((.*\\'*(*,23+6)*3,5**3**.//7+++-(((/,-.-(,6+1*(&(++/0*,*+00/.(*()110,\\'$%(.,(*)2(\\'&*2&(.(*1(((%\\')(,*\\'\\'+\\'**++()*0111<1,\\'*)/%&$%(*.&-(()-*%&)&-%%%+,,,/--,+,4)(1(+.2/1920.+++*+....*.&))**-(&)(*\\'%*.\\'(+,\\'\\'(%%/()*)+0*,520((-*%(.&\\'-.+,+)*1/-7<9603,\\'$*)0*00-*+(%*(\\',0)*+),39000/*.)%(&%\\'))&,*))/,+$#%%&&.51/:.,00.*&),&\\'*.(&&/,*\\'\\'\\')&\\')+//&\\'+.+%2.', 'NM:i:226', 'ms:i:1266', 'AS:i:1105', 'nn:i:0', 'tp:A:P', 'cm:i:49', 's1:i:414', 's2:i:0', 'de:f:0.0855', 'rl:i:0']\n",
      "['ERR3245468.2351', '0', 'I', '111753', '60', '56S23M2D4M3I41M8D10M1D1M1D3M2I8M1D34M4D2M1D6M1D36M1D8M3D19M47D21M1D18M2I3M1I27M1I1M2D29M1D11M1D34M3I19M2D21M2D34M4D24M3S', '*', '0', '0', 'ATATGCCTCGTCGTCAGAATTCGTGGGTATCAACCAGCTTCATCTGGCACGAGAAAAGGCTCTCCAGATCCTCCGTCTTACAGATCATCAACAACGGAGTGTTCGTCAAGCTGAACAAGGCTACTCTTCCGTATCATGGCCATATATGTAGTTGGGGTTATCCAAACAACAAGACCATCCACGATACACAAGCATGATACGCCAAGGTTGACGGAAACCGTGTCCCAATTCCGACAACGTTGCCGAGCAGAGCCTCGGAAAGTTCAACATCATCTGTTTGAGGATCTGGCCCACGCAAGATTCGCCACCGTCGGACAACATTTCAAGGTACCACCAACTTTCTGCGGCCCTTCAAGCTCATAACCCAACTGAGGATGGACCAAGAAGACCAACCACTTCGTTGAAGGAGGAGGAGACTTCGGAAACAGAAGATCAAATCAACATCCTACCGAAAAATGGTCTAACTTGTTTGTTGTTCATACCTTCCGGATAAATCGTTATTGTTAAA', \"#$&$(*%#(($%$%'++210.*'%')),-+,//...***)%$&)&),('+$-),./)'*''')-1+3;(*+&+64(&'&$$&)*+#%')+2.///2..---,,+-1/72,+**+0)*.,+(('''&&'&($*)'$&'*-(&'%'&&#'&%''*)92(%+)*,.781))1(+/+-1()$(-')()*$%#%&*%**((())*,*4/2--01,*()+/;/1-,*++*.082-%(0)*),''%&&%$'&$&$&&-,-1%%(4)50-.1'),++('''#**--.('*2(*(--5-5+''$%&'()')(033++)+(('*$$&&$(%+($*),+%$&(&)**.()'&$)%%*))23(.'*-**1+)%),):3).((('),'**0*-22.-3,,,00+&#$#$&&$)-../(2-(-*(*+-.,+)+-/.571('%&'&**)06,+&')%&%&(%#&'%/<:4,.+3*()6.194,-6/.6116-('(#&*&&*-*554-9.,*,/0(*.'+,-4,\", 'NM:i:113', 'ms:i:590', 'AS:i:507', 'nn:i:0', 'tp:A:P', 'cm:i:25', 's1:i:226', 's2:i:0', 'de:f:0.0911', 'rl:i:0']\n"
     ]
    }
   ],
   "source": [
    "with open('test_align8.sam', 'r') as fp:\n",
    "    for line in fp.readlines():\n",
    "        line = line.rstrip()\n",
    "        line = line.split('\\t')\n",
    "        if line[1] == '0': \n",
    "            print(line)"
   ]
  },
  {
   "cell_type": "markdown",
   "metadata": {},
   "source": [
    "Lots of 0's, so many aligned reads"
   ]
  },
  {
   "cell_type": "markdown",
   "metadata": {},
   "source": [
    "Use look_sam.py. still didin't find any 2s. but why did 272 as a bit flag show up? that's not in the SAM documentation. See this thread:\n",
    "https://github.com/lh3/minimap2/issues/893\n",
    "But 272 does not show up in the SAM docs. So how do they know?"
   ]
  },
  {
   "cell_type": "code",
   "execution_count": null,
   "metadata": {},
   "outputs": [],
   "source": []
  },
  {
   "cell_type": "markdown",
   "metadata": {},
   "source": [
    "Let's use the same parameters used by Roach et. al., 2020 for minimap2\n",
    "-ax splice -k14 -uf --secondary=no -G 25000 -t 24\n",
    "Then got SAM files, converted to BAM with SAMtools view -b -F 2048\n",
    "-uf -k14 are for Nanopore Direct RNA-seq reads\n",
    "-ax splice long reads\n",
    "--secondary option for outputing secondary alignments\n",
    "this means a read aligns well to more than one place, so we don't want those reads\n",
    "-G is the maximum gap on reference, changes chaining and alignment bandwidth\n",
    "-t is the number of threads\n"
   ]
  },
  {
   "cell_type": "code",
   "execution_count": 8,
   "metadata": {},
   "outputs": [
    {
     "name": "stdout",
     "output_type": "stream",
     "text": [
      "[M::mm_idx_gen::0.025*1.03] collected minimizers\n",
      "[M::mm_idx_gen::0.033*1.43] sorted minimizers\n",
      "[M::main::0.033*1.43] loaded/built the index for 7 target sequence(s)\n",
      "[M::mm_mapopt_update::0.036*1.39] mid_occ = 31\n",
      "[M::mm_idx_stat] kmer size: 14; skip: 5; is_hpc: 0; #seq: 7\n",
      "[M::mm_idx_stat::0.038*1.37] distinct minimizers: 291384 (89.75% are singletons); average occurrences: 1.172; average spacing: 2.938; total length: 1002861\n",
      "[M::worker_pipeline::0.125*2.11] mapped 5903 sequences\n",
      "[M::main] Version: 2.28-r1209\n",
      "[M::main] CMD: minimap2 -ax splice -k14 -uf data/1pct_elegans.fa data/1pct.ERR3245465.fastq\n",
      "[M::main] Real time: 0.134 sec; CPU: 0.273 sec; Peak RSS: 0.050 GB\n"
     ]
    }
   ],
   "source": [
    "# this is what the minimap2 documentation recommends \n",
    "# for mapping nanopore direct-RNA reads\n",
    "# let's star with this, change parameters later\n",
    "# and see how that changes alignments\n",
    "! minimap2 -ax splice -k14 -uf data/1pct_elegans.fa data/1pct.ERR3245465.fastq > 5aln.sam"
   ]
  },
  {
   "cell_type": "code",
   "execution_count": null,
   "metadata": {},
   "outputs": [
    {
     "name": "stdout",
     "output_type": "stream",
     "text": [
      "[M::mm_idx_gen::1.589*1.34] collected minimizers\n",
      "[M::mm_idx_gen::1.750*2.43] sorted minimizers\n",
      "[M::main::1.750*2.43] loaded/built the index for 7 target sequence(s)\n",
      "[M::mm_mapopt_update::1.928*2.30] mid_occ = 162\n",
      "[M::mm_idx_stat] kmer size: 14; skip: 5; is_hpc: 0; #seq: 7\n",
      "[M::mm_idx_stat::2.053*2.22] distinct minimizers: 16602221 (67.22% are singletons); average occurrences: 2.054; average spacing: 2.941; total length: 100286401\n",
      "[M::worker_pipeline::10.620*8.90] mapped 238012 sequences\n",
      "[M::main] Version: 2.28-r1209\n",
      "[M::main] CMD: minimap2 -ax splice -k14 -uf --secondary=no -G 25000 -t 14 c_elegans.PRJNA13758.WS282.genomic.fa.gz data/ERR3245468.fastq.gz\n",
      "[M::main] Real time: 10.661 sec; CPU: 94.596 sec; Peak RSS: 2.548 GB\n"
     ]
    }
   ],
   "source": [
    "# this is what was used in Roach et. al.\n",
    "! minimap2 -ax splice -k14 -uf --secondary=no -G 25000 -t 14 c_elegans.PRJNA13758.WS282.genomic.fa.gz data/ERR3245468.fastq.gz > test_align8.All.sam"
   ]
  },
  {
   "cell_type": "markdown",
   "metadata": {},
   "source": [
    "still no 2s even with exact parameters. lets move on and learn what are in the generated sam files. how do i organise this data? what do i want to use to compare to the APC dataset?\n",
    "Some ideas from different papers\n",
    "How many reads cover the annotated coding sequence? (Roach et. al., 2020)\n",
    "\n",
    "what are CIGAR strings?\n",
    "https://jef.works/blog/2017/03/28/CIGAR-strings-for-dummies/\n",
    "M = match\n",
    "N = alignment gap\n",
    "D = deletion\n",
    "I = insertion\n",
    "6M = next 6 positions are a match\n",
    "Alignments use the 0 starting index\n",
    "splicing events will show gaps\n",
    "\n",
    "next, what does the phred scale mean?\n",
    "https://en.wikipedia.org/wiki/Phred_quality_score\n",
    "probablility of incorrect base call\n",
    "what is acceptable for long reads?\n",
    "make a distribution of read quality, and decide a cut off from there\n",
    "\n",
    "Learning what the SAM flags mean. 0 means the read mapped normally?\n",
    "https://www.biostars.org/p/7374/\n",
    "https://broadinstitute.github.io/picard/explain-flags.html\n",
    "\n",
    "So 2064 is a combination of 0x10 (16) and 0x800 (2048)? 2048 + 16 = 2064\n",
    "This is what is meant by combination of bitwise flags?\n",
    "So if everything is 0, it adds up to 0.\n",
    "\n",
    "use samtools flags for an explanation of what each flag means, like for 2308 which is not in the standard table\n",
    "\n",
    "what samtools commands sound useful?\n",
    "http://www.htslib.org/doc/samtools.html\n",
    "\n",
    "designed to work in a stream with pipes\n",
    "need to convert to .bam to use view to find things\n",
    "\n",
    "https://davetang.org/wiki/tiki-index.php?page=SAMTools"
   ]
  },
  {
   "cell_type": "code",
   "execution_count": 6,
   "metadata": {},
   "outputs": [],
   "source": [
    "# need to sort bam files before creating index\n",
    "! samtools view -bS test_align5.10.sam > test_align5.10.bam\n",
    "! samtools sort -o sorted_test_align5.10.bam test_align5.10.bam\n",
    "! samtools index sorted_test_align5.10.bam sorted_test_align5.10.bai"
   ]
  },
  {
   "cell_type": "code",
   "execution_count": 9,
   "metadata": {},
   "outputs": [],
   "source": [
    "# run this\n",
    "! samtools view -bS 5aln.sam > 5aln.bam\n",
    "! samtools sort -o sorted_5aln.bam 5aln.bam\n",
    "! samtools index sorted_5aln.bam sorted_5aln.bai"
   ]
  },
  {
   "cell_type": "code",
   "execution_count": 11,
   "metadata": {},
   "outputs": [
    {
     "name": "stdout",
     "output_type": "stream",
     "text": [
      "ERR3245465.4322\t0\tIV\t126725\t60\t8S17M1I4M1D2M1I6M1D8M1D6M2I6M1I5M4D23M1I8M1D12M1D30M1I4M1I7M3D6M510N10M1I11M1I6M1I35M1D9M1I5M1I8M2D9M1I7M1I37M1I3M3I11M1D3M1D1M1D14M1D3M2D1M1D3M1D17M2I2M1D25M1I15M5S\t*\t0\t0\tCACGCGAGTTTGAGGATGGTTGCCGCCTTCGCTCACCCGAACATGCTCATTAAATTATGGCATGTCGTTTGGCATCGAATTGATCGCCTCTCGACAGCGTTCTGCCGCCTTTACTTCGGATACGTCCAGCCAAGACACGAGAAAATCACGAACGCTTCGCCAACTACGATCCCATACACCAGAAATGAAGGGAGATTTGTGCCGCGAACAAGGGATACATGCACAATGCCCACAGGGAGCTTCGCCAAGCTACGAGGAGGAAGGGCAAAGACTGTTGCCGATTTGTGGACGCCCACGCCTTGAATTCTTTGTGTGTGTGTTCTGTCATTTTGTTAGTCAATTCAACTTTTGGACTGTTATGATAACTTTAAAATAGCTTGGTTTGTTCCGAATAAAAAATGTTTGTAATTCGAA\t#$'#((')*4-,(**%&&/&.(.0.,(%&##$$$$(+.&&'#%'&$$%#%'&)&&'&().((),+&)&+++0+('&%%%/-.-+((),'&&('$(%,('%'$('512*&&(%$#%$(+,-,'&'&'-.'+1&*)(&%+'(.39:--(((()1((%&)&&-0,.)+)-+8.,70)'%%#(+&()5++*/*+-,'(()',''))2)*))1+,*+80+,,,*,-3$&&&&,850)(%')+%(&%)')+-,*(&$'('+(/(**.)-3/')6/,.,./21./3235-/++%,))*.:,'*&-.*$&-).&$)(,''*))(*+*,(#*$&\"%#%(*&-6./0/6.*-#$&%(+/.%&%\"&'*0))'$'&&#***'.-.())+520.63/**(&-(.1-.9<<8.0/0/(&*/3+')$(+\tNM:i:72\tms:i:190\tAS:i:153\tnn:i:0\tts:A:+\ttp:A:P\tcm:i:11\ts1:i:83\ts2:i:0\tde:f:0.1473\trl:i:0\n",
      "ERR3245465.4866\t0\tIV\t126731\t60\t7S13M4I12M3D20M1D13M2D11M1I3M1I8M1D11M2D2M1D20M5I9M1I18M510N46M1I1M1I6M1D5M3D8M1D16M1D6M2D5M3I1M1I7M1I3M2D15M1I4M1I8M4I2M1I5M1D9M2D18M1D2M1D27M1D22M1D17M4S\t*\t0\t0\tGTTGGTTGATGGTTGCCGCTTTCCTCTGCCACCCGTATGCTCCATCAAATTGGCCGCGCGCCATCGGCATCGTTGATCGCGCCCACGTCGGCGCACCGCTGCCTTTTTCGGATACGTTCAGCCAAGACACTACACGAGAAGCTACGAACGCTTCTTCGCCAACTACGATCCATACACCAGAATGAAGGAGATCTGTGCCGCGAACGACAAGGATCATGCTATGCTCAAGGAGCTCGCCAAGCTTACGAGGAAGGTTAGATAATACTCAATCGATTTGTAGACGCCTCACGTCCTTGAATTGCGCTGCGTGTTTTTTTTGTTATTTTGTTAGTCAATTTTTTTATTTTCGAAATGTTGCGATATTCTTAATAGCTTGGTTTGTTCCGAATAAAATGTTCGTAATCCGAAAA\t#$%'%'&(%&./+02;99')'''*)'(''+)/5+'&'%$$%+-(((*4-((*.0.,())+,0+*(++)'*)+05--,%%$'(+*$'%().//.'#&'$('/1,+,+-*%'0/,((')*+.28-24))(&%%''+***))*')*+*),4('&')#*2*,70.*&)+-,-,//,*-++-1-.350..,++(),/*)((,32,,+,/)'$',+22&&#&(,)((('&%'&&,,''('&$%))/+***&%&('*$$&+&(()))'0))$&'##$%(+**%#$')*-.44)$%'&(+&(+,*.(+&&)'**&*(,+-0230-%&&&&&)+/383',,/00*1342/,&..**'((.1'(10,++))()+#)(*+))+,1/3.3562+.'+').),36*)*%+'**+2-02*)/3/\tNM:i:71\tms:i:213\tAS:i:170\tnn:i:0\tts:A:+\ttp:A:P\tcm:i:32\ts1:i:185\ts2:i:0\tde:f:0.1235\trl:i:0\n",
      "ERR3245465.3066\t0\tIV\t126740\t60\t17S31M1D8M2I52M2D8M3D36M510N5M1I1M2D18M2D20M1D12M1I7M1I9M1I8M2D9M4D40M2D33M2D13M4D38M1I14M2S\t*\t0\t0\tCACGAGTTTTGTATGGTCGCTTCTGCCACCCGTAACACGCTCCATCAAATGGCCGTCGCGCGCCATCAATACTTCGTTGATCGCCCACGTTCGCGCCACCGCCGCCGCCTTTCGGATATCAATCTAGACACGAGAGCTACGAACGCTTTTTTGCCAACTGAATCCATACACCAGAATGAGAGATTTGTGCCGCGAACAAGGATACATGCACTATATGCCTCACAGGAGCATCGCCAAGCTACGAGGAGGCAAGACTGTCGTCGATTTGTGGATGCCCACGCCTCGAATTGTGTGTGTTCTTGTACTATTTTGTTAGTCAATCTTATTCTCGGCTGTTGCGATATTCTTAAATAGCATAGCTTGCTCCGAATAAAAAATGTTCGTAAAA\t&$%#''*83)*%$$,,')-,)-'((71199,*(*)''%)',..*-+/7/,+6+2)*)*+--24-&'&*,'&$(*%)*,-..*022,&(%$'$&'*'4)*4.00&())2+(/.&'-*'%'%()*)+--.,,--.-,))*++,1200*,1552+-.3,*&$%%(%(('$&''.-,+00)((%''',,&('-3/-.)+.('%7/-.+('')($$(%&&'-0/)'&%(/-)*&$')+:6,/&&())))(+%()&(0./1.+)$&#%(&*.-*+*/&%%#+($''-*'+)4'*)*+('')(%+'/717,--++4-025.,,,,-,*$-.&3*#&$%)&')'.+++++*+1%+5)7,)()%#'#*)05,&340..1+,8;95++)00,/0.46)\tNM:i:63\tms:i:210\tAS:i:171\tnn:i:0\tts:A:+\ttp:A:P\tcm:i:15\ts1:i:91\ts2:i:0\tde:f:0.1266\trl:i:0\n",
      "ERR3245465.409\t0\tIV\t132414\t60\t14S22M1D60M1379N41M3D43M332N3M2D9M3D8M2D5M3D1M2D26M3I6M2I48M1D9M732N1M2D36M1D20M1I1M2D42M1I39M1I5M3I39M1D20M3I2M1D7M52N11M3I54M1D24M2D26M1I8M2D31M1D5M1D25M2D31M2I24M1D17M1D1M1D32M1I5M1D7M1I18M2D12M3I24M1I72M1D38M1D25M2D18M1D32M4D1M1D31M1I26M3I22M1D7M1D14M2I15M1I8M1I2M2I13M1D37M3D8M1I2M182N3M1I3M2I19M3D8M1I5M4I108M1D8M1D5M127N9M1I7M1D24M1D6M1D36M1D2M2I2M2D11M1D26M1D2M1D3M2D8M3D4M1D1M3D4M1D32M1D37M1I21M1I12M45N18M2D7M1I5M2D17M1I12M1D4M3D15M2I31M1I14M2D13M2D32M1D5M1I43M1D44M312N7M1D16M1D22M1D102M1D8M3D14M1D14M3D22M2I8M2D33M1I8M1D39M1D13M1D26M1I11M1I18M3I4M1D29M1D8M1D18M1D8M3D16M5D8M3D5M3I7M3D5M1D10M1D16M1S\t*\t0\t0\tCCCCAACAAGTTTGAGATCTCCTGATGAACTAAACTTGGGGAAATAAATTATGAGGATACGGCACGTGGTGTTCTGCCTGCTCGCACTGGTTTATGGCGCCGAATCTTCCGACGATGATCTCGACGAACGGACAAATTTCATCCGTGATAAACTGATTCCGGCGTTGAAGCTTGCAGAAGCGATGGGTGAATACACGATTACTTACTGCTCAAGGAAAGTTGGATGCAACGCGAGGAGGACTTTACCGGATGGGTGCCTGGAATTGGGTTCCTTAATGAGACGGATCGCAGTTATGTGAGAACGTGCTACACGGACGGAAGCTGCTACCAGAGCGCTTGCCGTCACCCGAAATCTCATCTTCGGATGCATGGACGAGAAATCTGTGACCGATGAGACCGAGTTTTCACGATACGGCAGCGAAAGTGTGCTCGAACAACACGAAAAGACATCCCGCACGCTACCGTCTGGATCTGCTGTGATAAGGGAAATTTTGTGCGAACGAGACGATTTACACCACTTGGCGCCAGGCCCATTGCAGCGGTCATCCACGTGGCTGATTCTTACTATCCTCGCCCTGCTCACGCTCATGTGCTCCTGGTTATTGCAATTTTCCACCAGAAAATCATGGGAGGCGAAATCTCGACTGGTATAAGATTCAAGCCAAAACCTGGAGATCCTTACGCAGACGGAGAACAATGTACAGTCGGTCAATGGGCGACGGTGTTGGAAGTTCTGTGCCAGAGAAGCTGCTCCAATCGAGCAGCAGGAAGCACAATGAGCACTTGCAGGGAACTTATCCCTTCCTGGAATCATGCACTAATATATGAAGGGATATGCTTGATGTACTAGGAGTTCGGTGGATGATCTGGTATGGGTCCAACTACACACTCACAAACTCACGATTGGTGGACAGATCAGGTTAACTGGTGGAGTTGGATCCGGAAGATTTGGTAACGCGTACGTGGAGACTACCGAGGTGAAGCGGTCGCTGTGAAGGTTTCAATGCGCTCGACGAGCCGGCGGCTCAAGGAGACGGAGATTTTGAGACGCGGATGTTGAGGCATCCGAATGTAAAGGATTGGAAGTGATCGGGTTGATACTGGATTTTGTAACGGAACTTTGGCTGGTGACTGTAGAGTATCATCCCAGCGGGTCCTGCACGATTTCTGTCCGAGAATCTACGATCAACATTGAGGATGTATTAATAAAATCTGATGAGGTGATGGCAAGTGGACTTGCGTTCCTGCACAATCAGATTGGGAGCAAGAGAGTCCCATCACAAGCCAGCGATGGCTCAGGATATCATAGAGCAAGAAAGAACATCATGGTCAAGAACGATCTGACGTGTGCCATCGGAGATCCTGGTCTCTCGTTATCCAAGCCAGAAGACGCGGCATCAGATATTATTGCCAATGAGAACTACGGTGCGGTTTGTTAGATACCTTAGCACCGGAATCCTGAACAGTACGACGCAGTTTCCGTCTCGAGAGCTACCAATGTGCCGATGTCTACTCATTTTTCGGTACATGTGGGAAACCTATGCAGATGTGAAGATGGAGATGTCGCCGAGAAGCGATAGGCCATTATTGAGTGGACCGATCGGGATCCACAAGACGTCGGATGTTTGACGTGGTCTGCACGTGGAGGCTCAGACCCTACAGAGAATCCTCTGTGGAAAGGATCATCCGGAAATGAAACACATTATGGATTATCAAAAACGCTTGAATGGCAATCCGAAGTGCCCGTTTCCCTCTATTTGCCGCAAACGAAAACGGATGAACGGCAGCAACTGTTGCTGGACTCAGAAGGCAAAAGCTGGCACAGACGGCGGGTGACAGTTCAGGATCGGAAGATTTTGGGTCCCAGAAAACCGAAAGACGAGTCACCGGCAAATGGTGCTCCGCGGATAGTCAGAAGGAGATTGATCGAGAAGATGAGCAGGAAAATTGGCGGGAAACTGCAAAACTCCCAATGGACCATCTCCAGTAATGACGACTCGCACGCCCACTTCTTGGTTAGAGCCCATTTTATCTTCGTTTTCGGGCGCCAATATATCAAAATTATTATAATTATTATGTTCTATATACTACACTTATCACCTACGTGACTTCCCACCCCCATATGATGATTTCATTTCTCCTCAACCACTAACTGTCTGCTTTACCTATTTTGTTTATTAGCGGGTGCATTATGCAGCTAATTCGTCCAGCGCCCATCAACTTAAAAGAGACTTCCCTTCGTGTACCTCAGAAAACTTAAAAATTTGTGATAGGTATGTACTGCATAAGCTTTTATTACCCTCCCCCCGAAACTTTGTAGTTTATTGTGTCTACCCTGTTTTTTTTTAGTACCATGATTCAAGTGTTTTGAAATTTTATTTTGTTTTATTGTTATTATTACTATTTTAAGGAGAAACATTCCATCAATGCAATTGAAATGAAAATAAAAATTTGATTTTAAA\t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tNM:i:280\tms:i:1731\tAS:i:1435\tnn:i:0\tts:A:+\ttp:A:P\tcm:i:286\ts1:i:1403\ts2:i:0\tde:f:0.0812\trl:i:0\n"
     ]
    }
   ],
   "source": [
    "# get all reads mapping to a specific region\n",
    "! samtools view sorted_5aln.bam IV\n",
    "\n",
    "# https://github.com/mlafave/sam2pairwise\n",
    "# makes CIGAR string into nucleotide string"
   ]
  },
  {
   "cell_type": "code",
   "execution_count": 13,
   "metadata": {},
   "outputs": [
    {
     "name": "stdout",
     "output_type": "stream",
     "text": [
      "59163 + 0 in total (QC-passed reads + QC-failed reads)\n",
      "59037 + 0 primary\n",
      "13 + 0 secondary\n",
      "113 + 0 supplementary\n",
      "0 + 0 duplicates\n",
      "0 + 0 primary duplicates\n",
      "932 + 0 mapped (1.58% : N/A)\n",
      "806 + 0 primary mapped (1.37% : N/A)\n",
      "0 + 0 paired in sequencing\n",
      "0 + 0 read1\n",
      "0 + 0 read2\n",
      "0 + 0 properly paired (N/A : N/A)\n",
      "0 + 0 with itself and mate mapped\n",
      "0 + 0 singletons (N/A : N/A)\n",
      "0 + 0 with mate mapped to a different chr\n",
      "0 + 0 with mate mapped to a different chr (mapQ>=5)\n"
     ]
    }
   ],
   "source": [
    "# simple stats\n",
    "! samtools flagstat sorted_test_align5.10.bam"
   ]
  },
  {
   "cell_type": "code",
   "execution_count": 13,
   "metadata": {},
   "outputs": [],
   "source": [
    "# now need to figure out which reads map to apc genes\n",
    "# write a seperate python script\n",
    "! samtools view sorted_5aln.bam > aln_info.txt"
   ]
  },
  {
   "cell_type": "markdown",
   "metadata": {},
   "source": [
    "Important! The tags at the end of the BAM file like NM:i:84 and cm:i:58 are tags created by minimap2, and are explained here: https://lh3.github.io/minimap2/minimap2.html\n",
    "DP means dynamic programming?"
   ]
  },
  {
   "cell_type": "code",
   "execution_count": null,
   "metadata": {},
   "outputs": [],
   "source": []
  }
 ],
 "metadata": {
  "kernelspec": {
   "display_name": "splicing",
   "language": "python",
   "name": "python3"
  },
  "language_info": {
   "codemirror_mode": {
    "name": "ipython",
    "version": 3
   },
   "file_extension": ".py",
   "mimetype": "text/x-python",
   "name": "python",
   "nbconvert_exporter": "python",
   "pygments_lexer": "ipython3",
   "version": "3.12.7"
  }
 },
 "nbformat": 4,
 "nbformat_minor": 4
}
